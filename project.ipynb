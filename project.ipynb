{
 "cells": [
  {
   "attachments": {},
   "cell_type": "markdown",
   "metadata": {},
   "source": [
    "# The Relationship Between a Hotel's Geographical Proximity to the Center of the Country and Its Price"
   ]
  },
  {
   "attachments": {},
   "cell_type": "markdown",
   "metadata": {},
   "source": [
    "* Yarin Cohen, ID: 211361720\n",
    "* Amit Shiber, ID: 322372582"
   ]
  },
  {
   "attachments": {},
   "cell_type": "markdown",
   "metadata": {},
   "source": [
    "## About Our Project"
   ]
  },
  {
   "attachments": {},
   "cell_type": "markdown",
   "metadata": {},
   "source": [
    "From time to time the issue of the periphery versus the center of the country comes up in the media. We decided to research more about the subject and check the hotel prices in the cities near Tel Aviv and in the distant cities. After crawling the data from the hotel website, we will use an additional function with an API to calculate distances between two locations. Is there a connection between the price of hotel charges and its proximity to the center of country?"
   ]
  },
  {
   "attachments": {},
   "cell_type": "markdown",
   "metadata": {},
   "source": [
    "### Information Sources and Data Acquisition Methods"
   ]
  },
  {
   "attachments": {},
   "cell_type": "markdown",
   "metadata": {},
   "source": [
    "* **Crawling Booking.com** - One of the largest online travel agencies. As of December 31, 2022, Booking.com offered lodging reservation services for approximately 2.7 million properties, including 400,000 hotels, motels, and resorts and 2.3 million homes, apartments in over 220 countries and in over 40 languages. It will help us getting data about the hotels in this project.\n",
    "\n",
    "* **GeoDB Cities API** - Online cities database. It exposes city, region, and country data via both GraphQL and REST APIs. It will help us calculate the distance between two cities."
   ]
  },
  {
   "attachments": {},
   "cell_type": "markdown",
   "metadata": {},
   "source": [
    "### Data Set Description"
   ]
  },
  {
   "attachments": {},
   "cell_type": "markdown",
   "metadata": {},
   "source": [
    "Each line in the data set represents a hotel.\n",
    "\n",
    "Columns representation in the data set:\n",
    "* Hotel name\n",
    "* Hotel Address\n",
    "* Hotel Description\n",
    "* Price per night (on a fixed date, the cheapest deal)\n",
    "* Score - general\n",
    "* Score - stuff\n",
    "* Score - facilities\n",
    "* Score - convenience\n",
    "* Score - value for money\n",
    "* Score - location\n",
    "* Score - clean\n",
    "* Proximity to the center of the country (km)"
   ]
  },
  {
   "attachments": {},
   "cell_type": "markdown",
   "metadata": {},
   "source": [
    "### Machine Learning"
   ]
  },
  {
   "attachments": {},
   "cell_type": "markdown",
   "metadata": {},
   "source": [
    "* **Type of ML**: Regression\n",
    "\n",
    "* We will start with easy regression models (one variable and low powers) and try to go through each pair of an explanatory variable and an explained variable.\n",
    "\n",
    "* There is no rule that says how many variables make a regression heavy and sluggish. If the software starts to falter, we will stop and think whether adding the variables and holdings will contribute to the prediction or only to the complications of calculation, memory, etc. We are required to exercise discretion between predictability and complications and resources such as private time.\n",
    "\n",
    "* If the learning results are not satisfactory, we will use\n",
    "in classification and division into price levels."
   ]
  },
  {
   "attachments": {},
   "cell_type": "markdown",
   "metadata": {},
   "source": [
    "## Imports"
   ]
  },
  {
   "cell_type": "code",
   "execution_count": 61,
   "metadata": {},
   "outputs": [],
   "source": [
    "import requests\n",
    "import bs4\n",
    "from bs4 import BeautifulSoup\n",
    "import time\n",
    "import random\n",
    "from tqdm import tqdm\n",
    "import pandas as pd\n",
    "import scipy as sc\n",
    "import pandas as pd\n",
    "import numpy as np\n",
    "import matplotlib as mpl\n",
    "import matplotlib.pyplot as plt\n",
    "import seaborn as sns\n",
    "from collections import Counter\n",
    "import sklearn\n",
    "from sklearn import linear_model, metrics, preprocessing\n",
    "from sklearn.preprocessing import StandardScaler, MinMaxScaler\n",
    "from sklearn.linear_model import LogisticRegression, LinearRegression\n",
    "from sklearn.metrics import r2_score, f1_score\n",
    "%matplotlib inline"
   ]
  },
  {
   "attachments": {},
   "cell_type": "markdown",
   "metadata": {},
   "source": [
    "## Step 1: Defining a Research Question"
   ]
  },
  {
   "attachments": {},
   "cell_type": "markdown",
   "metadata": {},
   "source": [
    "Is it possible to predict the price of a night in a certain hotel, based on its proximity to the center and the score given to it by surfers in the various categories?"
   ]
  },
  {
   "attachments": {},
   "cell_type": "markdown",
   "metadata": {},
   "source": [
    "## Step 2: Data Acquisition"
   ]
  },
  {
   "attachments": {},
   "cell_type": "markdown",
   "metadata": {},
   "source": [
    "### Data Acquisition by Crawling"
   ]
  },
  {
   "attachments": {},
   "cell_type": "markdown",
   "metadata": {},
   "source": [
    "First of all, we will check Booking.com's Robots.txt terms, to understand if there are any pages we can't crawl: https://booking.com/robots.txt"
   ]
  },
  {
   "attachments": {},
   "cell_type": "markdown",
   "metadata": {},
   "source": [
    "* We will start by searching manually on Booking's main page for a vacation in Israel, on 01-02/08/2023.\n",
    "\n",
    "* The results page will be crawled first.\n",
    "* Due to complexity of HTML elements, we will use the mobile version of Booking.\n",
    "* <a href=\"https://www.booking.com/searchresults.he.html?ss=%D7%99%D7%A9%D7%A8%D7%90%D7%9C&ss=%D7%99%D7%A9%D7%A8%D7%90%D7%9C&group_adults=2&group_children=0&no_rooms=1&sb_travel_purpose=leisure&ssne=%D7%99%D7%A9%D7%A8%D7%90%D7%9C&ssne_untouched=%D7%99%D7%A9%D7%A8%D7%90%D7%9C&sb_changed_dates=1&label=gen173nr-1BCAEoggI46AdIM1gEaGqIAQGYAQ64AQfIAQzYAQHoAQGIAgGoAgO4AsPO_6IGwAIB0gIkN2EzYmVmMjgtNTkwYS00YjMyLWI5ZmUtMmZjMTQwOTdmM2I42AIF4AIB&sid=ae3ca57b743d1747c5f828a2fabc4587&aid=304142&lang=he&sb=1&src_elem=sb&src=searchresults&dest_id=103&dest_type=country&checkin=2024-02-01&checkout=2024-02-02&prefer_site_type=mdot\" >This is</a> the first page will be crawled."
   ]
  },
  {
   "attachments": {},
   "cell_type": "markdown",
   "metadata": {},
   "source": [
    "#### Auxiliary Functions"
   ]
  },
  {
   "cell_type": "code",
   "execution_count": 62,
   "metadata": {},
   "outputs": [],
   "source": [
    "# Load soup object:\n",
    "\n",
    "def loadSoupObject(url):\n",
    "\n",
    "    headers = { \"User-Agent\": \"Mozilla/5.0 (iPhone; CPU iPhone OS 15_0 like Mac OS X) AppleWebKit/605.1.15 (KHTML, like Gecko) Mobile/15E148\" }\n",
    "    \n",
    "    time.sleep(random.randint(1,5))\n",
    "    r = requests.get(url, headers=headers).content\n",
    "    \n",
    "    return BeautifulSoup(r,\"html.parser\")"
   ]
  },
  {
   "cell_type": "code",
   "execution_count": 63,
   "metadata": {},
   "outputs": [],
   "source": [
    "# Getting URLs of all the hotels in the page:\n",
    "\n",
    "def getHotelsURL(soupObj):\n",
    "\n",
    "    links = []\n",
    "   \n",
    "    for link in soupObj.findAll(\"a\", {\"data-testid\" : \"title\"}):\n",
    "        links.append(link.get(\"href\"))\n",
    "\n",
    "    return links"
   ]
  },
  {
   "cell_type": "code",
   "execution_count": 64,
   "metadata": {},
   "outputs": [],
   "source": [
    "# Getting URL of the next results page:\n",
    "\n",
    "def getNextPage(soupObj):\n",
    "    return soupObj.find(\"a\", {\"title\" : \"Next page\"}).get(\"href\")"
   ]
  },
  {
   "cell_type": "code",
   "execution_count": 65,
   "metadata": {},
   "outputs": [],
   "source": [
    "# Getting information from a hotel page:\n",
    "\n",
    "def getHotelData(soupObj):\n",
    "\n",
    "    dataOfHotel = []\n",
    "\n",
    "    # Hotel name:\n",
    "    name = soupObj.find(\"span\",{\"class\" : \"hp-header--title--text\"})\n",
    "    dataOfHotel.append(name.text if name else np.nan)\n",
    "\n",
    "    # Hotel address:\n",
    "    add = soupObj.find(\"span\",{\"class\" : \"js_hp_address_text_line\"})\n",
    "    dataOfHotel.append(add.text if add else np.nan)\n",
    "\n",
    "    # Hotel description:\n",
    "    desc = soupObj.find(\"div\",{\"class\" : \"page-section--content\"})\n",
    "    dataOfHotel.append(desc.text if desc else np.nan)\n",
    "    \n",
    "    # Price per night (on a fixed date, the cheapest deal):\n",
    "    price = soupObj.find(\"div\",{\"class\" : \"prco-js-headline-price\"})\n",
    "    dataOfHotel.append(price.text if price else np.nan)\n",
    "\n",
    "    # Score - general:\n",
    "    score = soupObj.find(\"div\",{\"data-testid\" : \"review-score-component\"})\n",
    "    dataOfHotel.append(score.text if score else np.nan)\n",
    "\n",
    "    # Score - stuff:\n",
    "    # dataOfHotel.append(soupObj.find(\"div\",{\"id\" : \":rb:-label\"}).text)\n",
    "\n",
    "    # Score - facilities:\n",
    "    # dataOfHotel.append(soupObj.find(\"div\",{\"id\" : \":r9:-label\"}).text)\n",
    "\n",
    "    # Score - convenience:\n",
    "    # dataOfHotel.append(soupObj.find(\"div\",{\"id\" : \":ra:-label\"}).text)\n",
    "\n",
    "    # Score - value for money:\n",
    "    value = soupObj.find(\"div\",{\"id\" : \":R5m:-label\"})\n",
    "    dataOfHotel.append(value.text if value else np.nan)\n",
    "\n",
    "    # Score - location:\n",
    "    location = soupObj.find(\"div\",{\"id\" : \":R4m:-label\"})\n",
    "    dataOfHotel.append(location.text if location else np.nan)\n",
    "\n",
    "    # Score - clean:\n",
    "    clean = soupObj.find(\"div\",{\"id\" : \":R56:-label\"})\n",
    "    dataOfHotel.append(clean.text if clean else np.nan)\n",
    "\n",
    "    return dataOfHotel\n"
   ]
  },
  {
   "cell_type": "code",
   "execution_count": 66,
   "metadata": {},
   "outputs": [],
   "source": [
    "# The whole process of crawling all the hotels from results pages:\n",
    "\n",
    "def getAllHotels(urlResults):\n",
    "\n",
    "    currentPage = loadSoupObject(urlResults)\n",
    "\n",
    "    resultsPages = []\n",
    "    hotelsLinks = []\n",
    "\n",
    "    # Collecting links of results pages:\n",
    "\n",
    "    resultsPages.append(currentPage)\n",
    "\n",
    "    for i in tqdm(range(33), desc=\"Collecting next-links...\"):\n",
    "        \n",
    "        if (currentPage.find(\"a\", {\"title\" : \"Next page\"})):\n",
    "            nextPage = loadSoupObject(getNextPage(currentPage))\n",
    "            resultsPages.append(nextPage)\n",
    "            currentPage = nextPage\n",
    "\n",
    "            if not (currentPage.find(\"a\", {\"title\" : \"Next page\"})):\n",
    "                break\n",
    "\n",
    "    # Collecting links of hotels:\n",
    "\n",
    "    for page in tqdm(resultsPages,desc=\"Collecting links from result pages...\"):\n",
    "        hotelsLinks.extend(getHotelsURL(page))\n",
    "\n",
    "    # Crawling data from hotel pages\n",
    "\n",
    "    hotelsData = []\n",
    "\n",
    "    for link in tqdm(hotelsLinks, desc=\"Crawling hotels data...\"):\n",
    "        hotelsData.append(getHotelData(loadSoupObject(link)))\n",
    "\n",
    "    return hotelsData"
   ]
  },
  {
   "attachments": {},
   "cell_type": "markdown",
   "metadata": {},
   "source": [
    "#### Main Function"
   ]
  },
  {
   "cell_type": "code",
   "execution_count": 72,
   "metadata": {},
   "outputs": [],
   "source": [
    "searches = [\n",
    "    # All of Israel\n",
    "    \"https://www.booking.com/searchresults.en-us.html?ss=Israel&group_adults=2&group_children=0&no_rooms=1&sb_travel_purpose=leisure&ssne=Nazareth&ssne_untouched=Nazareth&sb_changed_dest=1&label=gen173nr-1FCAEoggI46AdIM1gEaGqIAQGYAQ64AQfIAQzYAQHoAQH4AQ2IAgGoAgO4AsPO_6IGwAIB0gIkN2EzYmVmMjgtNTkwYS00YjMyLWI5ZmUtMmZjMTQwOTdmM2I42AIG4AIB&sid=3835e8355663f34053900d62e4029676&aid=304142&lang=en-us&sb=1&src_elem=sb&src=searchresults&dest_id=103&dest_type=country&ac_position=0&ac_click_type=b&ac_langcode=en&ac_suggestion_list_length=5&search_selected=true&search_pageview_id=b14072e34a0d003f&ac_meta=GhBiMTQwNzJlMzRhMGQwMDNmIAAoATICZW46BmlzcmFlbEAASgBQAA%3D%3D&checkin=2024-02-01&checkout=2024-02-02&prefer_site_type=mdot\",\n",
    "\n",
    "    # Herzelia\n",
    "    \"https://www.booking.com/searchresults.html?ss=Herzelia%20%2C%20Center%20District%20Israel%2C%20Israel&ssne=Israel&ssne_untouched=Israel&label=gen173nr-1FCAEoggI46AdIM1gEaGqIAQGYAQ64AQfIAQzYAQHoAQH4AQ2IAgGoAgO4AsPO_6IGwAIB0gIkN2EzYmVmMjgtNTkwYS00YjMyLWI5ZmUtMmZjMTQwOTdmM2I42AIG4AIB&sid=3835e8355663f34053900d62e4029676&aid=304142&lang=en-us&sb=1&src_elem=sb&src=index&dest_id=-780136&dest_type=city&ac_position=0&ac_click_type=b&ac_langcode=en&ac_suggestion_list_length=5&search_selected=true&search_pageview_id=c143705976100181&ac_meta=GhBjMTQzNzA1OTc2MTAwMTgxIAAoATICZW46BmhlcnplbEAASgBQAA%3D%3D&checkin=2024-02-01&checkout=2024-02-02&group_adults=2&no_rooms=1&group_children=0&sb_travel_purpose=leisure&prefer_site_type=mdot\",\n",
    "\n",
    "    # Netanya\n",
    "    \"https://www.booking.com/searchresults.en-us.html?ss=Netanya%2C%20Center%20District%20Israel%2C%20Israel&group_adults=2&group_children=0&no_rooms=1&sb_travel_purpose=leisure&ssne=Herzliya&ssne_untouched=Herzliya&sb_changed_dest=1&label=gen173nr-1FCAEoggI46AdIM1gEaGqIAQGYAQ64AQfIAQzYAQHoAQH4AQ2IAgGoAgO4AsPO_6IGwAIB0gIkN2EzYmVmMjgtNTkwYS00YjMyLWI5ZmUtMmZjMTQwOTdmM2I42AIG4AIB&sid=3835e8355663f34053900d62e4029676&aid=304142&lang=en-us&sb=1&src_elem=sb&src=searchresults&dest_id=-780860&dest_type=city&ac_position=0&ac_click_type=b&ac_langcode=en&ac_suggestion_list_length=3&search_selected=true&search_pageview_id=84c970c1bc6a0337&ac_meta=GhA4NGM5NzBjMWJjNmEwMzM3IAAoATICZW46Bm5hdGFueUAASgBQAA%3D%3D&checkin=2024-02-01&checkout=2024-02-02&prefer_site_type=mdot\",\n",
    "\n",
    "    # Mizpe Ramon\n",
    "    \"https://www.booking.com/searchresults.en-us.html?ss=Mitzpe%20Ramon%2C%20South%20District%20Israel%2C%20Israel&group_adults=2&group_children=0&no_rooms=1&sb_travel_purpose=leisure&ssne=Israel&ssne_untouched=Israel&sb_changed_dest=1&label=gen173nr-1FCAEoggI46AdIM1gEaGqIAQGYAQ64AQfIAQzYAQHoAQH4AQ2IAgGoAgO4AsPO_6IGwAIB0gIkN2EzYmVmMjgtNTkwYS00YjMyLWI5ZmUtMmZjMTQwOTdmM2I42AIG4AIB&sid=3835e8355663f34053900d62e4029676&aid=304142&lang=en-us&sb=1&src_elem=sb&src=searchresults&dest_id=900040703&dest_type=city&ac_position=0&ac_click_type=b&ac_langcode=en&ac_suggestion_list_length=1&search_selected=true&search_pageview_id=27a3716c0fc000b9&ac_meta=GhAyN2EzNzE2YzBmYzAwMGI5IAAoATICZW46CG1penBlIHJhQABKAFAA&checkin=2024-02-01&checkout=2024-02-02&prefer_site_type=mdot\",\n",
    "\n",
    "    # Yeruham\n",
    "    \"https://www.booking.com/searchresults.en-us.html?ss=Yero%E1%BA%96am%2C%20South%20District%20Israel%2C%20Israel&ssne=Mitzpe%20Ramon&ssne_untouched=Mitzpe%20Ramon&label=gen173nr-1FCAEoggI46AdIM1gEaGqIAQGYAQ64AQfIAQzYAQHoAQH4AQ2IAgGoAgO4AsPO_6IGwAIB0gIkN2EzYmVmMjgtNTkwYS00YjMyLWI5ZmUtMmZjMTQwOTdmM2I42AIG4AIB&sid=3835e8355663f34053900d62e4029676&aid=304142&lang=en-us&sb=1&src_elem=sb&src=searchresults&dest_id=-781740&dest_type=city&ac_position=0&ac_click_type=b&ac_langcode=en&ac_suggestion_list_length=1&search_selected=true&search_pageview_id=0f8b727c12b502bb&ac_meta=GhAwZjhiNzI3YzEyYjUwMmJiIAAoATICZW46BXllcnVoQABKAFAA&checkin=2024-02-01&checkout=2024-02-02&group_adults=2&no_rooms=1&group_children=0&sb_travel_purpose=leisure&prefer_site_type=mdot\",\n",
    "\n",
    "    # Haifa\n",
    "    \"https://www.booking.com/searchresults.en-us.html?ss=Haifa%2C%20North%20District%20Israel%2C%20Israel&ssne=Yero%E1%BA%96am&ssne_untouched=Yero%E1%BA%96am&label=gen173nr-1FCAEoggI46AdIM1gEaGqIAQGYAQ64AQfIAQzYAQHoAQH4AQ2IAgGoAgO4AsPO_6IGwAIB0gIkN2EzYmVmMjgtNTkwYS00YjMyLWI5ZmUtMmZjMTQwOTdmM2I42AIG4AIB&sid=3835e8355663f34053900d62e4029676&aid=304142&lang=en-us&sb=1&src_elem=sb&src=searchresults&dest_id=-780112&dest_type=city&ac_position=0&ac_click_type=b&ac_langcode=en&ac_suggestion_list_length=5&search_selected=true&search_pageview_id=db0572851eec0161&ac_meta=GhBkYjA1NzI4NTFlZWMwMTYxIAAoATICZW46BWhhaWZhQABKAFAA&checkin=2024-02-01&checkout=2024-02-02&group_adults=2&no_rooms=1&group_children=0&sb_travel_purpose=leisure&prefer_site_type=mdot\",\n",
    "\n",
    "    # Nazareth\n",
    "    \"https://www.booking.com/searchresults.en-us.html?ss=Nazareth%2C%20North%20District%20Israel%2C%20Israel&group_adults=2&group_children=0&no_rooms=1&sb_travel_purpose=leisure&ssne=Haifa&ssne_untouched=Haifa&sb_changed_dest=1&label=gen173nr-1FCAEoggI46AdIM1gEaGqIAQGYAQ64AQfIAQzYAQHoAQH4AQ2IAgGoAgO4AsPO_6IGwAIB0gIkN2EzYmVmMjgtNTkwYS00YjMyLWI5ZmUtMmZjMTQwOTdmM2I42AIG4AIB&sid=3835e8355663f34053900d62e4029676&aid=304142&lang=en-us&sb=1&src_elem=sb&src=searchresults&dest_id=-780833&dest_type=city&ac_position=0&ac_click_type=b&ac_langcode=en&ac_suggestion_list_length=5&search_selected=true&search_pageview_id=817872d0f90601d0&ac_meta=GhA4MTc4NzJkMGY5MDYwMWQwIAAoATICZW46BG5henJAAEoAUAA%3D&checkin=2024-02-01&checkout=2024-02-02&prefer_site_type=mdot\",\n",
    "\n",
    "    # Israel's north district\n",
    "    \"https://www.booking.com/searchresults.en-us.html?ss=North%20District%20Israel%2C%20Israel&group_adults=2&group_children=0&no_rooms=1&sb_travel_purpose=leisure&ssne=Israel&ssne_untouched=Israel&sb_changed_dest=1&label=gen173nr-1FCAEoggI46AdIM1gEaGqIAQGYAQ64AQfIAQzYAQHoAQH4AQ2IAgGoAgO4AsPO_6IGwAIB0gIkN2EzYmVmMjgtNTkwYS00YjMyLWI5ZmUtMmZjMTQwOTdmM2I42AIG4AIB&sid=3835e8355663f34053900d62e4029676&aid=304142&lang=en-us&sb=1&src_elem=sb&src=searchresults&dest_id=3638&dest_type=region&ac_position=2&ac_click_type=b&ac_langcode=en&ac_suggestion_list_length=5&search_selected=true&search_pageview_id=1a9f72fd1422006b&ac_meta=GhAxYTlmNzJmZDE0MjIwMDZiIAIoATICZW46BklzcmFlbEAASgBQAA%3D%3D&checkin=2024-02-01&checkout=2024-02-02&prefer_site_type=mdot\",\n",
    "\n",
    "    # Israel's center district\n",
    "    \"https://www.booking.com/searchresults.en-us.html?ss=Center%20District%20Israel%2C%20Israel&group_adults=2&group_children=0&no_rooms=1&sb_travel_purpose=leisure&ssne=North%20District%20Israel&ssne_untouched=North%20District%20Israel&sb_changed_dest=1&label=gen173nr-1FCAEoggI46AdIM1gEaGqIAQGYAQ64AQfIAQzYAQHoAQH4AQ2IAgGoAgO4AsPO_6IGwAIB0gIkN2EzYmVmMjgtNTkwYS00YjMyLWI5ZmUtMmZjMTQwOTdmM2I42AIG4AIB&sid=3835e8355663f34053900d62e4029676&aid=304142&lang=en-us&sb=1&src_elem=sb&src=searchresults&dest_id=3640&dest_type=region&ac_position=3&ac_click_type=b&ac_langcode=en&ac_suggestion_list_length=5&search_selected=true&search_pageview_id=933f14476a1400bb&ac_meta=GhA5MzNmMTQ0NzZhMTQwMGJiIAMoATICZW46BmlzcmFlbEAASgBQAA%3D%3D&checkin=2024-02-01&checkout=2024-02-02&prefer_site_type=mdot\",\n",
    "\n",
    "    # Israel's south district\n",
    "    \"https://www.booking.com/searchresults.en-us.html?ss=South%20District%20Israel%2C%20Israel&group_adults=2&group_children=0&no_rooms=1&sb_travel_purpose=leisure&ssne=Center%20District%20Israel&ssne_untouched=Center%20District%20Israel&sb_changed_dest=1&label=gen173nr-1FCAEoggI46AdIM1gEaGqIAQGYAQ64AQfIAQzYAQHoAQH4AQ2IAgGoAgO4AsPO_6IGwAIB0gIkN2EzYmVmMjgtNTkwYS00YjMyLWI5ZmUtMmZjMTQwOTdmM2I42AIG4AIB&sid=3835e8355663f34053900d62e4029676&aid=304142&lang=en-us&sb=1&src_elem=sb&src=searchresults&dest_id=3642&dest_type=region&ac_position=4&ac_click_type=b&ac_langcode=en&ac_suggestion_list_length=5&search_selected=true&search_pageview_id=882f1456669801d5&ac_meta=GhA4ODJmMTQ1NjY2OTgwMWQ1IAQoATICZW46BWlzcmFlQABKAFAA&checkin=2024-02-01&checkout=2024-02-02&prefer_site_type=mdot\"\n",
    "\n",
    "]\n",
    "\n",
    "fullData = []"
   ]
  },
  {
   "cell_type": "code",
   "execution_count": 73,
   "metadata": {},
   "outputs": [
    {
     "name": "stderr",
     "output_type": "stream",
     "text": [
      "Collecting next-links...:  97%|█████████▋| 32/33 [02:41<00:05,  5.04s/it]\n",
      "Collecting links from result pages...: 100%|██████████| 34/34 [00:00<00:00, 411.00it/s]\n",
      "Crawling hotels data...: 100%|██████████| 1020/1020 [1:37:26<00:00,  5.73s/it]\n",
      "Collecting next-links...:  48%|████▊     | 16/33 [01:18<01:23,  4.89s/it]\n",
      "Collecting links from result pages...: 100%|██████████| 18/18 [00:00<00:00, 404.06it/s]\n",
      "Crawling hotels data...: 100%|██████████| 533/533 [51:13<00:00,  5.77s/it]\n",
      "Collecting next-links...:   3%|▎         | 1/33 [00:08<04:44,  8.88s/it]\n",
      "Collecting links from result pages...: 100%|██████████| 3/3 [00:00<00:00, 386.11it/s]\n",
      "Crawling hotels data...: 100%|██████████| 64/64 [05:59<00:00,  5.62s/it]\n",
      "Collecting next-links...: 100%|██████████| 33/33 [00:00<00:00, 634.16it/s]\n",
      "Collecting links from result pages...: 100%|██████████| 1/1 [00:00<00:00, 615.36it/s]\n",
      "Crawling hotels data...: 100%|██████████| 15/15 [01:23<00:00,  5.57s/it]\n",
      "Collecting next-links...: 100%|██████████| 33/33 [00:00<00:00, 529.86it/s]\n",
      "Collecting links from result pages...: 100%|██████████| 1/1 [00:00<00:00, 465.36it/s]\n",
      "Crawling hotels data...: 100%|██████████| 23/23 [02:08<00:00,  5.60s/it]\n",
      "Collecting next-links...:   9%|▉         | 3/33 [00:22<03:44,  7.50s/it]\n",
      "Collecting links from result pages...: 100%|██████████| 5/5 [00:00<00:00, 399.78it/s]\n",
      "Crawling hotels data...: 100%|██████████| 140/140 [13:20<00:00,  5.72s/it]\n",
      "Collecting next-links...:   0%|          | 0/33 [00:02<?, ?it/s]\n",
      "Collecting links from result pages...: 100%|██████████| 2/2 [00:00<00:00, 431.14it/s]\n",
      "Crawling hotels data...: 100%|██████████| 33/33 [03:14<00:00,  5.89s/it]\n",
      "Collecting next-links...:  79%|███████▉  | 26/33 [01:52<00:30,  4.33s/it]\n",
      "Collecting links from result pages...: 100%|██████████| 28/28 [00:00<00:00, 422.54it/s]\n",
      "Crawling hotels data...: 100%|██████████| 830/830 [1:16:49<00:00,  5.55s/it]\n",
      "Collecting next-links...:  55%|█████▍    | 18/33 [01:33<01:17,  5.17s/it]\n",
      "Collecting links from result pages...: 100%|██████████| 20/20 [00:00<00:00, 410.07it/s]\n",
      "Crawling hotels data...: 100%|██████████| 574/574 [56:07<00:00,  5.87s/it]  \n",
      "Collecting next-links...:  27%|██▋       | 9/33 [00:45<02:02,  5.11s/it]\n",
      "Collecting links from result pages...: 100%|██████████| 11/11 [00:00<00:00, 397.57it/s]\n",
      "Crawling hotels data...: 100%|██████████| 311/311 [29:54<00:00,  5.77s/it]\n"
     ]
    }
   ],
   "source": [
    "for index, url in enumerate(searches):\n",
    "    print(\"Cycle\",index,\"\\n\")\n",
    "    fullData.extend(getAllHotels(url))"
   ]
  },
  {
   "cell_type": "code",
   "execution_count": 76,
   "metadata": {},
   "outputs": [
    {
     "data": {
      "text/html": [
       "<div>\n",
       "<style scoped>\n",
       "    .dataframe tbody tr th:only-of-type {\n",
       "        vertical-align: middle;\n",
       "    }\n",
       "\n",
       "    .dataframe tbody tr th {\n",
       "        vertical-align: top;\n",
       "    }\n",
       "\n",
       "    .dataframe thead th {\n",
       "        text-align: right;\n",
       "    }\n",
       "</style>\n",
       "<table border=\"1\" class=\"dataframe\">\n",
       "  <thead>\n",
       "    <tr style=\"text-align: right;\">\n",
       "      <th></th>\n",
       "      <th>hotelName</th>\n",
       "      <th>hotelAddress</th>\n",
       "      <th>hotelDescription</th>\n",
       "      <th>pricePerNight</th>\n",
       "      <th>scoreGeneral</th>\n",
       "      <th>scoreValueForMoney</th>\n",
       "      <th>scoreLocation</th>\n",
       "      <th>scoreClean</th>\n",
       "    </tr>\n",
       "  </thead>\n",
       "  <tbody>\n",
       "    <tr>\n",
       "      <th>0</th>\n",
       "      <td>Melio Hotel Eilat</td>\n",
       "      <td>\\nSderot Hativat HaNegev 20, Eilat\\n</td>\n",
       "      <td>\\nSet in Eilat, within 1.2 km of Kisuski Beach...</td>\n",
       "      <td>\\n₪ 286\\n</td>\n",
       "      <td>7.9 Good · 1,074 reviews</td>\n",
       "      <td>8.4</td>\n",
       "      <td>7.8</td>\n",
       "      <td>8.4</td>\n",
       "    </tr>\n",
       "    <tr>\n",
       "      <th>1</th>\n",
       "      <td>Badolina Ein Gedi Glamping</td>\n",
       "      <td>\\nEin Gedi Street, Ein Gedi\\n</td>\n",
       "      <td>\\nDead Sea Camping is set in Ein Gedi, within ...</td>\n",
       "      <td>\\n₪ 130\\n</td>\n",
       "      <td>8.5 Very good · 810 reviews</td>\n",
       "      <td>7.7</td>\n",
       "      <td>9.2</td>\n",
       "      <td>8.3</td>\n",
       "    </tr>\n",
       "    <tr>\n",
       "      <th>2</th>\n",
       "      <td>Daniel Herzliya Hotel</td>\n",
       "      <td>\\n60 Ramat Yam Street, Herzelia \\n</td>\n",
       "      <td>\\nSet right on the beach, in the heart of Herz...</td>\n",
       "      <td>\\n₪ 854\\n</td>\n",
       "      <td>7.9 Good · 158 reviews</td>\n",
       "      <td>7.5</td>\n",
       "      <td>9.0</td>\n",
       "      <td>8.0</td>\n",
       "    </tr>\n",
       "    <tr>\n",
       "      <th>3</th>\n",
       "      <td>וילה תהילה המחודש - The new Villa Tehila</td>\n",
       "      <td>\\n7 Ha-Khalutsim Street ת. ד 3232 ראש פינה, Ro...</td>\n",
       "      <td>\\nSituated in Rosh Pinna, 6.5 km from Israel B...</td>\n",
       "      <td>\\n₪ 945\\n</td>\n",
       "      <td>9.1 Superb · 90 reviews</td>\n",
       "      <td>8.9</td>\n",
       "      <td>9.6</td>\n",
       "      <td>9.1</td>\n",
       "    </tr>\n",
       "    <tr>\n",
       "      <th>4</th>\n",
       "      <td>Sadot Hotel Ben Gurion Airport - an Atlas Bout...</td>\n",
       "      <td>\\nAssaf Harofe Center, Assaf Harofeh\\n</td>\n",
       "      <td>\\nThe Sadot Hotel is a design hotel in Be'er Y...</td>\n",
       "      <td>\\n₪ 630\\n</td>\n",
       "      <td>8.2 Very good · 894 reviews</td>\n",
       "      <td>7.8</td>\n",
       "      <td>7.8</td>\n",
       "      <td>8.8</td>\n",
       "    </tr>\n",
       "    <tr>\n",
       "      <th>...</th>\n",
       "      <td>...</td>\n",
       "      <td>...</td>\n",
       "      <td>...</td>\n",
       "      <td>...</td>\n",
       "      <td>...</td>\n",
       "      <td>...</td>\n",
       "      <td>...</td>\n",
       "      <td>...</td>\n",
       "    </tr>\n",
       "    <tr>\n",
       "      <th>3538</th>\n",
       "      <td>דירת גן מרווחת במיקום מעולה עם נטפליקס חינמי</td>\n",
       "      <td>\\nפרי מגדים 101 3, Ma'ale Adumim\\n</td>\n",
       "      <td>\\nLocated in Ma'ale Adumim, 6.7 km from Church...</td>\n",
       "      <td>\\n₪ 369\\n</td>\n",
       "      <td>5.8 Passable · 4 reviews</td>\n",
       "      <td>NaN</td>\n",
       "      <td>NaN</td>\n",
       "      <td>NaN</td>\n",
       "    </tr>\n",
       "    <tr>\n",
       "      <th>3539</th>\n",
       "      <td>CHAMBRES D’HÔTES EILAT</td>\n",
       "      <td>\\nSara iménou 19, Eilat\\n</td>\n",
       "      <td>\\nFeaturing sea views, CHAMBRES D’HÔTES EILAT ...</td>\n",
       "      <td>\\n₪ 450\\n</td>\n",
       "      <td>5.7 Passable · 3 reviews</td>\n",
       "      <td>NaN</td>\n",
       "      <td>NaN</td>\n",
       "      <td>NaN</td>\n",
       "    </tr>\n",
       "    <tr>\n",
       "      <th>3540</th>\n",
       "      <td>Chan Ardon Inn</td>\n",
       "      <td>\\nHar Ardon Street 4, Mitzpe Ramon\\n</td>\n",
       "      <td>\\nChan Ardon Inn features air-conditioned acco...</td>\n",
       "      <td>\\n₪ 5,000\\n</td>\n",
       "      <td>NaN</td>\n",
       "      <td>NaN</td>\n",
       "      <td>NaN</td>\n",
       "      <td>NaN</td>\n",
       "    </tr>\n",
       "    <tr>\n",
       "      <th>3541</th>\n",
       "      <td>The White Hill Guesthouse</td>\n",
       "      <td>\\n Ha-Dekel St 181, Yeroẖam\\n</td>\n",
       "      <td>\\nSituated in Yeroẖam, The White Hill Guesthou...</td>\n",
       "      <td>\\n₪ 121\\n</td>\n",
       "      <td>9.2 Superb · 115 reviews</td>\n",
       "      <td>9.2</td>\n",
       "      <td>9.4</td>\n",
       "      <td>9.5</td>\n",
       "    </tr>\n",
       "    <tr>\n",
       "      <th>3542</th>\n",
       "      <td>BH מתחם קמפינג ואוהלים</td>\n",
       "      <td>\\nמשק נבטים, Nevatim\\n</td>\n",
       "      <td>\\nSet 14 km from Ben Gurion University, BH מתח...</td>\n",
       "      <td>\\n₪ 60\\n</td>\n",
       "      <td>6.0 Pleasant · 10 reviews</td>\n",
       "      <td>NaN</td>\n",
       "      <td>NaN</td>\n",
       "      <td>NaN</td>\n",
       "    </tr>\n",
       "  </tbody>\n",
       "</table>\n",
       "<p>3543 rows × 8 columns</p>\n",
       "</div>"
      ],
      "text/plain": [
       "                                              hotelName  \\\n",
       "0                                     Melio Hotel Eilat   \n",
       "1                            Badolina Ein Gedi Glamping   \n",
       "2                                 Daniel Herzliya Hotel   \n",
       "3              וילה תהילה המחודש - The new Villa Tehila   \n",
       "4     Sadot Hotel Ben Gurion Airport - an Atlas Bout...   \n",
       "...                                                 ...   \n",
       "3538       דירת גן מרווחת במיקום מעולה עם נטפליקס חינמי   \n",
       "3539                             CHAMBRES D’HÔTES EILAT   \n",
       "3540                                     Chan Ardon Inn   \n",
       "3541                          The White Hill Guesthouse   \n",
       "3542                             BH מתחם קמפינג ואוהלים   \n",
       "\n",
       "                                           hotelAddress  \\\n",
       "0                  \\nSderot Hativat HaNegev 20, Eilat\\n   \n",
       "1                         \\nEin Gedi Street, Ein Gedi\\n   \n",
       "2                    \\n60 Ramat Yam Street, Herzelia \\n   \n",
       "3     \\n7 Ha-Khalutsim Street ת. ד 3232 ראש פינה, Ro...   \n",
       "4                \\nAssaf Harofe Center, Assaf Harofeh\\n   \n",
       "...                                                 ...   \n",
       "3538                 \\nפרי מגדים 101 3, Ma'ale Adumim\\n   \n",
       "3539                          \\nSara iménou 19, Eilat\\n   \n",
       "3540               \\nHar Ardon Street 4, Mitzpe Ramon\\n   \n",
       "3541                      \\n Ha-Dekel St 181, Yeroẖam\\n   \n",
       "3542                             \\nמשק נבטים, Nevatim\\n   \n",
       "\n",
       "                                       hotelDescription pricePerNight  \\\n",
       "0     \\nSet in Eilat, within 1.2 km of Kisuski Beach...     \\n₪ 286\\n   \n",
       "1     \\nDead Sea Camping is set in Ein Gedi, within ...     \\n₪ 130\\n   \n",
       "2     \\nSet right on the beach, in the heart of Herz...     \\n₪ 854\\n   \n",
       "3     \\nSituated in Rosh Pinna, 6.5 km from Israel B...     \\n₪ 945\\n   \n",
       "4     \\nThe Sadot Hotel is a design hotel in Be'er Y...     \\n₪ 630\\n   \n",
       "...                                                 ...           ...   \n",
       "3538  \\nLocated in Ma'ale Adumim, 6.7 km from Church...     \\n₪ 369\\n   \n",
       "3539  \\nFeaturing sea views, CHAMBRES D’HÔTES EILAT ...     \\n₪ 450\\n   \n",
       "3540  \\nChan Ardon Inn features air-conditioned acco...   \\n₪ 5,000\\n   \n",
       "3541  \\nSituated in Yeroẖam, The White Hill Guesthou...     \\n₪ 121\\n   \n",
       "3542  \\nSet 14 km from Ben Gurion University, BH מתח...      \\n₪ 60\\n   \n",
       "\n",
       "                     scoreGeneral scoreValueForMoney scoreLocation scoreClean  \n",
       "0        7.9 Good · 1,074 reviews                8.4           7.8        8.4  \n",
       "1     8.5 Very good · 810 reviews                7.7           9.2        8.3  \n",
       "2          7.9 Good · 158 reviews                7.5           9.0        8.0  \n",
       "3         9.1 Superb · 90 reviews                8.9           9.6        9.1  \n",
       "4     8.2 Very good · 894 reviews                7.8           7.8        8.8  \n",
       "...                           ...                ...           ...        ...  \n",
       "3538     5.8 Passable · 4 reviews                NaN           NaN        NaN  \n",
       "3539     5.7 Passable · 3 reviews                NaN           NaN        NaN  \n",
       "3540                          NaN                NaN           NaN        NaN  \n",
       "3541     9.2 Superb · 115 reviews                9.2           9.4        9.5  \n",
       "3542    6.0 Pleasant · 10 reviews                NaN           NaN        NaN  \n",
       "\n",
       "[3543 rows x 8 columns]"
      ]
     },
     "execution_count": 76,
     "metadata": {},
     "output_type": "execute_result"
    }
   ],
   "source": [
    "# Creating a data set:\n",
    "\n",
    "headers = [\"hotelName\", \"hotelAddress\", \"hotelDescription\", \"pricePerNight\",\"scoreGeneral\",\"scoreValueForMoney\",\"scoreLocation\",\"scoreClean\"]\n",
    "\n",
    "df = pd.DataFrame(fullData, columns=headers)\n",
    "df"
   ]
  },
  {
   "cell_type": "code",
   "execution_count": 75,
   "metadata": {},
   "outputs": [
    {
     "data": {
      "text/html": [
       "<div>\n",
       "<style scoped>\n",
       "    .dataframe tbody tr th:only-of-type {\n",
       "        vertical-align: middle;\n",
       "    }\n",
       "\n",
       "    .dataframe tbody tr th {\n",
       "        vertical-align: top;\n",
       "    }\n",
       "\n",
       "    .dataframe thead th {\n",
       "        text-align: right;\n",
       "    }\n",
       "</style>\n",
       "<table border=\"1\" class=\"dataframe\">\n",
       "  <thead>\n",
       "    <tr style=\"text-align: right;\">\n",
       "      <th></th>\n",
       "      <th>hotelName</th>\n",
       "      <th>hotelAddress</th>\n",
       "      <th>hotelDescription</th>\n",
       "      <th>pricePerNight</th>\n",
       "      <th>scoreGeneral</th>\n",
       "      <th>scoreValueForMoney</th>\n",
       "      <th>scoreLocation</th>\n",
       "      <th>scoreClean</th>\n",
       "    </tr>\n",
       "  </thead>\n",
       "  <tbody>\n",
       "    <tr>\n",
       "      <th>count</th>\n",
       "      <td>3542</td>\n",
       "      <td>3542</td>\n",
       "      <td>3542</td>\n",
       "      <td>3542</td>\n",
       "      <td>2831</td>\n",
       "      <td>2338</td>\n",
       "      <td>2338</td>\n",
       "      <td>2338</td>\n",
       "    </tr>\n",
       "    <tr>\n",
       "      <th>unique</th>\n",
       "      <td>1812</td>\n",
       "      <td>1709</td>\n",
       "      <td>2257</td>\n",
       "      <td>857</td>\n",
       "      <td>1038</td>\n",
       "      <td>37</td>\n",
       "      <td>36</td>\n",
       "      <td>36</td>\n",
       "    </tr>\n",
       "    <tr>\n",
       "      <th>top</th>\n",
       "      <td>ApartHotel Okeanos on the Beach</td>\n",
       "      <td>\\nHashunit 10, Herzelia \\n</td>\n",
       "      <td>\\nFew steps from the exclusive Herzliya Marina...</td>\n",
       "      <td>\\n₪ 720\\n</td>\n",
       "      <td>10 Exceptional · 1 review</td>\n",
       "      <td>10</td>\n",
       "      <td>10</td>\n",
       "      <td>10</td>\n",
       "    </tr>\n",
       "    <tr>\n",
       "      <th>freq</th>\n",
       "      <td>21</td>\n",
       "      <td>21</td>\n",
       "      <td>21</td>\n",
       "      <td>54</td>\n",
       "      <td>102</td>\n",
       "      <td>285</td>\n",
       "      <td>336</td>\n",
       "      <td>387</td>\n",
       "    </tr>\n",
       "  </tbody>\n",
       "</table>\n",
       "</div>"
      ],
      "text/plain": [
       "                              hotelName                hotelAddress  \\\n",
       "count                              3542                        3542   \n",
       "unique                             1812                        1709   \n",
       "top     ApartHotel Okeanos on the Beach  \\nHashunit 10, Herzelia \\n   \n",
       "freq                                 21                          21   \n",
       "\n",
       "                                         hotelDescription pricePerNight  \\\n",
       "count                                                3542          3542   \n",
       "unique                                               2257           857   \n",
       "top     \\nFew steps from the exclusive Herzliya Marina...     \\n₪ 720\\n   \n",
       "freq                                                   21            54   \n",
       "\n",
       "                     scoreGeneral scoreValueForMoney scoreLocation scoreClean  \n",
       "count                        2831               2338          2338       2338  \n",
       "unique                       1038                 37            36         36  \n",
       "top     10 Exceptional · 1 review                 10            10         10  \n",
       "freq                          102                285           336        387  "
      ]
     },
     "execution_count": 75,
     "metadata": {},
     "output_type": "execute_result"
    }
   ],
   "source": [
    "df.describe()"
   ]
  },
  {
   "cell_type": "code",
   "execution_count": 1,
   "metadata": {},
   "outputs": [],
   "source": [
    "# # Collecting links of results pages:\n",
    "\n",
    "# resultsPages.append(currentPage)\n",
    "\n",
    "# for i in range(33):\n",
    "#     nextPage = loadSoupObject(getNextPage(currentPage))\n",
    "#     resultsPages.append(nextPage)\n",
    "#     currentPage = nextPage"
   ]
  },
  {
   "cell_type": "code",
   "execution_count": 2,
   "metadata": {},
   "outputs": [],
   "source": [
    "# # Collecting links of hotels:\n",
    "\n",
    "# for page in resultsPages:\n",
    "#     hotelsLinks.extend(getHotelsURL(page))"
   ]
  },
  {
   "cell_type": "code",
   "execution_count": 3,
   "metadata": {},
   "outputs": [],
   "source": [
    "# urlResults = \"https://www.booking.com/searchresults.html?ss=%D7%99%D7%A9%D7%A8%D7%90%D7%9C&ss=%D7%99%D7%A9%D7%A8%D7%90%D7%9C&group_adults=2&group_children=0&no_rooms=1&sb_travel_purpose=leisure&ssne=%D7%99%D7%A9%D7%A8%D7%90%D7%9C&ssne_untouched=%D7%99%D7%A9%D7%A8%D7%90%D7%9C&sb_changed_dates=1&label=gen173nr-1BCAEoggI46AdIM1gEaGqIAQGYAQ64AQfIAQzYAQHoAQGIAgGoAgO4AsPO_6IGwAIB0gIkN2EzYmVmMjgtNTkwYS00YjMyLWI5ZmUtMmZjMTQwOTdmM2I42AIF4AIB&sid=ae3ca57b743d1747c5f828a2fabc4587&aid=304142&lang=en-us&sb=1&src_elem=sb&src=searchresults&dest_id=103&dest_type=country&checkin=2024-02-01&checkout=2024-02-02&prefer_site_type=mdot&soz=1&lang_changed=1\"\n",
    "# currentPage = loadSoupObject(urlResults)\n",
    "\n",
    "# resultsPages = []\n",
    "# hotelsLinks = []"
   ]
  },
  {
   "cell_type": "code",
   "execution_count": 4,
   "metadata": {},
   "outputs": [],
   "source": [
    "# # Collecting links of results pages:\n",
    "\n",
    "# resultsPages.append(currentPage)\n",
    "\n",
    "# for i in tqdm(range(33)):\n",
    "#     nextPage = loadSoupObject(getNextPage(currentPage))\n",
    "#     resultsPages.append(nextPage)\n",
    "#     currentPage = nextPage"
   ]
  },
  {
   "cell_type": "code",
   "execution_count": 5,
   "metadata": {},
   "outputs": [],
   "source": [
    "# # Collecting links of hotels:\n",
    "\n",
    "# for page in resultsPages:\n",
    "#     hotelsLinks.extend(getHotelsURL(page))"
   ]
  },
  {
   "cell_type": "code",
   "execution_count": 6,
   "metadata": {},
   "outputs": [],
   "source": [
    "# # Crawling data from hotel pages\n",
    "\n",
    "# hotelsData = []\n",
    "\n",
    "# for link in tqdm(hotelsLinks):\n",
    "#     hotelsData.append(getHotelData(loadSoupObject(link)))"
   ]
  },
  {
   "attachments": {},
   "cell_type": "markdown",
   "metadata": {},
   "source": [
    "### Data Acquisition by API"
   ]
  },
  {
   "attachments": {},
   "cell_type": "markdown",
   "metadata": {},
   "source": [
    "a little description and notes about this step..."
   ]
  },
  {
   "attachments": {},
   "cell_type": "markdown",
   "metadata": {},
   "source": [
    "#### Auxiliary Functions"
   ]
  },
  {
   "attachments": {},
   "cell_type": "markdown",
   "metadata": {},
   "source": [
    "In these two following function we calculate the distance between Tel-Aviv to another city.\n",
    "The calculation using an API which called GEODB in order to get the city ID and to find the distance."
   ]
  },
  {
   "cell_type": "code",
   "execution_count": 7,
   "metadata": {},
   "outputs": [],
   "source": [
    "import requests\n",
    "\n",
    "def getCityID(cityName):\n",
    "\n",
    "    # Set up the API endpoint URL\n",
    "    url = \"https://wft-geo-db.p.rapidapi.com/v1/geo/cities\"\n",
    "\n",
    "    # Set your API key and headers\n",
    "    api_key = \"b357d38c99mshac61197df8fd7c2p1d5cd7jsn2bfe93de690c\"\n",
    "    headers = {\n",
    "        \"X-RapidAPI-Key\": api_key,\n",
    "        \"X-RapidAPI-Host\": \"wft-geo-db.p.rapidapi.com\"\n",
    "    }\n",
    "\n",
    "    # Set the query parameters for the country code and name\n",
    "    params = {\n",
    "        \"countryIds\": \"IL\",\n",
    "        \"namePrefix\": cityName\n",
    "    }\n",
    "\n",
    "    # Send GET request to the API\n",
    "    response = requests.get(url, headers=headers, params=params)\n",
    "\n",
    "    # Check if the request was successful\n",
    "    if response.status_code == 200:\n",
    "        # Parse the response JSON\n",
    "        data = response.json()\n",
    "\n",
    "        # Check if any cities were found\n",
    "        if data[\"data\"]:\n",
    "            # Get the city ID from the first result\n",
    "            city_id = data[\"data\"][0][\"id\"]\n",
    "            print(\"City ID:\", city_id)\n",
    "            return city_id\n",
    "        else:\n",
    "            print(\"No matching cities found.\")\n",
    "            return np.nan\n",
    "    else:\n",
    "        print(\"Error:\", response.status_code)\n",
    "        return np.nan\n"
   ]
  },
  {
   "cell_type": "code",
   "execution_count": 8,
   "metadata": {},
   "outputs": [],
   "source": [
    "import requests\n",
    "\n",
    "def getCityDistance(cityID): #by my own with returns\n",
    "    url = \"https://wft-geo-db.p.rapidapi.com/v1/geo/cities/54067/distance\"\n",
    "\n",
    "    querystring = {\"fromCityId\":\"54067\",\"distanceUnit\":\"km\",\"toCityId\":cityID}\n",
    "\n",
    "    headers = {\n",
    "        \"X-RapidAPI-Key\": \"b357d38c99mshac61197df8fd7c2p1d5cd7jsn2bfe93de690c\",\n",
    "        \"X-RapidAPI-Host\": \"wft-geo-db.p.rapidapi.com\"\n",
    "    }\n",
    "\n",
    "    response = requests.get(url, headers=headers, params=querystring)\n",
    "\n",
    "    print(response.json())\n",
    "    data = response.json()\n",
    "\n",
    "    if \"data\" in data:\n",
    "        return data[\"data\"]\n",
    "    else:\n",
    "        return None\n",
    "\n",
    "\n"
   ]
  },
  {
   "attachments": {},
   "cell_type": "markdown",
   "metadata": {},
   "source": [
    "#### Main Function"
   ]
  },
  {
   "cell_type": "code",
   "execution_count": 9,
   "metadata": {},
   "outputs": [
    {
     "name": "stdout",
     "output_type": "stream",
     "text": [
      "City ID: 53902\n"
     ]
    },
    {
     "ename": "NameError",
     "evalue": "name 'time' is not defined",
     "output_type": "error",
     "traceback": [
      "\u001b[0;31m---------------------------------------------------------------------------\u001b[0m",
      "\u001b[0;31mNameError\u001b[0m                                 Traceback (most recent call last)",
      "\u001b[0;32m/var/folders/py/k7_4fcs533zgdg_c6z17hn8r0000gn/T/ipykernel_13589/3879791450.py\u001b[0m in \u001b[0;36m<module>\u001b[0;34m\u001b[0m\n\u001b[1;32m      1\u001b[0m \u001b[0mcityName\u001b[0m \u001b[0;34m=\u001b[0m \u001b[0;34m\"Haifa\"\u001b[0m\u001b[0;34m\u001b[0m\u001b[0;34m\u001b[0m\u001b[0m\n\u001b[1;32m      2\u001b[0m \u001b[0mcity_id\u001b[0m \u001b[0;34m=\u001b[0m \u001b[0mgetCityID\u001b[0m\u001b[0;34m(\u001b[0m\u001b[0mcityName\u001b[0m\u001b[0;34m)\u001b[0m\u001b[0;34m\u001b[0m\u001b[0;34m\u001b[0m\u001b[0m\n\u001b[0;32m----> 3\u001b[0;31m \u001b[0mtime\u001b[0m\u001b[0;34m.\u001b[0m\u001b[0msleep\u001b[0m\u001b[0;34m(\u001b[0m\u001b[0;36m1\u001b[0m\u001b[0;34m)\u001b[0m\u001b[0;34m\u001b[0m\u001b[0;34m\u001b[0m\u001b[0m\n\u001b[0m\u001b[1;32m      4\u001b[0m \u001b[0mcity_distance\u001b[0m \u001b[0;34m=\u001b[0m \u001b[0mgetCityDistance\u001b[0m\u001b[0;34m(\u001b[0m\u001b[0mcity_id\u001b[0m\u001b[0;34m)\u001b[0m\u001b[0;34m\u001b[0m\u001b[0;34m\u001b[0m\u001b[0m\n\u001b[1;32m      5\u001b[0m \u001b[0;32mif\u001b[0m \u001b[0mcity_distance\u001b[0m \u001b[0;32mis\u001b[0m \u001b[0;32mnot\u001b[0m \u001b[0;32mNone\u001b[0m\u001b[0;34m:\u001b[0m\u001b[0;34m\u001b[0m\u001b[0;34m\u001b[0m\u001b[0m\n",
      "\u001b[0;31mNameError\u001b[0m: name 'time' is not defined"
     ]
    }
   ],
   "source": [
    "\n",
    "cityName = \"Haifa\"\n",
    "city_id = getCityID(cityName)\n",
    "time.sleep(1)\n",
    "city_distance = getCityDistance(city_id)\n",
    "if city_distance is not None:\n",
    "    print(\"Distance:\", city_distance)\n",
    "else:\n",
    "    print(\"Distance information not available.\")\n"
   ]
  },
  {
   "attachments": {},
   "cell_type": "markdown",
   "metadata": {},
   "source": [
    "## Step 3: Data Handling"
   ]
  },
  {
   "attachments": {},
   "cell_type": "markdown",
   "metadata": {},
   "source": [
    "At this point, we will need to handle our data and organize it. For example, in the hotel data we crawled, some hotels do not have ratings on Booking.com. In addition, we will have to deal with duplicate hotels and outliers that do not reflect most of our data. Let's go for it!"
   ]
  },
  {
   "attachments": {},
   "cell_type": "markdown",
   "metadata": {},
   "source": [
    "### Auxiliary Functions"
   ]
  },
  {
   "cell_type": "code",
   "execution_count": null,
   "metadata": {},
   "outputs": [
    {
     "name": "stdout",
     "output_type": "stream",
     "text": [
      "              Full Address House Number      Street       City\n",
      "0         18 geulim, Holon           18      geulim      Holon\n",
      "1  25 Rothschild, Tel Aviv           25  Rothschild   Tel Aviv\n",
      "2   10 HaYarkon, Jerusalem           10    HaYarkon  Jerusalem\n"
     ]
    }
   ],
   "source": [
    "#extract the adress to three new columns\n",
    "\n",
    "import pandas as pd\n",
    "\n",
    "# Create a sample dataframe\n",
    "data = {'Full Address': ['18 geulim, Holon', '25 Rothschild, Tel Aviv', '10 HaYarkon, Jerusalem']}\n",
    "df1 = pd.DataFrame(data)\n",
    "\n",
    "#create 3 new columns\n",
    "df1['House Number'] = ''\n",
    "df1['Street'] = ''\n",
    "df1['City'] = ''\n",
    "#extract the data\n",
    "df1['House Number'] = df1['Full Address'].str.split(' ').str[0]\n",
    "df1['Street'] = df1['Full Address'].str.extract(r'\\s(.*?)\\,')\n",
    "df1['City'] = df1['Full Address'].str.split(',', 1).str[1].str.strip()\n",
    "\n",
    "print(df1)\n",
    "\n",
    "\n",
    "\n",
    "\n",
    "\n",
    "\n"
   ]
  },
  {
   "cell_type": "code",
   "execution_count": null,
   "metadata": {},
   "outputs": [
    {
     "name": "stdout",
     "output_type": "stream",
     "text": [
      "['Holon', 'Tel Aviv', 'Jerusalem']\n",
      "City ID: 3575840\n",
      "{'data': 7.2}\n",
      "City ID: 54067\n",
      "{'data': 0.0}\n",
      "City ID: 3713657\n",
      "{'data': 53.8}\n",
      "              Full Address House Number      Street       City distance-TLV\n",
      "0         18 geulim, Holon           18      geulim      Holon          7.2\n",
      "1  25 Rothschild, Tel Aviv           25  Rothschild   Tel Aviv          0.0\n",
      "2   10 HaYarkon, Jerusalem           10    HaYarkon  Jerusalem         53.8\n"
     ]
    }
   ],
   "source": [
    "# add a column with the distance from TLV\n",
    "df1['distance-TLV'] = ''\n",
    "\n",
    "city_name = df1['City'].tolist()\n",
    "print(city_name)\n",
    "TLVDis= []\n",
    "for city in city_name:\n",
    "    time.sleep(2)\n",
    "    city_id = getCityID(city)\n",
    "    time.sleep(1)\n",
    "    city_distance = getCityDistance(city_id)\n",
    "    TLVDis.append(city_distance)\n",
    "\n",
    "\n",
    "for j in range(len(TLVDis)):\n",
    "    df1.at[j,'distance-TLV'] = TLVDis[j]\n",
    "\n",
    "\n",
    "\n",
    "    # df1['distance-TLV'] = city_distance\n",
    "\n",
    "# cityName = \"Haifa\"\n",
    "# city_id = getCityID(cityName)\n",
    "# time.sleep(1)\n",
    "# city_distance = getCityDistance(city_id)\n",
    "# if city_distance is not None:\n",
    "#     print(\"Distance:\", city_distance)\n",
    "# else:\n",
    "#     print(\"Distance information not available.\")\n",
    "\n",
    "\n",
    "print(df1)"
   ]
  },
  {
   "cell_type": "code",
   "execution_count": null,
   "metadata": {},
   "outputs": [],
   "source": [
    "# Handling \"/n\" signs and others\n",
    "\n",
    "def cleanSigns(df, colName):\n",
    "\n",
    "    newDf = df.copy()\n",
    "    newDf[colName] = newDf[colName].str.replace(\"[\\n\\t\\r]\", \"\", regex=True)\n",
    "\n",
    "    return newDf"
   ]
  },
  {
   "cell_type": "code",
   "execution_count": null,
   "metadata": {},
   "outputs": [],
   "source": [
    "# Handling missing data:\n",
    "\n"
   ]
  },
  {
   "attachments": {},
   "cell_type": "markdown",
   "metadata": {},
   "source": [
    "The two following functions Handling  duplication:"
   ]
  },
  {
   "cell_type": "code",
   "execution_count": null,
   "metadata": {},
   "outputs": [],
   "source": [
    "# Handling  duplication:\n",
    "\n",
    "def count_duplicatives(df, col_name=None):\n",
    "    if col_name is None:\n",
    "        print(\"num of Duplicates\",df.duplicated().sum())\n",
    "        return df.duplicated().sum()\n",
    "    print(\"num of Duplicates\",df.duplicated().sum())\n",
    "    return df.duplicated([col_name]).sum()"
   ]
  },
  {
   "cell_type": "code",
   "execution_count": null,
   "metadata": {},
   "outputs": [],
   "source": [
    "def remove_duplicatives(df, col_name=None):\n",
    "    if col_name is None:\n",
    "        return df[~df.duplicated()]\n",
    "    return df[~df.duplicated([col_name])]"
   ]
  },
  {
   "cell_type": "code",
   "execution_count": null,
   "metadata": {},
   "outputs": [],
   "source": [
    "# Handling outliers:\n",
    "\n"
   ]
  },
  {
   "attachments": {},
   "cell_type": "markdown",
   "metadata": {},
   "source": [
    "### Main Function"
   ]
  },
  {
   "cell_type": "code",
   "execution_count": null,
   "metadata": {},
   "outputs": [],
   "source": [
    "# Main\n",
    "\n"
   ]
  },
  {
   "attachments": {},
   "cell_type": "markdown",
   "metadata": {},
   "source": [
    "### Data Duplication"
   ]
  },
  {
   "attachments": {},
   "cell_type": "markdown",
   "metadata": {},
   "source": [
    "#### Auxiliary Functions"
   ]
  },
  {
   "cell_type": "code",
   "execution_count": null,
   "metadata": {},
   "outputs": [],
   "source": [
    "# Code:\n",
    "\n"
   ]
  },
  {
   "attachments": {},
   "cell_type": "markdown",
   "metadata": {},
   "source": [
    "#### Main Function"
   ]
  },
  {
   "cell_type": "code",
   "execution_count": null,
   "metadata": {},
   "outputs": [],
   "source": [
    "# Main\n",
    "\n"
   ]
  },
  {
   "attachments": {},
   "cell_type": "markdown",
   "metadata": {},
   "source": [
    "### Outliers"
   ]
  },
  {
   "attachments": {},
   "cell_type": "markdown",
   "metadata": {},
   "source": [
    "#### Auxiliary Functions"
   ]
  },
  {
   "cell_type": "code",
   "execution_count": null,
   "metadata": {},
   "outputs": [],
   "source": [
    "# Code:\n",
    "\n"
   ]
  },
  {
   "attachments": {},
   "cell_type": "markdown",
   "metadata": {},
   "source": [
    "#### Main Function"
   ]
  },
  {
   "cell_type": "code",
   "execution_count": null,
   "metadata": {},
   "outputs": [],
   "source": [
    "# Main\n",
    "\n"
   ]
  },
  {
   "attachments": {},
   "cell_type": "markdown",
   "metadata": {},
   "source": [
    "## Step 4: Machine Learning"
   ]
  },
  {
   "attachments": {},
   "cell_type": "markdown",
   "metadata": {},
   "source": [
    "a little description and notes about this step..."
   ]
  },
  {
   "attachments": {},
   "cell_type": "markdown",
   "metadata": {},
   "source": [
    "#### Auxiliary Functions"
   ]
  },
  {
   "cell_type": "code",
   "execution_count": null,
   "metadata": {},
   "outputs": [],
   "source": [
    "# Code:\n",
    "\n"
   ]
  },
  {
   "attachments": {},
   "cell_type": "markdown",
   "metadata": {},
   "source": [
    "#### Main Function"
   ]
  },
  {
   "cell_type": "code",
   "execution_count": null,
   "metadata": {},
   "outputs": [],
   "source": [
    "# Main\n",
    "\n"
   ]
  }
 ],
 "metadata": {
  "kernelspec": {
   "display_name": "Python 3",
   "language": "python",
   "name": "python3"
  },
  "language_info": {
   "codemirror_mode": {
    "name": "ipython",
    "version": 3
   },
   "file_extension": ".py",
   "mimetype": "text/x-python",
   "name": "python",
   "nbconvert_exporter": "python",
   "pygments_lexer": "ipython3",
   "version": "3.9.13"
  },
  "orig_nbformat": 4
 },
 "nbformat": 4,
 "nbformat_minor": 2
}
