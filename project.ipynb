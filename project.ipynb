{
 "cells": [
  {
   "attachments": {},
   "cell_type": "markdown",
   "metadata": {},
   "source": [
    "# The Relationship Between a Hotel's Geographical Proximity to the Center of the Country and Its Price"
   ]
  },
  {
   "attachments": {},
   "cell_type": "markdown",
   "metadata": {},
   "source": [
    "* Yarin Cohen, ID: 211361720\n",
    "* Amit Shiber, ID: 322372582"
   ]
  },
  {
   "attachments": {},
   "cell_type": "markdown",
   "metadata": {},
   "source": [
    "## About Our Project"
   ]
  },
  {
   "attachments": {},
   "cell_type": "markdown",
   "metadata": {},
   "source": [
    "From time to time the issue of the periphery versus the center of the country comes up in the media. We decided to research more about the subject and check the hotel prices in the cities near Tel Aviv and in the distant cities. After crawling the data from the hotel website, we will use an additional function with an API to calculate distances between two locations. Is there a connection between the price of hotel charges and its proximity to the center of country?"
   ]
  },
  {
   "attachments": {},
   "cell_type": "markdown",
   "metadata": {},
   "source": [
    "### Information Sources and Data Acquisition Methods"
   ]
  },
  {
   "attachments": {},
   "cell_type": "markdown",
   "metadata": {},
   "source": [
    "* **Crawling Booking.com** - One of the largest online travel agencies. As of December 31, 2022, Booking.com offered lodging reservation services for approximately 2.7 million properties, including 400,000 hotels, motels, and resorts and 2.3 million homes, apartments in over 220 countries and in over 40 languages. It will help us getting data about the hotels in this project.\n",
    "\n",
    "* **GeoDB Cities API** - Online cities database. It exposes city, region, and country data via both GraphQL and REST APIs. It will help us calculate the distance between two cities."
   ]
  },
  {
   "attachments": {},
   "cell_type": "markdown",
   "metadata": {},
   "source": [
    "### Data Set Description"
   ]
  },
  {
   "attachments": {},
   "cell_type": "markdown",
   "metadata": {},
   "source": [
    "Each line in the data set represents a hotel.\n",
    "\n",
    "Columns representation in the data set:\n",
    "* Hotel name\n",
    "* Hotel Address\n",
    "* Hotel Description\n",
    "* Price per night (on a fixed date, the cheapest deal)\n",
    "* Score - general\n",
    "* Score - stuff\n",
    "* Score - facilities\n",
    "* Score - convenience\n",
    "* Score - value for money\n",
    "* Score - location\n",
    "* Score - clean\n",
    "* Proximity to the center of the country (km)"
   ]
  },
  {
   "attachments": {},
   "cell_type": "markdown",
   "metadata": {},
   "source": [
    "### Machine Learning"
   ]
  },
  {
   "attachments": {},
   "cell_type": "markdown",
   "metadata": {},
   "source": [
    "* **Type of ML**: Regression\n",
    "\n",
    "* We will start with easy regression models (one variable and low powers) and try to go through each pair of an explanatory variable and an explained variable.\n",
    "\n",
    "* There is no rule that says how many variables make a regression heavy and sluggish. If the software starts to falter, we will stop and think whether adding the variables and holdings will contribute to the prediction or only to the complications of calculation, memory, etc. We are required to exercise discretion between predictability and complications and resources such as private time.\n",
    "\n",
    "* If the learning results are not satisfactory, we will use\n",
    "in classification and division into price levels."
   ]
  },
  {
   "attachments": {},
   "cell_type": "markdown",
   "metadata": {},
   "source": [
    "## Imports"
   ]
  },
  {
   "cell_type": "code",
   "execution_count": 1,
   "metadata": {},
   "outputs": [],
   "source": [
    "import requests\n",
    "import bs4\n",
    "from bs4 import BeautifulSoup\n",
    "import time\n",
    "import random\n",
    "import pandas as pd\n",
    "import scipy as sc\n",
    "import pandas as pd\n",
    "import numpy as np\n",
    "import matplotlib as mpl\n",
    "import matplotlib.pyplot as plt\n",
    "import seaborn as sns\n",
    "from collections import Counter\n",
    "import sklearn\n",
    "from sklearn import linear_model, metrics, preprocessing\n",
    "from sklearn.preprocessing import StandardScaler, MinMaxScaler\n",
    "from sklearn.linear_model import LogisticRegression, LinearRegression\n",
    "from sklearn.metrics import r2_score, f1_score\n",
    "%matplotlib inline"
   ]
  },
  {
   "attachments": {},
   "cell_type": "markdown",
   "metadata": {},
   "source": [
    "## Step 1: Defining a Research Question"
   ]
  },
  {
   "attachments": {},
   "cell_type": "markdown",
   "metadata": {},
   "source": [
    "Is it possible to predict the price of a night in a certain hotel, based on its proximity to the center and the score given to it by surfers in the various categories?"
   ]
  },
  {
   "attachments": {},
   "cell_type": "markdown",
   "metadata": {},
   "source": [
    "## Step 2: Data Acquisition"
   ]
  },
  {
   "attachments": {},
   "cell_type": "markdown",
   "metadata": {},
   "source": [
    "### Data Acquisition by Crawling"
   ]
  },
  {
   "attachments": {},
   "cell_type": "markdown",
   "metadata": {},
   "source": [
    "First of all, we will check Booking.com's Robots.txt terms, to understand if there are any pages we can't crawl: https://booking.com/robots.txt"
   ]
  },
  {
   "attachments": {},
   "cell_type": "markdown",
   "metadata": {},
   "source": [
    "* We will start by searching manually on Booking's main page for a vacation in Israel, on 01-02/08/2023.\n",
    "\n",
    "* The results page will be crawled first.\n",
    "* Due to complexity of HTML elements, we will use the mobile version of Booking.\n",
    "* <a href=\"https://www.booking.com/searchresults.he.html?ss=%D7%99%D7%A9%D7%A8%D7%90%D7%9C&ss=%D7%99%D7%A9%D7%A8%D7%90%D7%9C&group_adults=2&group_children=0&no_rooms=1&sb_travel_purpose=leisure&ssne=%D7%99%D7%A9%D7%A8%D7%90%D7%9C&ssne_untouched=%D7%99%D7%A9%D7%A8%D7%90%D7%9C&sb_changed_dates=1&label=gen173nr-1BCAEoggI46AdIM1gEaGqIAQGYAQ64AQfIAQzYAQHoAQGIAgGoAgO4AsPO_6IGwAIB0gIkN2EzYmVmMjgtNTkwYS00YjMyLWI5ZmUtMmZjMTQwOTdmM2I42AIF4AIB&sid=ae3ca57b743d1747c5f828a2fabc4587&aid=304142&lang=he&sb=1&src_elem=sb&src=searchresults&dest_id=103&dest_type=country&checkin=2024-02-01&checkout=2024-02-02&prefer_site_type=mdot\" >This is</a> the first page will be crawled."
   ]
  },
  {
   "attachments": {},
   "cell_type": "markdown",
   "metadata": {},
   "source": [
    "#### Auxiliary Functions"
   ]
  },
  {
   "cell_type": "code",
   "execution_count": 2,
   "metadata": {},
   "outputs": [],
   "source": [
    "# Load soup object:\n",
    "\n",
    "def loadSoupObject(url):\n",
    "\n",
    "    headers = { \"User-Agent\": \"Mozilla/5.0 (iPhone; CPU iPhone OS 15_0 like Mac OS X) AppleWebKit/605.1.15 (KHTML, like Gecko) Mobile/15E148\" }\n",
    "    \n",
    "    time.sleep(random.randint(1,5))\n",
    "    r = requests.get(url, headers=headers).content\n",
    "    \n",
    "    return BeautifulSoup(r,\"html.parser\")"
   ]
  },
  {
   "cell_type": "code",
   "execution_count": 3,
   "metadata": {},
   "outputs": [],
   "source": [
    "# Getting URLs of all the hotels in the page:\n",
    "\n",
    "def getHotelsURL(soupObj):\n",
    "\n",
    "    links = []\n",
    "   \n",
    "    for link in soupObj.findAll(\"a\", {\"data-testid\" : \"title\"}):\n",
    "        links.append(link.get(\"href\"))\n",
    "\n",
    "    return links"
   ]
  },
  {
   "cell_type": "code",
   "execution_count": 4,
   "metadata": {},
   "outputs": [],
   "source": [
    "# Getting URL of the next results page:\n",
    "\n",
    "def getNextPage(soupObj):\n",
    "    return soupObj.find(\"a\", {\"title\" : \"לעמוד הבא\"}).get(\"href\")"
   ]
  },
  {
   "cell_type": "code",
   "execution_count": 5,
   "metadata": {},
   "outputs": [],
   "source": [
    "# Getting information from a hotel page:\n",
    "\n",
    "def getHotelData(soupObj):\n",
    "\n",
    "    dataOfHotel = []\n",
    "\n",
    "    # Hotel name:\n",
    "    dataOfHotel.append(soupObj.find(\"span\",{\"class\" : \"hp-header--title--text\"}).text)\n",
    "\n",
    "    # Hotel address:\n",
    "    dataOfHotel.append(soupObj.find(\"span\",{\"class\" : \"js_hp_address_text_line\"}).text)\n",
    "\n",
    "    # Hotel description:\n",
    "    dataOfHotel.append(soupObj.find(\"div\",{\"class\" : \"page-section--content\"}).text)\n",
    "    \n",
    "    # Price per night (on a fixed date, the cheapest deal):\n",
    "    dataOfHotel.append(soupObj.find(\"div\",{\"class\" : \"prco-js-headline-price\"}).text)\n",
    "\n",
    "    # Score - general:\n",
    "    dataOfHotel.append(soupObj.find(\"div\",{\"data-testid\" : \"review-score-component\"}).text)\n",
    "\n",
    "    # Score - stuff:\n",
    "    # dataOfHotel.append(soupObj.find(\"div\",{\"id\" : \":rb:-label\"}).text)\n",
    "\n",
    "    # Score - facilities:\n",
    "    # dataOfHotel.append(soupObj.find(\"div\",{\"id\" : \":r9:-label\"}).text)\n",
    "\n",
    "    # Score - convenience:\n",
    "    # dataOfHotel.append(soupObj.find(\"div\",{\"id\" : \":ra:-label\"}).text)\n",
    "\n",
    "    # Score - value for money:\n",
    "    dataOfHotel.append(soupObj.find(\"div\",{\"id\" : \":R5m:-label\"}).text)\n",
    "\n",
    "    # Score - location:\n",
    "    dataOfHotel.append(soupObj.find(\"div\",{\"id\" : \":R4m:-label\"}).text)\n",
    "\n",
    "    # Score - clean:\n",
    "    dataOfHotel.append(soupObj.find(\"div\",{\"id\" : \":R56:-label\"}).text)\n",
    "\n",
    "\n",
    "    return dataOfHotel\n"
   ]
  },
  {
   "attachments": {},
   "cell_type": "markdown",
   "metadata": {},
   "source": [
    "#### Main Function"
   ]
  },
  {
   "cell_type": "code",
   "execution_count": 6,
   "metadata": {},
   "outputs": [],
   "source": [
    "urlResults = \"https://www.booking.com/searchresults.he.html?ss=%D7%99%D7%A9%D7%A8%D7%90%D7%9C&ss=%D7%99%D7%A9%D7%A8%D7%90%D7%9C&group_adults=2&group_children=0&no_rooms=1&sb_travel_purpose=leisure&ssne=%D7%99%D7%A9%D7%A8%D7%90%D7%9C&ssne_untouched=%D7%99%D7%A9%D7%A8%D7%90%D7%9C&sb_changed_dates=1&label=gen173nr-1BCAEoggI46AdIM1gEaGqIAQGYAQ64AQfIAQzYAQHoAQGIAgGoAgO4AsPO_6IGwAIB0gIkN2EzYmVmMjgtNTkwYS00YjMyLWI5ZmUtMmZjMTQwOTdmM2I42AIF4AIB&sid=ae3ca57b743d1747c5f828a2fabc4587&aid=304142&lang=he&sb=1&src_elem=sb&src=searchresults&dest_id=103&dest_type=country&checkin=2024-02-01&checkout=2024-02-02&prefer_site_type=mdot\"\n",
    "currentPage = loadSoupObject(urlResults)\n",
    "\n",
    "resultsPages = []\n",
    "hotelsLinks = []"
   ]
  },
  {
   "cell_type": "code",
   "execution_count": 7,
   "metadata": {},
   "outputs": [],
   "source": [
    "# Collecting links of results pages:\n",
    "\n",
    "resultsPages.append(currentPage)\n",
    "\n",
    "for i in range(33):\n",
    "    nextPage = loadSoupObject(getNextPage(currentPage))\n",
    "    resultsPages.append(nextPage)\n",
    "    currentPage = nextPage"
   ]
  },
  {
   "cell_type": "code",
   "execution_count": 8,
   "metadata": {},
   "outputs": [],
   "source": [
    "# Collecting links of hotels:\n",
    "\n",
    "for page in resultsPages:\n",
    "    hotelsLinks.extend(getHotelsURL(page))"
   ]
  },
  {
   "cell_type": "code",
   "execution_count": 9,
   "metadata": {},
   "outputs": [
    {
     "data": {
      "text/plain": [
       "['Hotel Noel Jerusalem',\n",
       " '\\n9 Shamai Street, ירושלים\\n',\n",
       " '\\nמלון נואל ירושלים (Hotel Noel Jerusalem) שוכן במיקום אטרקטיבי בירושלים, וכולל ארוחת בוקר א-לה-קארט ואינטרנט אלחוטי בחינם. מקום האירוח נמצא במרחק של כ-1.9 ק\"מ מהכותל המערבי, במרחק של 3.2 ק\"מ מכנסיית כל העמים ובמרחק של 3.2 ק\"מ מגן גת שמנים. תוכלו\\n …\\n\\n\\n\\nהצג עוד\\n\\n\\n\\n',\n",
       " '\\n1,029\\xa0₪\\n',\n",
       " '8.7 נהדר\\xa0·\\xa0360 חוות דעת',\n",
       " '8.2',\n",
       " '9.5',\n",
       " '9.0']"
      ]
     },
     "execution_count": 9,
     "metadata": {},
     "output_type": "execute_result"
    }
   ],
   "source": [
    "# Crawling data from hotel pages and creating a data set:\n",
    "\n",
    "getHotelData(loadSoupObject(hotelsLinks[0]))"
   ]
  },
  {
   "attachments": {},
   "cell_type": "markdown",
   "metadata": {},
   "source": [
    "### Data Acquisition by API"
   ]
  },
  {
   "attachments": {},
   "cell_type": "markdown",
   "metadata": {},
   "source": [
    "a little description and notes about this step..."
   ]
  },
  {
   "attachments": {},
   "cell_type": "markdown",
   "metadata": {},
   "source": [
    "#### Auxiliary Functions"
   ]
  },
  {
   "attachments": {},
   "cell_type": "markdown",
   "metadata": {},
   "source": [
    "In these two following function we calculate the distance between Tel-Aviv to another city.\n",
    "The calculation using an API which called GEODB in order to get the city ID and to find the distance."
   ]
  },
  {
   "cell_type": "code",
   "execution_count": 69,
   "metadata": {},
   "outputs": [],
   "source": [
    "import requests\n",
    "\n",
    "def getCityID(cityName):\n",
    "\n",
    "    # Set up the API endpoint URL\n",
    "    url = \"https://wft-geo-db.p.rapidapi.com/v1/geo/cities\"\n",
    "\n",
    "    # Set your API key and headers\n",
    "    api_key = \"b357d38c99mshac61197df8fd7c2p1d5cd7jsn2bfe93de690c\"\n",
    "    headers = {\n",
    "        \"X-RapidAPI-Key\": api_key,\n",
    "        \"X-RapidAPI-Host\": \"wft-geo-db.p.rapidapi.com\"\n",
    "    }\n",
    "\n",
    "    # Set the query parameters for the country code and name\n",
    "    params = {\n",
    "        \"countryIds\": \"IL\",\n",
    "        \"namePrefix\": cityName\n",
    "    }\n",
    "\n",
    "    # Send GET request to the API\n",
    "    response = requests.get(url, headers=headers, params=params)\n",
    "\n",
    "    # Check if the request was successful\n",
    "    if response.status_code == 200:\n",
    "        # Parse the response JSON\n",
    "        data = response.json()\n",
    "\n",
    "        # Check if any cities were found\n",
    "        if data[\"data\"]:\n",
    "            # Get the city ID from the first result\n",
    "            city_id = data[\"data\"][0][\"id\"]\n",
    "            print(\"City ID:\", city_id)\n",
    "            return city_id\n",
    "        else:\n",
    "            print(\"No matching cities found.\")\n",
    "            return np.nan\n",
    "    else:\n",
    "        print(\"Error:\", response.status_code)\n",
    "        return np.nan\n"
   ]
  },
  {
   "cell_type": "code",
   "execution_count": 62,
   "metadata": {},
   "outputs": [],
   "source": [
    "# import requests\n",
    "\n",
    "# def getCityDistance(cityID): #by my own without returns\n",
    "\n",
    "# \turl = \"https://wft-geo-db.p.rapidapi.com/v1/geo/cities/3310184/distance\"\n",
    "\n",
    "# \tquerystring = {\"fromCityId\":\"54067\",\"distanceUnit\":\"km\",\"toCityId\":cityID}\n",
    "\n",
    "# \theaders = {\n",
    "# \t\t\"X-RapidAPI-Key\": \"b357d38c99mshac61197df8fd7c2p1d5cd7jsn2bfe93de690c\",\n",
    "# \t\t\"X-RapidAPI-Host\": \"wft-geo-db.p.rapidapi.com\"\n",
    "# \t}\n",
    "\n",
    "# \tresponse = requests.get(url, headers=headers, params=querystring)\n",
    "\n",
    "# \tprint(response.json())"
   ]
  },
  {
   "cell_type": "code",
   "execution_count": 65,
   "metadata": {},
   "outputs": [],
   "source": [
    "# import requests\n",
    "\n",
    "# def getCityDistance(cityID): #by my own with returns\n",
    "#     url = \"https://wft-geo-db.p.rapidapi.com/v1/geo/cities/3310184/distance\"\n",
    "#     querystring = {\"fromCityId\": \"54067\", \"distanceUnit\": \"km\", \"toCityId\": cityID}\n",
    "#     headers = {\n",
    "#         \"X-RapidAPI-Key\": \"b357d38c99mshac61197df8fd7c2p1d5cd7jsn2bfe93de690c\",\n",
    "#         \"X-RapidAPI-Host\": \"wft-geo-db.p.rapidapi.com\"\n",
    "#     }\n",
    "#     response = requests.get(url, headers=headers, params=querystring)\n",
    "#     data = response.json()\n",
    "#     print(response.json())\n",
    "\n",
    "#     if \"distance\" in data:\n",
    "#         return data[\"distance\"]\n",
    "#     else:\n",
    "#         return None\n",
    "\n",
    "\n"
   ]
  },
  {
   "cell_type": "code",
   "execution_count": 70,
   "metadata": {},
   "outputs": [],
   "source": [
    "def calculateDistance(city_id): #from chat\n",
    "    url = f\"https://wft-geo-db.p.rapidapi.com/v1/geo/cities/{54067}/distance/{city_id}\"\n",
    "    headers = {\n",
    "        \"X-RapidAPI-Key\": \"b357d38c99mshac61197df8fd7c2p1d5cd7jsn2bfe93de690c\",\n",
    "        \"X-RapidAPI-Host\": \"wft-geo-db.p.rapidapi.com\"\n",
    "    }\n",
    "    response = requests.get(url, headers=headers)\n",
    "    data = response.json()\n",
    "    print(response.json())\n",
    "\n",
    "    if \"distance\" in data:\n",
    "        return data[\"distance\"]\n",
    "    else:\n",
    "        return None"
   ]
  },
  {
   "attachments": {},
   "cell_type": "markdown",
   "metadata": {},
   "source": [
    "#### Main Function"
   ]
  },
  {
   "cell_type": "code",
   "execution_count": 71,
   "metadata": {},
   "outputs": [
    {
     "name": "stdout",
     "output_type": "stream",
     "text": [
      "City ID: 3575840\n",
      "{'message': 'You have exceeded the rate limit per second for your plan, BASIC, by the API provider'}\n",
      "Unable to calculate the distance.\n"
     ]
    }
   ],
   "source": [
    "\n",
    "cityName = \"Holon\"\n",
    "city_id = getCityID(cityName)\n",
    "# city_distance = getCityDistance(city_id)\n",
    "# if city_distance is not None:\n",
    "#     print(\"Distance:\", city_distance)\n",
    "# else:\n",
    "#     print(\"Distance information not available.\")\n",
    "\n",
    "distance = calculateDistance(city_id)\n",
    "if distance is not None:\n",
    "    print(\"Distance:\", distance, \"km\")\n",
    "else:\n",
    "    print(\"Unable to calculate the distance.\")"
   ]
  },
  {
   "attachments": {},
   "cell_type": "markdown",
   "metadata": {},
   "source": [
    "## Step 3: Data Handling"
   ]
  },
  {
   "attachments": {},
   "cell_type": "markdown",
   "metadata": {},
   "source": [
    "a little description and notes about this step..."
   ]
  },
  {
   "attachments": {},
   "cell_type": "markdown",
   "metadata": {},
   "source": [
    "### Missing Data"
   ]
  },
  {
   "attachments": {},
   "cell_type": "markdown",
   "metadata": {},
   "source": [
    "#### Auxiliary Functions"
   ]
  },
  {
   "cell_type": "code",
   "execution_count": 12,
   "metadata": {},
   "outputs": [],
   "source": [
    "# Code:\n",
    "\n"
   ]
  },
  {
   "attachments": {},
   "cell_type": "markdown",
   "metadata": {},
   "source": [
    "#### Main Function"
   ]
  },
  {
   "cell_type": "code",
   "execution_count": 13,
   "metadata": {},
   "outputs": [],
   "source": [
    "# Main\n",
    "\n"
   ]
  },
  {
   "attachments": {},
   "cell_type": "markdown",
   "metadata": {},
   "source": [
    "### Data Duplication"
   ]
  },
  {
   "attachments": {},
   "cell_type": "markdown",
   "metadata": {},
   "source": [
    "#### Auxiliary Functions"
   ]
  },
  {
   "cell_type": "code",
   "execution_count": 14,
   "metadata": {},
   "outputs": [],
   "source": [
    "# Code:\n",
    "\n"
   ]
  },
  {
   "attachments": {},
   "cell_type": "markdown",
   "metadata": {},
   "source": [
    "#### Main Function"
   ]
  },
  {
   "cell_type": "code",
   "execution_count": 15,
   "metadata": {},
   "outputs": [],
   "source": [
    "# Main\n",
    "\n"
   ]
  },
  {
   "attachments": {},
   "cell_type": "markdown",
   "metadata": {},
   "source": [
    "### Outliers"
   ]
  },
  {
   "attachments": {},
   "cell_type": "markdown",
   "metadata": {},
   "source": [
    "#### Auxiliary Functions"
   ]
  },
  {
   "cell_type": "code",
   "execution_count": 16,
   "metadata": {},
   "outputs": [],
   "source": [
    "# Code:\n",
    "\n"
   ]
  },
  {
   "attachments": {},
   "cell_type": "markdown",
   "metadata": {},
   "source": [
    "#### Main Function"
   ]
  },
  {
   "cell_type": "code",
   "execution_count": 17,
   "metadata": {},
   "outputs": [],
   "source": [
    "# Main\n",
    "\n"
   ]
  },
  {
   "attachments": {},
   "cell_type": "markdown",
   "metadata": {},
   "source": [
    "## Step 4: Machine Learning"
   ]
  },
  {
   "attachments": {},
   "cell_type": "markdown",
   "metadata": {},
   "source": [
    "a little description and notes about this step..."
   ]
  },
  {
   "attachments": {},
   "cell_type": "markdown",
   "metadata": {},
   "source": [
    "#### Auxiliary Functions"
   ]
  },
  {
   "cell_type": "code",
   "execution_count": 18,
   "metadata": {},
   "outputs": [],
   "source": [
    "# Code:\n",
    "\n"
   ]
  },
  {
   "attachments": {},
   "cell_type": "markdown",
   "metadata": {},
   "source": [
    "#### Main Function"
   ]
  },
  {
   "cell_type": "code",
   "execution_count": 19,
   "metadata": {},
   "outputs": [],
   "source": [
    "# Main\n",
    "\n"
   ]
  }
 ],
 "metadata": {
  "kernelspec": {
   "display_name": "Python 3",
   "language": "python",
   "name": "python3"
  },
  "language_info": {
   "codemirror_mode": {
    "name": "ipython",
    "version": 3
   },
   "file_extension": ".py",
   "mimetype": "text/x-python",
   "name": "python",
   "nbconvert_exporter": "python",
   "pygments_lexer": "ipython3",
   "version": "3.9.13"
  },
  "orig_nbformat": 4
 },
 "nbformat": 4,
 "nbformat_minor": 2
}
