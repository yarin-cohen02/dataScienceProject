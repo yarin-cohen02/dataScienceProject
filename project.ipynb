{
 "cells": [
  {
   "attachments": {},
   "cell_type": "markdown",
   "metadata": {},
   "source": [
    "# The Relationship Between a Hotel's Geographical Proximity to the Center of the Country and Its Price"
   ]
  },
  {
   "attachments": {},
   "cell_type": "markdown",
   "metadata": {},
   "source": [
    "* Yarin Cohen, ID: 211361720\n",
    "* Amit Shiber, ID: 322372582"
   ]
  },
  {
   "attachments": {},
   "cell_type": "markdown",
   "metadata": {},
   "source": [
    "## About Our Project"
   ]
  },
  {
   "attachments": {},
   "cell_type": "markdown",
   "metadata": {},
   "source": [
    "From time to time the issue of the periphery versus the center of the country comes up in the media. We decided to research more about the subject and check the hotel prices in the cities near Tel Aviv and in the distant cities. After crawling the data from the hotel website, we will use an additional function with an API to calculate distances between two locations. Is there a connection between the price of hotel charges and its proximity to the center of country?"
   ]
  },
  {
   "attachments": {},
   "cell_type": "markdown",
   "metadata": {},
   "source": [
    "### Information Sources and Data Acquisition Methods"
   ]
  },
  {
   "attachments": {},
   "cell_type": "markdown",
   "metadata": {},
   "source": [
    "* **Crawling Booking.com** - One of the largest online travel agencies. As of December 31, 2022, Booking.com offered lodging reservation services for approximately 2.7 million properties, including 400,000 hotels, motels, and resorts and 2.3 million homes, apartments in over 220 countries and in over 40 languages. It will help us getting data about the hotels in this project.\n",
    "\n",
    "* **GeoDB Cities API** - Online cities database. It exposes city, region, and country data via both GraphQL and REST APIs. It will help us calculate the distance between two cities."
   ]
  },
  {
   "attachments": {},
   "cell_type": "markdown",
   "metadata": {},
   "source": [
    "### Data Set Description"
   ]
  },
  {
   "attachments": {},
   "cell_type": "markdown",
   "metadata": {},
   "source": [
    "Each line in the data set represents a hotel.\n",
    "\n",
    "Columns representation in the data set:\n",
    "* Hotel name\n",
    "* Hotel Address\n",
    "* Hotel Description\n",
    "* Price per night (on a fixed date, the cheapest deal)\n",
    "* Score - general\n",
    "* Score - stuff\n",
    "* Score - facilities\n",
    "* Score - convenience\n",
    "* Score - value for money\n",
    "* Score - location\n",
    "* Score - clean\n",
    "* Proximity to the center of the country (km)"
   ]
  },
  {
   "attachments": {},
   "cell_type": "markdown",
   "metadata": {},
   "source": [
    "### Machine Learning"
   ]
  },
  {
   "attachments": {},
   "cell_type": "markdown",
   "metadata": {},
   "source": [
    "* **Type of ML**: Regression\n",
    "\n",
    "* We will start with easy regression models (one variable and low powers) and try to go through each pair of an explanatory variable and an explained variable.\n",
    "\n",
    "* There is no rule that says how many variables make a regression heavy and sluggish. If the software starts to falter, we will stop and think whether adding the variables and holdings will contribute to the prediction or only to the complications of calculation, memory, etc. We are required to exercise discretion between predictability and complications and resources such as private time.\n",
    "\n",
    "* If the learning results are not satisfactory, we will use\n",
    "in classification and division into price levels."
   ]
  },
  {
   "attachments": {},
   "cell_type": "markdown",
   "metadata": {},
   "source": [
    "## Imports"
   ]
  },
  {
   "cell_type": "code",
   "execution_count": 1,
   "metadata": {},
   "outputs": [],
   "source": [
    "import requests\n",
    "import bs4\n",
    "from bs4 import BeautifulSoup\n",
    "import time\n",
    "import random\n",
    "from tqdm import tqdm\n",
    "import pandas as pd\n",
    "import scipy as sc\n",
    "import pandas as pd\n",
    "import numpy as np\n",
    "import matplotlib as mpl\n",
    "import matplotlib.pyplot as plt\n",
    "import seaborn as sns\n",
    "from collections import Counter\n",
    "import sklearn\n",
    "from sklearn import linear_model, metrics, preprocessing\n",
    "from sklearn.preprocessing import StandardScaler, MinMaxScaler\n",
    "from sklearn.linear_model import LogisticRegression, LinearRegression\n",
    "from sklearn.metrics import r2_score, f1_score\n",
    "%matplotlib inline"
   ]
  },
  {
   "attachments": {},
   "cell_type": "markdown",
   "metadata": {},
   "source": [
    "## Step 1: Defining a Research Question"
   ]
  },
  {
   "attachments": {},
   "cell_type": "markdown",
   "metadata": {},
   "source": [
    "Is it possible to predict the price of a night in a certain hotel, based on its proximity to the center and the score given to it by surfers in the various categories?"
   ]
  },
  {
   "attachments": {},
   "cell_type": "markdown",
   "metadata": {},
   "source": [
    "## Step 2: Data Acquisition"
   ]
  },
  {
   "attachments": {},
   "cell_type": "markdown",
   "metadata": {},
   "source": [
    "### Data Acquisition by Crawling"
   ]
  },
  {
   "attachments": {},
   "cell_type": "markdown",
   "metadata": {},
   "source": [
    "First of all, we will check Booking.com's Robots.txt terms, to understand if there are any pages we can't crawl: https://booking.com/robots.txt"
   ]
  },
  {
   "attachments": {},
   "cell_type": "markdown",
   "metadata": {},
   "source": [
    "* We will start by searching manually on Booking's main page for a vacation in Israel, on 01-02/08/2023.\n",
    "\n",
    "* The results page will be crawled first.\n",
    "* Due to complexity of HTML elements, we will use the mobile version of Booking.\n",
    "* <a href=\"https://www.booking.com/searchresults.he.html?ss=%D7%99%D7%A9%D7%A8%D7%90%D7%9C&ss=%D7%99%D7%A9%D7%A8%D7%90%D7%9C&group_adults=2&group_children=0&no_rooms=1&sb_travel_purpose=leisure&ssne=%D7%99%D7%A9%D7%A8%D7%90%D7%9C&ssne_untouched=%D7%99%D7%A9%D7%A8%D7%90%D7%9C&sb_changed_dates=1&label=gen173nr-1BCAEoggI46AdIM1gEaGqIAQGYAQ64AQfIAQzYAQHoAQGIAgGoAgO4AsPO_6IGwAIB0gIkN2EzYmVmMjgtNTkwYS00YjMyLWI5ZmUtMmZjMTQwOTdmM2I42AIF4AIB&sid=ae3ca57b743d1747c5f828a2fabc4587&aid=304142&lang=he&sb=1&src_elem=sb&src=searchresults&dest_id=103&dest_type=country&checkin=2024-02-01&checkout=2024-02-02&prefer_site_type=mdot\" >This is</a> the first page will be crawled."
   ]
  },
  {
   "attachments": {},
   "cell_type": "markdown",
   "metadata": {},
   "source": [
    "#### Auxiliary Functions"
   ]
  },
  {
   "cell_type": "code",
   "execution_count": 2,
   "metadata": {},
   "outputs": [],
   "source": [
    "# Load soup object:\n",
    "\n",
    "def loadSoupObject(url):\n",
    "\n",
    "    headers = { \"User-Agent\": \"Mozilla/5.0 (iPhone; CPU iPhone OS 15_0 like Mac OS X) AppleWebKit/605.1.15 (KHTML, like Gecko) Mobile/15E148\" }\n",
    "    \n",
    "    time.sleep(random.randint(1,5))\n",
    "    r = requests.get(url, headers=headers).content\n",
    "    \n",
    "    return BeautifulSoup(r,\"html.parser\")"
   ]
  },
  {
   "cell_type": "code",
   "execution_count": 3,
   "metadata": {},
   "outputs": [],
   "source": [
    "# Getting URLs of all the hotels in the page:\n",
    "\n",
    "def getHotelsURL(soupObj):\n",
    "\n",
    "    links = []\n",
    "   \n",
    "    for link in soupObj.findAll(\"a\", {\"data-testid\" : \"title\"}):\n",
    "        links.append(link.get(\"href\"))\n",
    "\n",
    "    return links"
   ]
  },
  {
   "cell_type": "code",
   "execution_count": 4,
   "metadata": {},
   "outputs": [],
   "source": [
    "# Getting URL of the next results page:\n",
    "\n",
    "def getNextPage(soupObj):\n",
    "    return soupObj.find(\"a\", {\"title\" : \"Next page\"}).get(\"href\")"
   ]
  },
  {
   "cell_type": "code",
   "execution_count": 5,
   "metadata": {},
   "outputs": [],
   "source": [
    "# Getting information from a hotel page:\n",
    "\n",
    "def getHotelData(soupObj):\n",
    "\n",
    "    dataOfHotel = []\n",
    "\n",
    "    # Hotel name:\n",
    "    name = soupObj.find(\"span\",{\"class\" : \"hp-header--title--text\"})\n",
    "    dataOfHotel.append(name.text if name else np.nan)\n",
    "\n",
    "    # Hotel address:\n",
    "    add = soupObj.find(\"span\",{\"class\" : \"js_hp_address_text_line\"})\n",
    "    dataOfHotel.append(add.text if add else np.nan)\n",
    "\n",
    "    # Hotel description:\n",
    "    desc = soupObj.find(\"div\",{\"class\" : \"page-section--content\"})\n",
    "    dataOfHotel.append(desc.text if desc else np.nan)\n",
    "    \n",
    "    # Price per night (on a fixed date, the cheapest deal):\n",
    "    price = soupObj.find(\"div\",{\"class\" : \"prco-js-headline-price\"})\n",
    "    dataOfHotel.append(price.text if price else np.nan)\n",
    "\n",
    "    # Score - general:\n",
    "    score = soupObj.find(\"div\",{\"data-testid\" : \"review-score-component\"})\n",
    "    dataOfHotel.append(score.text if score else np.nan)\n",
    "\n",
    "    # Score - stuff:\n",
    "    # dataOfHotel.append(soupObj.find(\"div\",{\"id\" : \":rb:-label\"}).text)\n",
    "\n",
    "    # Score - facilities:\n",
    "    # dataOfHotel.append(soupObj.find(\"div\",{\"id\" : \":r9:-label\"}).text)\n",
    "\n",
    "    # Score - convenience:\n",
    "    # dataOfHotel.append(soupObj.find(\"div\",{\"id\" : \":ra:-label\"}).text)\n",
    "\n",
    "    # Score - value for money:\n",
    "    value = soupObj.find(\"div\",{\"id\" : \":R5m:-label\"})\n",
    "    dataOfHotel.append(value.text if value else np.nan)\n",
    "\n",
    "    # Score - location:\n",
    "    location = soupObj.find(\"div\",{\"id\" : \":R4m:-label\"})\n",
    "    dataOfHotel.append(location.text if location else np.nan)\n",
    "\n",
    "    # Score - clean:\n",
    "    clean = soupObj.find(\"div\",{\"id\" : \":R56:-label\"})\n",
    "    dataOfHotel.append(clean.text if clean else np.nan)\n",
    "\n",
    "    return dataOfHotel\n"
   ]
  },
  {
   "cell_type": "code",
   "execution_count": 89,
   "metadata": {},
   "outputs": [],
   "source": [
    "# The whole process of crawling all the hotels from results pages:\n",
    "\n",
    "def getAllHotels(urlResults):\n",
    "\n",
    "    currentPage = loadSoupObject(urlResults)\n",
    "\n",
    "    resultsPages = []\n",
    "    hotelsLinks = []\n",
    "\n",
    "    # Collecting links of results pages:\n",
    "\n",
    "    resultsPages.append(currentPage)\n",
    "\n",
    "    for i in tqdm(range(33)):\n",
    "        nextPage = loadSoupObject(getNextPage(currentPage))\n",
    "        resultsPages.append(nextPage)\n",
    "        currentPage = nextPage\n",
    "        if not (currentPage.find(\"a\", {\"title\" : \"Next page\"})):\n",
    "            break\n",
    "\n",
    "    # Collecting links of hotels:\n",
    "\n",
    "    for page in resultsPages:\n",
    "        hotelsLinks.extend(getHotelsURL(page))\n",
    "\n",
    "    # Crawling data from hotel pages\n",
    "\n",
    "    hotelsData = []\n",
    "\n",
    "    for link in tqdm(hotelsLinks):\n",
    "        hotelsData.append(getHotelData(loadSoupObject(link)))\n",
    "\n",
    "    return hotelsData"
   ]
  },
  {
   "attachments": {},
   "cell_type": "markdown",
   "metadata": {},
   "source": [
    "#### Main Function"
   ]
  },
  {
   "cell_type": "code",
   "execution_count": 6,
   "metadata": {},
   "outputs": [],
   "source": [
    "searches = [\n",
    "    # All of Israel\n",
    "    \"https://www.booking.com/searchresults.en-us.html?ss=Israel&group_adults=2&group_children=0&no_rooms=1&sb_travel_purpose=leisure&ssne=Nazareth&ssne_untouched=Nazareth&sb_changed_dest=1&label=gen173nr-1FCAEoggI46AdIM1gEaGqIAQGYAQ64AQfIAQzYAQHoAQH4AQ2IAgGoAgO4AsPO_6IGwAIB0gIkN2EzYmVmMjgtNTkwYS00YjMyLWI5ZmUtMmZjMTQwOTdmM2I42AIG4AIB&sid=3835e8355663f34053900d62e4029676&aid=304142&lang=en-us&sb=1&src_elem=sb&src=searchresults&dest_id=103&dest_type=country&ac_position=0&ac_click_type=b&ac_langcode=en&ac_suggestion_list_length=5&search_selected=true&search_pageview_id=b14072e34a0d003f&ac_meta=GhBiMTQwNzJlMzRhMGQwMDNmIAAoATICZW46BmlzcmFlbEAASgBQAA%3D%3D&checkin=2024-02-01&checkout=2024-02-02&prefer_site_type=mdot\",\n",
    "\n",
    "    # Herzelia\n",
    "    \"https://www.booking.com/searchresults.html?ss=Herzelia%20%2C%20Center%20District%20Israel%2C%20Israel&ssne=Israel&ssne_untouched=Israel&label=gen173nr-1FCAEoggI46AdIM1gEaGqIAQGYAQ64AQfIAQzYAQHoAQH4AQ2IAgGoAgO4AsPO_6IGwAIB0gIkN2EzYmVmMjgtNTkwYS00YjMyLWI5ZmUtMmZjMTQwOTdmM2I42AIG4AIB&sid=3835e8355663f34053900d62e4029676&aid=304142&lang=en-us&sb=1&src_elem=sb&src=index&dest_id=-780136&dest_type=city&ac_position=0&ac_click_type=b&ac_langcode=en&ac_suggestion_list_length=5&search_selected=true&search_pageview_id=c143705976100181&ac_meta=GhBjMTQzNzA1OTc2MTAwMTgxIAAoATICZW46BmhlcnplbEAASgBQAA%3D%3D&checkin=2024-02-01&checkout=2024-02-02&group_adults=2&no_rooms=1&group_children=0&sb_travel_purpose=leisure&prefer_site_type=mdot\",\n",
    "\n",
    "    # Netanya\n",
    "    \"https://www.booking.com/searchresults.en-us.html?ss=Netanya%2C%20Center%20District%20Israel%2C%20Israel&group_adults=2&group_children=0&no_rooms=1&sb_travel_purpose=leisure&ssne=Herzliya&ssne_untouched=Herzliya&sb_changed_dest=1&label=gen173nr-1FCAEoggI46AdIM1gEaGqIAQGYAQ64AQfIAQzYAQHoAQH4AQ2IAgGoAgO4AsPO_6IGwAIB0gIkN2EzYmVmMjgtNTkwYS00YjMyLWI5ZmUtMmZjMTQwOTdmM2I42AIG4AIB&sid=3835e8355663f34053900d62e4029676&aid=304142&lang=en-us&sb=1&src_elem=sb&src=searchresults&dest_id=-780860&dest_type=city&ac_position=0&ac_click_type=b&ac_langcode=en&ac_suggestion_list_length=3&search_selected=true&search_pageview_id=84c970c1bc6a0337&ac_meta=GhA4NGM5NzBjMWJjNmEwMzM3IAAoATICZW46Bm5hdGFueUAASgBQAA%3D%3D&checkin=2024-02-01&checkout=2024-02-02&prefer_site_type=mdot\",\n",
    "\n",
    "    # Mizpe Ramon\n",
    "    \"https://www.booking.com/searchresults.en-us.html?ss=Mitzpe%20Ramon%2C%20South%20District%20Israel%2C%20Israel&group_adults=2&group_children=0&no_rooms=1&sb_travel_purpose=leisure&ssne=Israel&ssne_untouched=Israel&sb_changed_dest=1&label=gen173nr-1FCAEoggI46AdIM1gEaGqIAQGYAQ64AQfIAQzYAQHoAQH4AQ2IAgGoAgO4AsPO_6IGwAIB0gIkN2EzYmVmMjgtNTkwYS00YjMyLWI5ZmUtMmZjMTQwOTdmM2I42AIG4AIB&sid=3835e8355663f34053900d62e4029676&aid=304142&lang=en-us&sb=1&src_elem=sb&src=searchresults&dest_id=900040703&dest_type=city&ac_position=0&ac_click_type=b&ac_langcode=en&ac_suggestion_list_length=1&search_selected=true&search_pageview_id=27a3716c0fc000b9&ac_meta=GhAyN2EzNzE2YzBmYzAwMGI5IAAoATICZW46CG1penBlIHJhQABKAFAA&checkin=2024-02-01&checkout=2024-02-02&prefer_site_type=mdot\",\n",
    "\n",
    "    # Yeruham\n",
    "    \"https://www.booking.com/searchresults.en-us.html?ss=Yero%E1%BA%96am%2C%20South%20District%20Israel%2C%20Israel&ssne=Mitzpe%20Ramon&ssne_untouched=Mitzpe%20Ramon&label=gen173nr-1FCAEoggI46AdIM1gEaGqIAQGYAQ64AQfIAQzYAQHoAQH4AQ2IAgGoAgO4AsPO_6IGwAIB0gIkN2EzYmVmMjgtNTkwYS00YjMyLWI5ZmUtMmZjMTQwOTdmM2I42AIG4AIB&sid=3835e8355663f34053900d62e4029676&aid=304142&lang=en-us&sb=1&src_elem=sb&src=searchresults&dest_id=-781740&dest_type=city&ac_position=0&ac_click_type=b&ac_langcode=en&ac_suggestion_list_length=1&search_selected=true&search_pageview_id=0f8b727c12b502bb&ac_meta=GhAwZjhiNzI3YzEyYjUwMmJiIAAoATICZW46BXllcnVoQABKAFAA&checkin=2024-02-01&checkout=2024-02-02&group_adults=2&no_rooms=1&group_children=0&sb_travel_purpose=leisure&prefer_site_type=mdot\",\n",
    "\n",
    "    # Haifa\n",
    "    \"https://www.booking.com/searchresults.en-us.html?ss=Haifa%2C%20North%20District%20Israel%2C%20Israel&ssne=Yero%E1%BA%96am&ssne_untouched=Yero%E1%BA%96am&label=gen173nr-1FCAEoggI46AdIM1gEaGqIAQGYAQ64AQfIAQzYAQHoAQH4AQ2IAgGoAgO4AsPO_6IGwAIB0gIkN2EzYmVmMjgtNTkwYS00YjMyLWI5ZmUtMmZjMTQwOTdmM2I42AIG4AIB&sid=3835e8355663f34053900d62e4029676&aid=304142&lang=en-us&sb=1&src_elem=sb&src=searchresults&dest_id=-780112&dest_type=city&ac_position=0&ac_click_type=b&ac_langcode=en&ac_suggestion_list_length=5&search_selected=true&search_pageview_id=db0572851eec0161&ac_meta=GhBkYjA1NzI4NTFlZWMwMTYxIAAoATICZW46BWhhaWZhQABKAFAA&checkin=2024-02-01&checkout=2024-02-02&group_adults=2&no_rooms=1&group_children=0&sb_travel_purpose=leisure&prefer_site_type=mdot\",\n",
    "\n",
    "    # Nazareth\n",
    "    \"https://www.booking.com/searchresults.en-us.html?ss=Nazareth%2C%20North%20District%20Israel%2C%20Israel&group_adults=2&group_children=0&no_rooms=1&sb_travel_purpose=leisure&ssne=Haifa&ssne_untouched=Haifa&sb_changed_dest=1&label=gen173nr-1FCAEoggI46AdIM1gEaGqIAQGYAQ64AQfIAQzYAQHoAQH4AQ2IAgGoAgO4AsPO_6IGwAIB0gIkN2EzYmVmMjgtNTkwYS00YjMyLWI5ZmUtMmZjMTQwOTdmM2I42AIG4AIB&sid=3835e8355663f34053900d62e4029676&aid=304142&lang=en-us&sb=1&src_elem=sb&src=searchresults&dest_id=-780833&dest_type=city&ac_position=0&ac_click_type=b&ac_langcode=en&ac_suggestion_list_length=5&search_selected=true&search_pageview_id=817872d0f90601d0&ac_meta=GhA4MTc4NzJkMGY5MDYwMWQwIAAoATICZW46BG5henJAAEoAUAA%3D&checkin=2024-02-01&checkout=2024-02-02&prefer_site_type=mdot\",\n",
    "\n",
    "    # Israel's north district\n",
    "    \"https://www.booking.com/searchresults.en-us.html?ss=North%20District%20Israel%2C%20Israel&group_adults=2&group_children=0&no_rooms=1&sb_travel_purpose=leisure&ssne=Israel&ssne_untouched=Israel&sb_changed_dest=1&label=gen173nr-1FCAEoggI46AdIM1gEaGqIAQGYAQ64AQfIAQzYAQHoAQH4AQ2IAgGoAgO4AsPO_6IGwAIB0gIkN2EzYmVmMjgtNTkwYS00YjMyLWI5ZmUtMmZjMTQwOTdmM2I42AIG4AIB&sid=3835e8355663f34053900d62e4029676&aid=304142&lang=en-us&sb=1&src_elem=sb&src=searchresults&dest_id=3638&dest_type=region&ac_position=2&ac_click_type=b&ac_langcode=en&ac_suggestion_list_length=5&search_selected=true&search_pageview_id=1a9f72fd1422006b&ac_meta=GhAxYTlmNzJmZDE0MjIwMDZiIAIoATICZW46BklzcmFlbEAASgBQAA%3D%3D&checkin=2024-02-01&checkout=2024-02-02&prefer_site_type=mdot\"\n",
    "\n",
    "]\n",
    "\n",
    "fullData = []"
   ]
  },
  {
   "cell_type": "code",
   "execution_count": 7,
   "metadata": {},
   "outputs": [
    {
     "name": "stderr",
     "output_type": "stream",
     "text": [
      " 18%|█▊        | 6/33 [00:36<02:43,  6.04s/it]\n"
     ]
    },
    {
     "ename": "KeyboardInterrupt",
     "evalue": "",
     "output_type": "error",
     "traceback": [
      "\u001b[0;31m---------------------------------------------------------------------------\u001b[0m",
      "\u001b[0;31mKeyboardInterrupt\u001b[0m                         Traceback (most recent call last)",
      "\u001b[0;32m/var/folders/py/k7_4fcs533zgdg_c6z17hn8r0000gn/T/ipykernel_7218/2948920721.py\u001b[0m in \u001b[0;36m<module>\u001b[0;34m\u001b[0m\n\u001b[1;32m      1\u001b[0m \u001b[0;32mfor\u001b[0m \u001b[0murl\u001b[0m \u001b[0;32min\u001b[0m \u001b[0msearches\u001b[0m\u001b[0;34m:\u001b[0m\u001b[0;34m\u001b[0m\u001b[0;34m\u001b[0m\u001b[0m\n\u001b[0;32m----> 2\u001b[0;31m     \u001b[0mfullData\u001b[0m\u001b[0;34m.\u001b[0m\u001b[0mappend\u001b[0m\u001b[0;34m(\u001b[0m\u001b[0mgetAllHotels\u001b[0m\u001b[0;34m(\u001b[0m\u001b[0murl\u001b[0m\u001b[0;34m)\u001b[0m\u001b[0;34m)\u001b[0m\u001b[0;34m\u001b[0m\u001b[0;34m\u001b[0m\u001b[0m\n\u001b[0m",
      "\u001b[0;32m/var/folders/py/k7_4fcs533zgdg_c6z17hn8r0000gn/T/ipykernel_7218/2698856708.py\u001b[0m in \u001b[0;36mgetAllHotels\u001b[0;34m(urlResults)\u001b[0m\n\u001b[1;32m     13\u001b[0m \u001b[0;34m\u001b[0m\u001b[0m\n\u001b[1;32m     14\u001b[0m     \u001b[0;32mfor\u001b[0m \u001b[0mi\u001b[0m \u001b[0;32min\u001b[0m \u001b[0mtqdm\u001b[0m\u001b[0;34m(\u001b[0m\u001b[0mrange\u001b[0m\u001b[0;34m(\u001b[0m\u001b[0;36m33\u001b[0m\u001b[0;34m)\u001b[0m\u001b[0;34m)\u001b[0m\u001b[0;34m:\u001b[0m\u001b[0;34m\u001b[0m\u001b[0;34m\u001b[0m\u001b[0m\n\u001b[0;32m---> 15\u001b[0;31m         \u001b[0mnextPage\u001b[0m \u001b[0;34m=\u001b[0m \u001b[0mloadSoupObject\u001b[0m\u001b[0;34m(\u001b[0m\u001b[0mgetNextPage\u001b[0m\u001b[0;34m(\u001b[0m\u001b[0mcurrentPage\u001b[0m\u001b[0;34m)\u001b[0m\u001b[0;34m)\u001b[0m\u001b[0;34m\u001b[0m\u001b[0;34m\u001b[0m\u001b[0m\n\u001b[0m\u001b[1;32m     16\u001b[0m         \u001b[0mresultsPages\u001b[0m\u001b[0;34m.\u001b[0m\u001b[0mappend\u001b[0m\u001b[0;34m(\u001b[0m\u001b[0mnextPage\u001b[0m\u001b[0;34m)\u001b[0m\u001b[0;34m\u001b[0m\u001b[0;34m\u001b[0m\u001b[0m\n\u001b[1;32m     17\u001b[0m         \u001b[0mcurrentPage\u001b[0m \u001b[0;34m=\u001b[0m \u001b[0mnextPage\u001b[0m\u001b[0;34m\u001b[0m\u001b[0;34m\u001b[0m\u001b[0m\n",
      "\u001b[0;32m/var/folders/py/k7_4fcs533zgdg_c6z17hn8r0000gn/T/ipykernel_7218/2403885629.py\u001b[0m in \u001b[0;36mloadSoupObject\u001b[0;34m(url)\u001b[0m\n\u001b[1;32m      5\u001b[0m     \u001b[0mheaders\u001b[0m \u001b[0;34m=\u001b[0m \u001b[0;34m{\u001b[0m \u001b[0;34m\"User-Agent\"\u001b[0m\u001b[0;34m:\u001b[0m \u001b[0;34m\"Mozilla/5.0 (iPhone; CPU iPhone OS 15_0 like Mac OS X) AppleWebKit/605.1.15 (KHTML, like Gecko) Mobile/15E148\"\u001b[0m \u001b[0;34m}\u001b[0m\u001b[0;34m\u001b[0m\u001b[0;34m\u001b[0m\u001b[0m\n\u001b[1;32m      6\u001b[0m \u001b[0;34m\u001b[0m\u001b[0m\n\u001b[0;32m----> 7\u001b[0;31m     \u001b[0mtime\u001b[0m\u001b[0;34m.\u001b[0m\u001b[0msleep\u001b[0m\u001b[0;34m(\u001b[0m\u001b[0mrandom\u001b[0m\u001b[0;34m.\u001b[0m\u001b[0mrandint\u001b[0m\u001b[0;34m(\u001b[0m\u001b[0;36m1\u001b[0m\u001b[0;34m,\u001b[0m\u001b[0;36m5\u001b[0m\u001b[0;34m)\u001b[0m\u001b[0;34m)\u001b[0m\u001b[0;34m\u001b[0m\u001b[0;34m\u001b[0m\u001b[0m\n\u001b[0m\u001b[1;32m      8\u001b[0m     \u001b[0mr\u001b[0m \u001b[0;34m=\u001b[0m \u001b[0mrequests\u001b[0m\u001b[0;34m.\u001b[0m\u001b[0mget\u001b[0m\u001b[0;34m(\u001b[0m\u001b[0murl\u001b[0m\u001b[0;34m,\u001b[0m \u001b[0mheaders\u001b[0m\u001b[0;34m=\u001b[0m\u001b[0mheaders\u001b[0m\u001b[0;34m)\u001b[0m\u001b[0;34m.\u001b[0m\u001b[0mcontent\u001b[0m\u001b[0;34m\u001b[0m\u001b[0;34m\u001b[0m\u001b[0m\n\u001b[1;32m      9\u001b[0m \u001b[0;34m\u001b[0m\u001b[0m\n",
      "\u001b[0;31mKeyboardInterrupt\u001b[0m: "
     ]
    }
   ],
   "source": [
    "# Collecting links of results pages:\n",
    "\n",
    "resultsPages.append(currentPage)\n",
    "\n",
    "for i in range(33):\n",
    "    nextPage = loadSoupObject(getNextPage(currentPage))\n",
    "    resultsPages.append(nextPage)\n",
    "    currentPage = nextPage"
   ]
  },
  {
   "cell_type": "code",
   "execution_count": 8,
   "metadata": {},
   "outputs": [],
   "source": [
    "# Collecting links of hotels:\n",
    "\n",
    "for page in resultsPages:\n",
    "    hotelsLinks.extend(getHotelsURL(page))"
   ]
  },
  {
   "cell_type": "code",
   "execution_count": 9,
   "metadata": {},
   "outputs": [
    {
     "data": {
      "text/plain": [
       "['Hotel Noel Jerusalem',\n",
       " '\\n9 Shamai Street, ירושלים\\n',\n",
       " '\\nמלון נואל ירושלים (Hotel Noel Jerusalem) שוכן במיקום אטרקטיבי בירושלים, וכולל ארוחת בוקר א-לה-קארט ואינטרנט אלחוטי בחינם. מקום האירוח נמצא במרחק של כ-1.9 ק\"מ מהכותל המערבי, במרחק של 3.2 ק\"מ מכנסיית כל העמים ובמרחק של 3.2 ק\"מ מגן גת שמנים. תוכלו\\n …\\n\\n\\n\\nהצג עוד\\n\\n\\n\\n',\n",
       " '\\n1,029\\xa0₪\\n',\n",
       " '8.7 נהדר\\xa0·\\xa0360 חוות דעת',\n",
       " '8.2',\n",
       " '9.5',\n",
       " '9.0']"
      ]
     },
     "execution_count": 9,
     "metadata": {},
     "output_type": "execute_result"
    }
   ],
   "source": [
    "# urlResults = \"https://www.booking.com/searchresults.html?ss=%D7%99%D7%A9%D7%A8%D7%90%D7%9C&ss=%D7%99%D7%A9%D7%A8%D7%90%D7%9C&group_adults=2&group_children=0&no_rooms=1&sb_travel_purpose=leisure&ssne=%D7%99%D7%A9%D7%A8%D7%90%D7%9C&ssne_untouched=%D7%99%D7%A9%D7%A8%D7%90%D7%9C&sb_changed_dates=1&label=gen173nr-1BCAEoggI46AdIM1gEaGqIAQGYAQ64AQfIAQzYAQHoAQGIAgGoAgO4AsPO_6IGwAIB0gIkN2EzYmVmMjgtNTkwYS00YjMyLWI5ZmUtMmZjMTQwOTdmM2I42AIF4AIB&sid=ae3ca57b743d1747c5f828a2fabc4587&aid=304142&lang=en-us&sb=1&src_elem=sb&src=searchresults&dest_id=103&dest_type=country&checkin=2024-02-01&checkout=2024-02-02&prefer_site_type=mdot&soz=1&lang_changed=1\"\n",
    "# currentPage = loadSoupObject(urlResults)\n",
    "\n",
    "# resultsPages = []\n",
    "# hotelsLinks = []"
   ]
  },
  {
   "cell_type": "code",
   "execution_count": null,
   "metadata": {},
   "outputs": [
    {
     "name": "stderr",
     "output_type": "stream",
     "text": [
      "100%|██████████| 33/33 [02:41<00:00,  4.91s/it]\n"
     ]
    }
   ],
   "source": [
    "# # Collecting links of results pages:\n",
    "\n",
    "# resultsPages.append(currentPage)\n",
    "\n",
    "# for i in tqdm(range(33)):\n",
    "#     nextPage = loadSoupObject(getNextPage(currentPage))\n",
    "#     resultsPages.append(nextPage)\n",
    "#     currentPage = nextPage"
   ]
  },
  {
   "cell_type": "code",
   "execution_count": null,
   "metadata": {},
   "outputs": [],
   "source": [
    "# # Collecting links of hotels:\n",
    "\n",
    "# for page in resultsPages:\n",
    "#     hotelsLinks.extend(getHotelsURL(page))"
   ]
  },
  {
   "cell_type": "code",
   "execution_count": null,
   "metadata": {},
   "outputs": [],
   "source": [
    "# # Crawling data from hotel pages\n",
    "\n",
    "# hotelsData = []\n",
    "\n",
    "# for link in tqdm(hotelsLinks):\n",
    "#     hotelsData.append(getHotelData(loadSoupObject(link)))"
   ]
  },
  {
   "cell_type": "code",
   "execution_count": null,
   "metadata": {},
   "outputs": [],
   "source": [
    "# Creating a data set:\n",
    "\n",
    "headers = [\"hotelName\", \"hotelAddress\", \"hotelDescription\", \"pricePerNight\",\"scoreGeneral\",\"scoreValueForMoney\",\"scoreLocation\",\"scoreClean\"]\n",
    "\n",
    "df = pd.DataFrame(hotelsData, columns=headers)\n",
    "df"
   ]
  },
  {
   "cell_type": "code",
   "execution_count": null,
   "metadata": {},
   "outputs": [],
   "source": [
    "df.describe()"
   ]
  },
  {
   "attachments": {},
   "cell_type": "markdown",
   "metadata": {},
   "source": [
    "### Data Acquisition by API"
   ]
  },
  {
   "attachments": {},
   "cell_type": "markdown",
   "metadata": {},
   "source": [
    "a little description and notes about this step..."
   ]
  },
  {
   "attachments": {},
   "cell_type": "markdown",
   "metadata": {},
   "source": [
    "#### Auxiliary Functions"
   ]
  },
  {
   "attachments": {},
   "cell_type": "markdown",
   "metadata": {},
   "source": [
    "In these two following function we calculate the distance between Tel-Aviv to another city.\n",
    "The calculation using an API which called GEODB in order to get the city ID and to find the distance."
   ]
  },
  {
   "cell_type": "code",
   "execution_count": 69,
   "metadata": {},
   "outputs": [],
   "source": [
    "import requests\n",
    "\n",
    "def getCityID(cityName):\n",
    "\n",
    "    # Set up the API endpoint URL\n",
    "    url = \"https://wft-geo-db.p.rapidapi.com/v1/geo/cities\"\n",
    "\n",
    "    # Set your API key and headers\n",
    "    api_key = \"b357d38c99mshac61197df8fd7c2p1d5cd7jsn2bfe93de690c\"\n",
    "    headers = {\n",
    "        \"X-RapidAPI-Key\": api_key,\n",
    "        \"X-RapidAPI-Host\": \"wft-geo-db.p.rapidapi.com\"\n",
    "    }\n",
    "\n",
    "    # Set the query parameters for the country code and name\n",
    "    params = {\n",
    "        \"countryIds\": \"IL\",\n",
    "        \"namePrefix\": cityName\n",
    "    }\n",
    "\n",
    "    # Send GET request to the API\n",
    "    response = requests.get(url, headers=headers, params=params)\n",
    "\n",
    "    # Check if the request was successful\n",
    "    if response.status_code == 200:\n",
    "        # Parse the response JSON\n",
    "        data = response.json()\n",
    "\n",
    "        # Check if any cities were found\n",
    "        if data[\"data\"]:\n",
    "            # Get the city ID from the first result\n",
    "            city_id = data[\"data\"][0][\"id\"]\n",
    "            print(\"City ID:\", city_id)\n",
    "            return city_id\n",
    "        else:\n",
    "            print(\"No matching cities found.\")\n",
    "            return np.nan\n",
    "    else:\n",
    "        print(\"Error:\", response.status_code)\n",
    "        return np.nan\n"
   ]
  },
  {
   "cell_type": "code",
   "execution_count": 62,
   "metadata": {},
   "outputs": [],
   "source": [
    "# import requests\n",
    "\n",
    "# def getCityDistance(cityID): #by my own without returns\n",
    "\n",
    "# \turl = \"https://wft-geo-db.p.rapidapi.com/v1/geo/cities/3310184/distance\"\n",
    "\n",
    "# \tquerystring = {\"fromCityId\":\"54067\",\"distanceUnit\":\"km\",\"toCityId\":cityID}\n",
    "\n",
    "# \theaders = {\n",
    "# \t\t\"X-RapidAPI-Key\": \"b357d38c99mshac61197df8fd7c2p1d5cd7jsn2bfe93de690c\",\n",
    "# \t\t\"X-RapidAPI-Host\": \"wft-geo-db.p.rapidapi.com\"\n",
    "# \t}\n",
    "\n",
    "# \tresponse = requests.get(url, headers=headers, params=querystring)\n",
    "\n",
    "# \tprint(response.json())"
   ]
  },
  {
   "cell_type": "code",
   "execution_count": 65,
   "metadata": {},
   "outputs": [],
   "source": [
    "# import requests\n",
    "\n",
    "# def getCityDistance(cityID): #by my own with returns\n",
    "#     url = \"https://wft-geo-db.p.rapidapi.com/v1/geo/cities/3310184/distance\"\n",
    "#     querystring = {\"fromCityId\": \"54067\", \"distanceUnit\": \"km\", \"toCityId\": cityID}\n",
    "#     headers = {\n",
    "#         \"X-RapidAPI-Key\": \"b357d38c99mshac61197df8fd7c2p1d5cd7jsn2bfe93de690c\",\n",
    "#         \"X-RapidAPI-Host\": \"wft-geo-db.p.rapidapi.com\"\n",
    "#     }\n",
    "#     response = requests.get(url, headers=headers, params=querystring)\n",
    "#     data = response.json()\n",
    "#     print(response.json())\n",
    "\n",
    "#     if \"distance\" in data:\n",
    "#         return data[\"distance\"]\n",
    "#     else:\n",
    "#         return None\n",
    "\n",
    "\n"
   ]
  },
  {
   "cell_type": "code",
   "execution_count": 70,
   "metadata": {},
   "outputs": [],
   "source": [
    "def calculateDistance(city_id): #from chat\n",
    "    url = f\"https://wft-geo-db.p.rapidapi.com/v1/geo/cities/{54067}/distance/{city_id}\"\n",
    "    headers = {\n",
    "        \"X-RapidAPI-Key\": \"b357d38c99mshac61197df8fd7c2p1d5cd7jsn2bfe93de690c\",\n",
    "        \"X-RapidAPI-Host\": \"wft-geo-db.p.rapidapi.com\"\n",
    "    }\n",
    "    response = requests.get(url, headers=headers)\n",
    "    data = response.json()\n",
    "    print(response.json())\n",
    "\n",
    "    if \"distance\" in data:\n",
    "        return data[\"distance\"]\n",
    "    else:\n",
    "        return None"
   ]
  },
  {
   "attachments": {},
   "cell_type": "markdown",
   "metadata": {},
   "source": [
    "#### Main Function"
   ]
  },
  {
   "cell_type": "code",
   "execution_count": 71,
   "metadata": {},
   "outputs": [
    {
     "name": "stdout",
     "output_type": "stream",
     "text": [
      "City ID: 3575840\n",
      "{'message': 'You have exceeded the rate limit per second for your plan, BASIC, by the API provider'}\n",
      "Unable to calculate the distance.\n"
     ]
    }
   ],
   "source": [
    "\n",
    "cityName = \"Holon\"\n",
    "city_id = getCityID(cityName)\n",
    "# city_distance = getCityDistance(city_id)\n",
    "# if city_distance is not None:\n",
    "#     print(\"Distance:\", city_distance)\n",
    "# else:\n",
    "#     print(\"Distance information not available.\")\n",
    "\n",
    "distance = calculateDistance(city_id)\n",
    "if distance is not None:\n",
    "    print(\"Distance:\", distance, \"km\")\n",
    "else:\n",
    "    print(\"Unable to calculate the distance.\")"
   ]
  },
  {
   "attachments": {},
   "cell_type": "markdown",
   "metadata": {},
   "source": [
    "## Step 3: Data Handling"
   ]
  },
  {
   "attachments": {},
   "cell_type": "markdown",
   "metadata": {},
   "source": [
    "At this point, we will need to handle our data and organize it. For example, in the hotel data we crawled, some hotels do not have ratings on Booking.com. In addition, we will have to deal with duplicate hotels and outliers that do not reflect most of our data. Let's go for it!"
   ]
  },
  {
   "attachments": {},
   "cell_type": "markdown",
   "metadata": {},
   "source": [
    "### Auxiliary Functions"
   ]
  },
  {
   "cell_type": "code",
   "execution_count": 12,
   "metadata": {},
   "outputs": [],
   "source": [
    "# Handling \"/n\" signs and others\n",
    "\n",
    "def cleanSigns(df):\n",
    "\n",
    "    and\n",
    "\n",
    "    return "
   ]
  },
  {
   "cell_type": "code",
   "execution_count": null,
   "metadata": {},
   "outputs": [],
   "source": [
    "# Handling missing data:\n",
    "\n"
   ]
  },
  {
   "cell_type": "code",
   "execution_count": null,
   "metadata": {},
   "outputs": [],
   "source": [
    "# Handling missing duplication:\n",
    "\n",
    "df_duplicates_removed = df.drop_duplicates()\n",
    "df_duplicates_removed.describe()"
   ]
  },
  {
   "cell_type": "code",
   "execution_count": null,
   "metadata": {},
   "outputs": [],
   "source": [
    "# Handling outliers:\n",
    "\n"
   ]
  },
  {
   "attachments": {},
   "cell_type": "markdown",
   "metadata": {},
   "source": [
    "### Main Function"
   ]
  },
  {
   "cell_type": "code",
   "execution_count": 13,
   "metadata": {},
   "outputs": [],
   "source": [
    "# Main\n",
    "\n"
   ]
  },
  {
   "attachments": {},
   "cell_type": "markdown",
   "metadata": {},
   "source": [
    "### Data Duplication"
   ]
  },
  {
   "attachments": {},
   "cell_type": "markdown",
   "metadata": {},
   "source": [
    "#### Auxiliary Functions"
   ]
  },
  {
   "cell_type": "code",
   "execution_count": 14,
   "metadata": {},
   "outputs": [],
   "source": [
    "# Code:\n",
    "\n"
   ]
  },
  {
   "attachments": {},
   "cell_type": "markdown",
   "metadata": {},
   "source": [
    "#### Main Function"
   ]
  },
  {
   "cell_type": "code",
   "execution_count": 15,
   "metadata": {},
   "outputs": [],
   "source": [
    "# Main\n",
    "\n"
   ]
  },
  {
   "attachments": {},
   "cell_type": "markdown",
   "metadata": {},
   "source": [
    "### Outliers"
   ]
  },
  {
   "attachments": {},
   "cell_type": "markdown",
   "metadata": {},
   "source": [
    "#### Auxiliary Functions"
   ]
  },
  {
   "cell_type": "code",
   "execution_count": 16,
   "metadata": {},
   "outputs": [],
   "source": [
    "# Code:\n",
    "\n"
   ]
  },
  {
   "attachments": {},
   "cell_type": "markdown",
   "metadata": {},
   "source": [
    "#### Main Function"
   ]
  },
  {
   "cell_type": "code",
   "execution_count": 17,
   "metadata": {},
   "outputs": [],
   "source": [
    "# Main\n",
    "\n"
   ]
  },
  {
   "attachments": {},
   "cell_type": "markdown",
   "metadata": {},
   "source": [
    "## Step 4: Machine Learning"
   ]
  },
  {
   "attachments": {},
   "cell_type": "markdown",
   "metadata": {},
   "source": [
    "a little description and notes about this step..."
   ]
  },
  {
   "attachments": {},
   "cell_type": "markdown",
   "metadata": {},
   "source": [
    "#### Auxiliary Functions"
   ]
  },
  {
   "cell_type": "code",
   "execution_count": 18,
   "metadata": {},
   "outputs": [],
   "source": [
    "# Code:\n",
    "\n"
   ]
  },
  {
   "attachments": {},
   "cell_type": "markdown",
   "metadata": {},
   "source": [
    "#### Main Function"
   ]
  },
  {
   "cell_type": "code",
   "execution_count": 19,
   "metadata": {},
   "outputs": [],
   "source": [
    "# Main\n",
    "\n"
   ]
  }
 ],
 "metadata": {
  "kernelspec": {
   "display_name": "Python 3",
   "language": "python",
   "name": "python3"
  },
  "language_info": {
   "codemirror_mode": {
    "name": "ipython",
    "version": 3
   },
   "file_extension": ".py",
   "mimetype": "text/x-python",
   "name": "python",
   "nbconvert_exporter": "python",
   "pygments_lexer": "ipython3",
   "version": "3.9.13"
  },
  "orig_nbformat": 4
 },
 "nbformat": 4,
 "nbformat_minor": 2
}
