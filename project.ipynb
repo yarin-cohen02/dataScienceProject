{
 "cells": [
  {
   "attachments": {},
   "cell_type": "markdown",
   "metadata": {},
   "source": [
    "# The Relationship Between a Hotel's Geographical Proximity to the Center of the Country and Its Price"
   ]
  },
  {
   "attachments": {},
   "cell_type": "markdown",
   "metadata": {},
   "source": [
    "* Yarin Cohen, ID: 211361720\n",
    "* Amit Shiber, ID: 322372582"
   ]
  },
  {
   "attachments": {},
   "cell_type": "markdown",
   "metadata": {},
   "source": [
    "## About Our Project"
   ]
  },
  {
   "attachments": {},
   "cell_type": "markdown",
   "metadata": {},
   "source": [
    "From time to time the issue of the periphery versus the center of the country comes up in the media. We decided to research more about the subject and check the hotel prices in the cities near Tel Aviv and in the distant cities. After crawling the data from the hotel website, we will use an additional function with an API to calculate distances between two locations. Is there a connection between the price of hotel charges and its proximity to the center of country?"
   ]
  },
  {
   "attachments": {},
   "cell_type": "markdown",
   "metadata": {},
   "source": [
    "### Information Sources and Data Acquisition Methods"
   ]
  },
  {
   "attachments": {},
   "cell_type": "markdown",
   "metadata": {},
   "source": [
    "* **Crawling Booking.com** - One of the largest online travel agencies. As of December 31, 2022, Booking.com offered lodging reservation services for approximately 2.7 million properties, including 400,000 hotels, motels, and resorts and 2.3 million homes, apartments in over 220 countries and in over 40 languages. It will help us getting data about the hotels in this project.\n",
    "\n",
    "* **GeoDB Cities API** - Online cities database. It exposes city, region, and country data via both GraphQL and REST APIs. It will help us calculate the distance between two cities."
   ]
  },
  {
   "attachments": {},
   "cell_type": "markdown",
   "metadata": {},
   "source": [
    "### Data Set Description"
   ]
  },
  {
   "attachments": {},
   "cell_type": "markdown",
   "metadata": {},
   "source": [
    "Each line in the data set represents a hotel.\n",
    "\n",
    "Columns representation in the data set:\n",
    "* Hotel name\n",
    "* Hotel Address\n",
    "* Hotel Description\n",
    "* Price per night (on a fixed date, the cheapest deal)\n",
    "* Score - general\n",
    "* Score - stuff\n",
    "* Score - facilities\n",
    "* Score - convenience\n",
    "* Score - value for money\n",
    "* Score - location\n",
    "* Score - clean\n",
    "* Proximity to the center of the country (km)"
   ]
  },
  {
   "attachments": {},
   "cell_type": "markdown",
   "metadata": {},
   "source": [
    "### Machine Learning"
   ]
  },
  {
   "attachments": {},
   "cell_type": "markdown",
   "metadata": {},
   "source": [
    "* **Type of ML**: Regression\n",
    "\n",
    "* We will start with easy regression models (one variable and low powers) and try to go through each pair of an explanatory variable and an explained variable.\n",
    "\n",
    "* There is no rule that says how many variables make a regression heavy and sluggish. If the software starts to falter, we will stop and think whether adding the variables and holdings will contribute to the prediction or only to the complications of calculation, memory, etc. We are required to exercise discretion between predictability and complications and resources such as private time.\n",
    "\n",
    "* If the learning results are not satisfactory, we will use\n",
    "in classification and division into price levels."
   ]
  },
  {
   "attachments": {},
   "cell_type": "markdown",
   "metadata": {},
   "source": [
    "## Imports"
   ]
  },
  {
   "cell_type": "code",
   "execution_count": 51,
   "metadata": {},
   "outputs": [],
   "source": [
    "import requests\n",
    "import bs4\n",
    "from bs4 import BeautifulSoup\n",
    "import time\n",
    "import random\n",
    "from tqdm import tqdm\n",
    "import pandas as pd\n",
    "import scipy as sc\n",
    "import pandas as pd\n",
    "import numpy as np\n",
    "import seaborn as sns\n",
    "import matplotlib as mpl\n",
    "import matplotlib.pyplot as plt\n",
    "import seaborn as sns\n",
    "from collections import Counter\n",
    "import sklearn\n",
    "from sklearn import linear_model, metrics, preprocessing\n",
    "from sklearn.preprocessing import StandardScaler, MinMaxScaler\n",
    "from sklearn.linear_model import LogisticRegression, LinearRegression\n",
    "from sklearn.metrics import r2_score, f1_score\n",
    "%matplotlib inline\n",
    "plt.rcParams['figure.figsize'] = (10, 6)\n",
    "from mpl_toolkits.mplot3d import Axes3D\n",
    "from matplotlib import cm"
   ]
  },
  {
   "attachments": {},
   "cell_type": "markdown",
   "metadata": {},
   "source": [
    "## Step 1: Defining a Research Question"
   ]
  },
  {
   "attachments": {},
   "cell_type": "markdown",
   "metadata": {},
   "source": [
    "Is it possible to predict the price of a night in a certain hotel, based on its proximity to the center and the score given to it by surfers in the various categories?"
   ]
  },
  {
   "attachments": {},
   "cell_type": "markdown",
   "metadata": {},
   "source": [
    "## Step 2: Data Acquisition"
   ]
  },
  {
   "attachments": {},
   "cell_type": "markdown",
   "metadata": {},
   "source": [
    "### Data Acquisition by Crawling"
   ]
  },
  {
   "attachments": {},
   "cell_type": "markdown",
   "metadata": {},
   "source": [
    "First of all, we will check Booking.com's Robots.txt terms, to understand if there are any pages we can't crawl: https://booking.com/robots.txt"
   ]
  },
  {
   "attachments": {},
   "cell_type": "markdown",
   "metadata": {},
   "source": [
    "* We will start by searching manually on Booking's main page for a vacation in Israel, on 03-04/09/2023.\n",
    "\n",
    "* The results page will be crawled first.\n",
    "* Due to complexity of HTML elements, we will use the mobile version of Booking.\n",
    "* <a href=\"https://www.booking.com/searchresults.he.html?ss=%D7%99%D7%A9%D7%A8%D7%90%D7%9C&ss=%D7%99%D7%A9%D7%A8%D7%90%D7%9C&group_adults=2&group_children=0&no_rooms=1&sb_travel_purpose=leisure&ssne=%D7%99%D7%A9%D7%A8%D7%90%D7%9C&ssne_untouched=%D7%99%D7%A9%D7%A8%D7%90%D7%9C&sb_changed_dates=1&label=gen173nr-1BCAEoggI46AdIM1gEaGqIAQGYAQ64AQfIAQzYAQHoAQGIAgGoAgO4AsPO_6IGwAIB0gIkN2EzYmVmMjgtNTkwYS00YjMyLWI5ZmUtMmZjMTQwOTdmM2I42AIF4AIB&sid=ae3ca57b743d1747c5f828a2fabc4587&aid=304142&lang=he&sb=1&src_elem=sb&src=searchresults&dest_id=103&dest_type=country&checkin=2024-02-01&checkout=2024-02-02&prefer_site_type=mdot\" >This is</a> the first page will be crawled."
   ]
  },
  {
   "attachments": {},
   "cell_type": "markdown",
   "metadata": {},
   "source": [
    "#### Auxiliary Functions"
   ]
  },
  {
   "cell_type": "code",
   "execution_count": 2,
   "metadata": {},
   "outputs": [],
   "source": [
    "# Load soup object:\n",
    "\n",
    "def loadSoupObject(url):\n",
    "\n",
    "    headers = { \"User-Agent\": \"Mozilla/5.0 (iPhone; CPU iPhone OS 15_0 like Mac OS X) AppleWebKit/605.1.15 (KHTML, like Gecko) Mobile/15E148\" }\n",
    "    \n",
    "    time.sleep(random.randint(1,5))\n",
    "    r = requests.get(url, headers=headers).content\n",
    "    \n",
    "    return BeautifulSoup(r,\"html.parser\")"
   ]
  },
  {
   "cell_type": "code",
   "execution_count": 3,
   "metadata": {},
   "outputs": [],
   "source": [
    "# Getting URLs of all the hotels in the page:\n",
    "\n",
    "def getHotelsURL(soupObj):\n",
    "\n",
    "    links = []\n",
    "   \n",
    "    for link in soupObj.findAll(\"a\", {\"data-testid\" : \"title\"}):\n",
    "        links.append(link.get(\"href\"))\n",
    "\n",
    "    return links"
   ]
  },
  {
   "cell_type": "code",
   "execution_count": 4,
   "metadata": {},
   "outputs": [],
   "source": [
    "# Getting URL of the next results page:\n",
    "\n",
    "def getNextPage(soupObj):\n",
    "    return soupObj.find(\"a\", {\"title\" : \"Next page\"}).get(\"href\")"
   ]
  },
  {
   "cell_type": "code",
   "execution_count": 5,
   "metadata": {},
   "outputs": [],
   "source": [
    "# Getting information from a hotel page:\n",
    "\n",
    "def getHotelData(soupObj):\n",
    "\n",
    "    dataOfHotel = []\n",
    "\n",
    "    # Hotel name:\n",
    "    name = soupObj.find(\"span\",{\"class\" : \"hp-header--title--text\"})\n",
    "    dataOfHotel.append(name.text if name else np.nan)\n",
    "\n",
    "    # Hotel address:\n",
    "    add = soupObj.find(\"span\",{\"class\" : \"js_hp_address_text_line\"})\n",
    "    dataOfHotel.append(add.text if add else np.nan)\n",
    "\n",
    "    # Hotel description:\n",
    "    desc = soupObj.find(\"div\",{\"class\" : \"page-section--content\"})\n",
    "    dataOfHotel.append(desc.text if desc else np.nan)\n",
    "    \n",
    "    # Price per night (on a fixed date, the cheapest deal):\n",
    "    price = soupObj.find(\"div\",{\"class\" : \"prco-js-headline-price\"})\n",
    "    dataOfHotel.append(price.text if price else np.nan)\n",
    "\n",
    "    # Score - general:\n",
    "    score = soupObj.find(\"div\",{\"data-testid\" : \"review-score-component\"})\n",
    "    dataOfHotel.append(score.text if score else np.nan)\n",
    "\n",
    "    # Score - value for money:\n",
    "    value = soupObj.find(\"div\",{\"id\" : \":R5m:-label\"})\n",
    "    dataOfHotel.append(value.text if value else np.nan)\n",
    "\n",
    "    # Score - location:\n",
    "    location = soupObj.find(\"div\",{\"id\" : \":R4m:-label\"})\n",
    "    dataOfHotel.append(location.text if location else np.nan)\n",
    "\n",
    "    # Score - clean:\n",
    "    clean = soupObj.find(\"div\",{\"id\" : \":R56:-label\"})\n",
    "    dataOfHotel.append(clean.text if clean else np.nan)\n",
    "\n",
    "    return dataOfHotel\n"
   ]
  },
  {
   "cell_type": "code",
   "execution_count": 6,
   "metadata": {},
   "outputs": [],
   "source": [
    "# The whole process of crawling all the hotels from results pages:\n",
    "\n",
    "def getAllHotels(urlResults):\n",
    "\n",
    "    currentPage = loadSoupObject(urlResults)\n",
    "\n",
    "    resultsPages = []\n",
    "    hotelsLinks = []\n",
    "\n",
    "    # Collecting links of results pages:\n",
    "\n",
    "    resultsPages.append(currentPage)\n",
    "\n",
    "    for i in tqdm(range(33), desc=\"Collecting next-links...\"):\n",
    "        \n",
    "        if (currentPage.find(\"a\", {\"title\" : \"Next page\"})):\n",
    "            nextPage = loadSoupObject(getNextPage(currentPage))\n",
    "            resultsPages.append(nextPage)\n",
    "            currentPage = nextPage\n",
    "\n",
    "            if not (currentPage.find(\"a\", {\"title\" : \"Next page\"})):\n",
    "                break\n",
    "\n",
    "    # Collecting links of hotels:\n",
    "\n",
    "    for page in tqdm(resultsPages,desc=\"Collecting links from result pages...\"):\n",
    "        hotelsLinks.extend(getHotelsURL(page))\n",
    "\n",
    "    # Crawling data from hotel pages\n",
    "\n",
    "    hotelsData = []\n",
    "\n",
    "    for link in tqdm(hotelsLinks, desc=\"Crawling hotels data...\"):\n",
    "        hotelsData.append(getHotelData(loadSoupObject(link)))\n",
    "\n",
    "    return hotelsData"
   ]
  },
  {
   "attachments": {},
   "cell_type": "markdown",
   "metadata": {},
   "source": [
    "#### Main Function"
   ]
  },
  {
   "attachments": {},
   "cell_type": "markdown",
   "metadata": {},
   "source": [
    "First, we start by crawling the results pages when searching for \"Israel\", \"Herzliya\", etc. in the search bar found on the home page.\n",
    "- Crawling all \"next page\" links found on the results pages.\n",
    "\n",
    "- Crawling all the links of the hotel pages found in the results pages.\n",
    "- Crawling the data from each hotel page.\n",
    "\n",
    "Here we can see an array of 18 links, which were obtained as a result of searching these phrases on the homepage of Booking.com.\n",
    "\n",
    "These links are not displayed in one place on Booking.com. Therefore, we had to copy and paste them, instead of crawling them as well."
   ]
  },
  {
   "cell_type": "code",
   "execution_count": 7,
   "metadata": {},
   "outputs": [],
   "source": [
    "searches = [\n",
    "    # All of Israel:\n",
    "    \"https://www.booking.com/searchresults.en-us.html?ss=israel&ssne=Upper+Galilee&ssne_untouched=Upper+Galilee&label=gen173nr-1FCAEoggI46AdIM1gEaGqIAQGYATG4AQfIAQzYAQHoAQH4AQKIAgGoAgO4AtDFqKMGwAIB0gIkMjI2NjFiN2ItODhhYS00ZmYwLWIyMDUtMzdlOTc5OWU5OGZi2AIF4AIB&sid=863fbc6e6306cb97b7ec9fa1361b67a2&aid=304142&lang=en-us&sb=1&src_elem=sb&src=searchresults&dest_id=103&dest_type=country&ac_position=0&ac_click_type=b&ac_langcode=en&ac_suggestion_list_length=5&search_selected=true&search_pageview_id=57b8636d07030080&ac_meta=GhA1N2I4NjM2ZDA3MDMwMDgwIAAoATICZW46BWlzcmFlQABKAFAA&checkin=2023-09-03&checkout=2023-09-04&group_adults=2&no_rooms=1&group_children=0&sb_travel_purpose=leisure\",\n",
    "    # Herzelia:\n",
    "    \"https://www.booking.com/searchresults.en-us.html?ss=Herzelia+%2C+Center+District+Israel%2C+Israel&ssne=Israel&ssne_untouched=Israel&label=gen173nr-1FCAEoggI46AdIM1gEaGqIAQGYATG4AQfIAQzYAQHoAQH4AQKIAgGoAgO4AtDFqKMGwAIB0gIkMjI2NjFiN2ItODhhYS00ZmYwLWIyMDUtMzdlOTc5OWU5OGZi2AIF4AIB&sid=863fbc6e6306cb97b7ec9fa1361b67a2&aid=304142&lang=en-us&sb=1&src_elem=sb&src=searchresults&dest_id=-780136&dest_type=city&ac_position=0&ac_click_type=b&ac_langcode=en&ac_suggestion_list_length=5&search_selected=true&search_pageview_id=347f65e8986607e2&ac_meta=GhAzNDdmNjVlODk4NjYwN2UyIAAoATICZW46B2hlcnplbGlAAEoAUAA%3D&checkin=2023-09-03&checkout=2023-09-04&group_adults=2&no_rooms=1&group_children=0&sb_travel_purpose=leisure\",\n",
    "    # Netanya:\n",
    "    \"https://www.booking.com/searchresults.en-us.html?ss=Netanya&ssne=Herzliya&ssne_untouched=Herzliya&label=gen173nr-1FCAEoggI46AdIM1gEaGqIAQGYATG4AQfIAQzYAQHoAQH4AQKIAgGoAgO4AtDFqKMGwAIB0gIkMjI2NjFiN2ItODhhYS00ZmYwLWIyMDUtMzdlOTc5OWU5OGZi2AIF4AIB&sid=863fbc6e6306cb97b7ec9fa1361b67a2&aid=304142&lang=en-us&sb=1&src_elem=sb&src=searchresults&checkin=2023-09-03&checkout=2023-09-04&group_adults=2&no_rooms=1&group_children=0&sb_travel_purpose=leisure\",\n",
    "    # Mizpe Ramon:\n",
    "    \"https://www.booking.com/searchresults.en-us.html?ss=Mizpe+Ramon&ssne=Netanya&ssne_untouched=Netanya&label=gen173nr-1FCAEoggI46AdIM1gEaGqIAQGYATG4AQfIAQzYAQHoAQH4AQKIAgGoAgO4AtDFqKMGwAIB0gIkMjI2NjFiN2ItODhhYS00ZmYwLWIyMDUtMzdlOTc5OWU5OGZi2AIF4AIB&sid=863fbc6e6306cb97b7ec9fa1361b67a2&aid=304142&lang=en-us&sb=1&src_elem=sb&src=searchresults&dest_id=900040703&dest_type=city&ac_position=0&ac_click_type=b&ac_langcode=en&ac_suggestion_list_length=5&search_selected=true&search_pageview_id=54a2660fa2bc0084&ac_meta=GhA1NGEyNjYwZmEyYmMwMDg0IAAoATICZW46C01penBlIFJhbW9uQAFKDG1pdHpwZSByYW1vblCGAQ%3D%3D&checkin=2023-09-03&checkout=2023-09-04&group_adults=2&no_rooms=1&group_children=0&sb_travel_purpose=leisure\",\n",
    "    # Yeruham:\n",
    "    \"https://www.booking.com/searchresults.en-us.html?ss=Yeruham&ssne=Mitzpe+Ramon&ssne_untouched=Mitzpe+Ramon&label=gen173nr-1FCAEoggI46AdIM1gEaGqIAQGYATG4AQfIAQzYAQHoAQH4AQKIAgGoAgO4AtDFqKMGwAIB0gIkMjI2NjFiN2ItODhhYS00ZmYwLWIyMDUtMzdlOTc5OWU5OGZi2AIF4AIB&sid=863fbc6e6306cb97b7ec9fa1361b67a2&aid=304142&lang=en-us&sb=1&src_elem=sb&src=searchresults&checkin=2023-09-03&checkout=2023-09-04&group_adults=2&no_rooms=1&group_children=0&sb_travel_purpose=leisure\",\n",
    "    # Haifa:\n",
    "    \"https://www.booking.com/searchresults.en-us.html?ss=Haifa&ssne=Yero%E1%BA%96am&ssne_untouched=Yero%E1%BA%96am&label=gen173nr-1FCAEoggI46AdIM1gEaGqIAQGYATG4AQfIAQzYAQHoAQH4AQKIAgGoAgO4AtDFqKMGwAIB0gIkMjI2NjFiN2ItODhhYS00ZmYwLWIyMDUtMzdlOTc5OWU5OGZi2AIF4AIB&sid=863fbc6e6306cb97b7ec9fa1361b67a2&aid=304142&lang=en-us&sb=1&src_elem=sb&src=searchresults&checkin=2023-09-03&checkout=2023-09-04&group_adults=2&no_rooms=1&group_children=0&sb_travel_purpose=leisure\",\n",
    "    # Nazareth:\n",
    "    \"https://www.booking.com/searchresults.en-us.html?ss=Nazareth%2C+North+District+Israel%2C+Israel&ssne=Haifa&ssne_untouched=Haifa&label=gen173nr-1FCAEoggI46AdIM1gEaGqIAQGYATG4AQfIAQzYAQHoAQH4AQKIAgGoAgO4AtDFqKMGwAIB0gIkMjI2NjFiN2ItODhhYS00ZmYwLWIyMDUtMzdlOTc5OWU5OGZi2AIF4AIB&sid=863fbc6e6306cb97b7ec9fa1361b67a2&aid=304142&lang=en-us&sb=1&src_elem=sb&src=searchresults&dest_id=-780833&dest_type=city&ac_position=0&ac_click_type=b&ac_langcode=en&ac_suggestion_list_length=5&search_selected=true&search_pageview_id=b924663990bd0516&ac_meta=GhBiOTI0NjYzOTkwYmQwNTE2IAAoATICZW46CE5hemFyZXRoQABKAFAA&checkin=2023-09-03&checkout=2023-09-04&group_adults=2&no_rooms=1&group_children=0&sb_travel_purpose=leisure\",\n",
    "    # Israel's north district:\n",
    "    \"https://www.booking.com/searchresults.en-us.html?ss=North+District+Israel%2C+Israel&ssne=Nazareth&ssne_untouched=Nazareth&label=gen173nr-1FCAEoggI46AdIM1gEaGqIAQGYATG4AQfIAQzYAQHoAQH4AQKIAgGoAgO4AtDFqKMGwAIB0gIkMjI2NjFiN2ItODhhYS00ZmYwLWIyMDUtMzdlOTc5OWU5OGZi2AIF4AIB&sid=863fbc6e6306cb97b7ec9fa1361b67a2&aid=304142&lang=en-us&sb=1&src_elem=sb&src=searchresults&dest_id=3638&dest_type=region&ac_position=1&ac_click_type=b&ac_langcode=en&ac_suggestion_list_length=5&search_selected=true&search_pageview_id=25686645b89502a2&ac_meta=GhAyNTY4NjY0NWI4OTUwMmEyIAEoATICZW46B2lzcmFlbCBAAEoAUAA%3D&checkin=2023-09-03&checkout=2023-09-04&group_adults=2&no_rooms=1&group_children=0&sb_travel_purpose=leisure\",\n",
    "    # Israel's center district:\n",
    "    \"https://www.booking.com/searchresults.en-us.html?ss=Center+District+Israel%2C+Israel&ssne=North+District+Israel&ssne_untouched=North+District+Israel&label=gen173nr-1FCAEoggI46AdIM1gEaGqIAQGYATG4AQfIAQzYAQHoAQH4AQKIAgGoAgO4AtDFqKMGwAIB0gIkMjI2NjFiN2ItODhhYS00ZmYwLWIyMDUtMzdlOTc5OWU5OGZi2AIF4AIB&sid=863fbc6e6306cb97b7ec9fa1361b67a2&aid=304142&lang=en-us&sb=1&src_elem=sb&src=searchresults&dest_id=3640&dest_type=region&ac_position=3&ac_click_type=b&ac_langcode=en&ac_suggestion_list_length=5&search_selected=true&search_pageview_id=45f86657a1f70228&ac_meta=GhA0NWY4NjY1N2ExZjcwMjI4IAMoATICZW46BmlzcmFlbEAASgBQAA%3D%3D&checkin=2023-09-03&checkout=2023-09-04&group_adults=2&no_rooms=1&group_children=0&sb_travel_purpose=leisure\",\n",
    "    # Israel's south district:\n",
    "    \"https://www.booking.com/searchresults.en-us.html?ss=South+District+Israel%2C+Israel&ssne=Center+District+Israel&ssne_untouched=Center+District+Israel&label=gen173nr-1FCAEoggI46AdIM1gEaGqIAQGYATG4AQfIAQzYAQHoAQH4AQKIAgGoAgO4AtDFqKMGwAIB0gIkMjI2NjFiN2ItODhhYS00ZmYwLWIyMDUtMzdlOTc5OWU5OGZi2AIF4AIB&sid=863fbc6e6306cb97b7ec9fa1361b67a2&aid=304142&lang=en-us&sb=1&src_elem=sb&src=searchresults&dest_id=3642&dest_type=region&ac_position=0&ac_click_type=b&ac_langcode=en&ac_suggestion_list_length=5&search_selected=true&search_pageview_id=fc976674c81401ea&ac_meta=GhBmYzk3NjY3NGM4MTQwMWVhIAAoATICZW46FXNvdXRoIERpc3RyaWN0IElzcmFlbEAASgBQAA%3D%3D&checkin=2023-09-03&checkout=2023-09-04&group_adults=2&no_rooms=1&group_children=0&sb_travel_purpose=leisure\",\n",
    "    # Tel Aviv:\n",
    "    \"https://www.booking.com/searchresults.en-us.html?ss=Tel+Aviv&ssne=Tel+Aviv&ssne_untouched=Tel+Aviv&efdco=1&label=gen173nr-1FCAEoggI46AdIM1gEaGqIAQGYATG4AQfIAQzYAQHoAQH4AQKIAgGoAgO4AtDFqKMGwAIB0gIkMjI2NjFiN2ItODhhYS00ZmYwLWIyMDUtMzdlOTc5OWU5OGZi2AIF4AIB&sid=863fbc6e6306cb97b7ec9fa1361b67a2&aid=304142&lang=en-us&sb=1&src_elem=sb&src=searchresults&dest_id=-781545&dest_type=city&checkin=2023-09-03&checkout=2023-09-04&ltfd=1%3A1%3A9-2023%3A&group_adults=2&no_rooms=1&group_children=0&sb_travel_purpose=leisure\",\n",
    "    # Jerusalem:\n",
    "    \"https://www.booking.com/searchresults.html?label=gen173nr-1FCAEoggI46AdIM1gEaGqIAQGYATG4AQfIAQzYAQHoAQH4AQKIAgGoAgO4AtDFqKMGwAIB0gIkMjI2NjFiN2ItODhhYS00ZmYwLWIyMDUtMzdlOTc5OWU5OGZi2AIF4AIB&sid=863fbc6e6306cb97b7ec9fa1361b67a2&aid=304142&checkin=2023-09-03&checkout=2023-09-04&dest_id=900000000&dest_type=city&group_adults=null&req_adults=null&no_rooms=null&group_children=null&req_children=null\",\n",
    "    # Dead Sea:\n",
    "    \"https://www.booking.com/searchresults.html?label=gen173nr-1FCAEoggI46AdIM1gEaGqIAQGYATG4AQfIAQzYAQHoAQH4AQKIAgGoAgO4AtDFqKMGwAIB0gIkMjI2NjFiN2ItODhhYS00ZmYwLWIyMDUtMzdlOTc5OWU5OGZi2AIF4AIB&sid=863fbc6e6306cb97b7ec9fa1361b67a2&aid=304142&checkin=2023-09-03&checkout=2023-09-04&dest_id=3230&dest_type=region&group_adults=null&req_adults=null&no_rooms=null&group_children=null&req_children=null\",\n",
    "    # Tiberias:\n",
    "    \"https://www.booking.com/searchresults.html?label=gen173nr-1FCAEoggI46AdIM1gEaGqIAQGYATG4AQfIAQzYAQHoAQH4AQKIAgGoAgO4AtDFqKMGwAIB0gIkMjI2NjFiN2ItODhhYS00ZmYwLWIyMDUtMzdlOTc5OWU5OGZi2AIF4AIB&sid=863fbc6e6306cb97b7ec9fa1361b67a2&aid=304142&checkin=2023-09-03&checkout=2023-09-04&dest_id=-781620&dest_type=city&group_adults=null&req_adults=null&no_rooms=null&group_children=null&req_children=null\",\n",
    "    # Golan Heights:\n",
    "    \"https://www.booking.com/searchresults.html?label=gen173nr-1FCAEoggI46AdIM1gEaGqIAQGYATG4AQfIAQzYAQHoAQH4AQKIAgGoAgO4AtDFqKMGwAIB0gIkMjI2NjFiN2ItODhhYS00ZmYwLWIyMDUtMzdlOTc5OWU5OGZi2AIF4AIB&sid=863fbc6e6306cb97b7ec9fa1361b67a2&aid=304142&checkin=2023-09-03&checkout=2023-09-04&dest_id=3644&dest_type=region&group_adults=null&req_adults=null&no_rooms=null&group_children=null&req_children=null\",\n",
    "    # Safed:\n",
    "    \"https://www.booking.com/searchresults.html?label=gen173nr-1FCAEoggI46AdIM1gEaGqIAQGYATG4AQfIAQzYAQHoAQH4AQKIAgGoAgO4AtDFqKMGwAIB0gIkMjI2NjFiN2ItODhhYS00ZmYwLWIyMDUtMzdlOTc5OWU5OGZi2AIF4AIB&sid=863fbc6e6306cb97b7ec9fa1361b67a2&aid=304142&checkin=2023-09-03&checkout=2023-09-04&dest_id=-781845&dest_type=city&group_adults=null&req_adults=null&no_rooms=null&group_children=null&req_children=null\",\n",
    "    # Zikhron Yaakov:\n",
    "    \"https://www.booking.com/searchresults.html?label=gen173nr-1FCAEoggI46AdIM1gEaGqIAQGYATG4AQfIAQzYAQHoAQH4AQKIAgGoAgO4AtDFqKMGwAIB0gIkMjI2NjFiN2ItODhhYS00ZmYwLWIyMDUtMzdlOTc5OWU5OGZi2AIF4AIB&sid=863fbc6e6306cb97b7ec9fa1361b67a2&aid=304142&checkin=2023-09-03&checkout=2023-09-04&dest_id=-781878&dest_type=city&group_adults=null&req_adults=null&no_rooms=null&group_children=null&req_children=null\",\n",
    "    # Upper Galile:\n",
    "    \"https://www.booking.com/searchresults.html?label=gen173nr-1FCAEoggI46AdIM1gEaGqIAQGYATG4AQfIAQzYAQHoAQH4AQKIAgGoAgO4AtDFqKMGwAIB0gIkMjI2NjFiN2ItODhhYS00ZmYwLWIyMDUtMzdlOTc5OWU5OGZi2AIF4AIB&sid=863fbc6e6306cb97b7ec9fa1361b67a2&aid=304142&checkin=2023-09-03&checkout=2023-09-04&dest_id=7336&dest_type=region&group_adults=null&req_adults=null&no_rooms=null&group_children=null&req_children=null\"\n",
    "]\n",
    "\n",
    "fullData = []"
   ]
  },
  {
   "cell_type": "code",
   "execution_count": 8,
   "metadata": {},
   "outputs": [
    {
     "name": "stdout",
     "output_type": "stream",
     "text": [
      "Cycle 1\n"
     ]
    },
    {
     "name": "stderr",
     "output_type": "stream",
     "text": [
      "Collecting next-links...:  97%|█████████▋| 32/33 [02:49<00:05,  5.30s/it]\n",
      "Collecting links from result pages...: 100%|██████████| 34/34 [00:00<00:00, 413.11it/s]\n",
      "Crawling hotels data...: 100%|██████████| 1020/1020 [1:44:12<00:00,  6.13s/it]\n"
     ]
    },
    {
     "name": "stdout",
     "output_type": "stream",
     "text": [
      "\n",
      "Cycle 2\n"
     ]
    },
    {
     "name": "stderr",
     "output_type": "stream",
     "text": [
      "Collecting next-links...:  55%|█████▍    | 18/33 [01:31<01:16,  5.10s/it]\n",
      "Collecting links from result pages...: 100%|██████████| 20/20 [00:00<00:00, 392.25it/s]\n",
      "Crawling hotels data...: 100%|██████████| 591/591 [58:02<00:00,  5.89s/it]  \n"
     ]
    },
    {
     "name": "stdout",
     "output_type": "stream",
     "text": [
      "\n",
      "Cycle 3\n"
     ]
    },
    {
     "name": "stderr",
     "output_type": "stream",
     "text": [
      "Collecting next-links...:   3%|▎         | 1/33 [00:07<04:09,  7.80s/it]\n",
      "Collecting links from result pages...: 100%|██████████| 3/3 [00:00<00:00, 401.60it/s]\n",
      "Crawling hotels data...: 100%|██████████| 78/78 [06:45<00:00,  5.20s/it]\n"
     ]
    },
    {
     "name": "stdout",
     "output_type": "stream",
     "text": [
      "\n",
      "Cycle 4\n"
     ]
    },
    {
     "name": "stderr",
     "output_type": "stream",
     "text": [
      "Collecting next-links...: 100%|██████████| 33/33 [00:00<00:00, 513.14it/s]\n",
      "Collecting links from result pages...: 100%|██████████| 1/1 [00:00<00:00, 419.10it/s]\n",
      "Crawling hotels data...: 100%|██████████| 24/24 [02:22<00:00,  5.92s/it]\n"
     ]
    },
    {
     "name": "stdout",
     "output_type": "stream",
     "text": [
      "\n",
      "Cycle 5\n"
     ]
    },
    {
     "name": "stderr",
     "output_type": "stream",
     "text": [
      "Collecting next-links...:   0%|          | 0/33 [00:06<?, ?it/s]\n",
      "Collecting links from result pages...: 100%|██████████| 2/2 [00:00<00:00, 426.53it/s]\n",
      "Crawling hotels data...: 100%|██████████| 43/43 [03:48<00:00,  5.32s/it]\n"
     ]
    },
    {
     "name": "stdout",
     "output_type": "stream",
     "text": [
      "\n",
      "Cycle 6\n"
     ]
    },
    {
     "name": "stderr",
     "output_type": "stream",
     "text": [
      "Collecting next-links...:  12%|█▏        | 4/33 [00:23<02:49,  5.84s/it]\n",
      "Collecting links from result pages...: 100%|██████████| 6/6 [00:00<00:00, 377.32it/s]\n",
      "Crawling hotels data...: 100%|██████████| 180/180 [17:22<00:00,  5.79s/it]\n"
     ]
    },
    {
     "name": "stdout",
     "output_type": "stream",
     "text": [
      "\n",
      "Cycle 7\n"
     ]
    },
    {
     "name": "stderr",
     "output_type": "stream",
     "text": [
      "Collecting next-links...:   0%|          | 0/33 [00:05<?, ?it/s]\n",
      "Collecting links from result pages...: 100%|██████████| 2/2 [00:00<00:00, 449.36it/s]\n",
      "Crawling hotels data...: 100%|██████████| 41/41 [03:49<00:00,  5.59s/it]\n"
     ]
    },
    {
     "name": "stdout",
     "output_type": "stream",
     "text": [
      "\n",
      "Cycle 8\n"
     ]
    },
    {
     "name": "stderr",
     "output_type": "stream",
     "text": [
      "Collecting next-links...:  97%|█████████▋| 32/33 [02:38<00:04,  4.96s/it]\n",
      "Collecting links from result pages...: 100%|██████████| 34/34 [00:00<00:00, 407.18it/s]\n",
      "Crawling hotels data...: 100%|██████████| 1020/1020 [1:35:54<00:00,  5.64s/it]\n"
     ]
    },
    {
     "name": "stdout",
     "output_type": "stream",
     "text": [
      "\n",
      "Cycle 9\n"
     ]
    },
    {
     "name": "stderr",
     "output_type": "stream",
     "text": [
      "Collecting next-links...:  61%|██████    | 20/33 [01:40<01:05,  5.02s/it]\n",
      "Collecting links from result pages...: 100%|██████████| 22/22 [00:00<00:00, 419.79it/s]\n",
      "Crawling hotels data...: 100%|██████████| 654/654 [1:04:12<00:00,  5.89s/it]\n"
     ]
    },
    {
     "name": "stdout",
     "output_type": "stream",
     "text": [
      "\n",
      "Cycle 10\n"
     ]
    },
    {
     "name": "stderr",
     "output_type": "stream",
     "text": [
      "Collecting next-links...:  42%|████▏     | 14/33 [01:12<01:38,  5.17s/it]\n",
      "Collecting links from result pages...: 100%|██████████| 16/16 [00:00<00:00, 413.68it/s]\n",
      "Crawling hotels data...: 100%|██████████| 477/477 [45:19<00:00,  5.70s/it]\n"
     ]
    },
    {
     "name": "stdout",
     "output_type": "stream",
     "text": [
      "\n",
      "Cycle 11\n"
     ]
    },
    {
     "name": "stderr",
     "output_type": "stream",
     "text": [
      "Collecting next-links...:  33%|███▎      | 11/33 [00:57<01:55,  5.25s/it]\n",
      "Collecting links from result pages...: 100%|██████████| 13/13 [00:00<00:00, 383.10it/s]\n",
      "Crawling hotels data...: 100%|██████████| 381/381 [38:52<00:00,  6.12s/it]\n"
     ]
    },
    {
     "name": "stdout",
     "output_type": "stream",
     "text": [
      "\n",
      "Cycle 12\n"
     ]
    },
    {
     "name": "stderr",
     "output_type": "stream",
     "text": [
      "Collecting next-links...:  24%|██▍       | 8/33 [00:37<01:55,  4.64s/it]\n",
      "Collecting links from result pages...: 100%|██████████| 10/10 [00:00<00:00, 409.55it/s]\n",
      "Crawling hotels data...: 100%|██████████| 297/297 [27:51<00:00,  5.63s/it]\n"
     ]
    },
    {
     "name": "stdout",
     "output_type": "stream",
     "text": [
      "\n",
      "Cycle 13\n"
     ]
    },
    {
     "name": "stderr",
     "output_type": "stream",
     "text": [
      "Collecting next-links...:   3%|▎         | 1/33 [00:09<04:54,  9.21s/it]\n",
      "Collecting links from result pages...: 100%|██████████| 3/3 [00:00<00:00, 403.44it/s]\n",
      "Crawling hotels data...: 100%|██████████| 88/88 [08:13<00:00,  5.61s/it]\n"
     ]
    },
    {
     "name": "stdout",
     "output_type": "stream",
     "text": [
      "\n",
      "Cycle 14\n"
     ]
    },
    {
     "name": "stderr",
     "output_type": "stream",
     "text": [
      "Collecting next-links...:   6%|▌         | 2/33 [00:12<03:09,  6.11s/it]\n",
      "Collecting links from result pages...: 100%|██████████| 4/4 [00:00<00:00, 386.06it/s]\n",
      "Crawling hotels data...: 100%|██████████| 107/107 [09:56<00:00,  5.57s/it]\n"
     ]
    },
    {
     "name": "stdout",
     "output_type": "stream",
     "text": [
      "\n",
      "Cycle 15\n"
     ]
    },
    {
     "name": "stderr",
     "output_type": "stream",
     "text": [
      "Collecting next-links...:  24%|██▍       | 8/33 [00:37<01:57,  4.72s/it]\n",
      "Collecting links from result pages...: 100%|██████████| 10/10 [00:00<00:00, 384.42it/s]\n",
      "Crawling hotels data...: 100%|██████████| 281/281 [24:26<00:00,  5.22s/it]\n"
     ]
    },
    {
     "name": "stdout",
     "output_type": "stream",
     "text": [
      "\n",
      "Cycle 16\n"
     ]
    },
    {
     "name": "stderr",
     "output_type": "stream",
     "text": [
      "Collecting next-links...:   3%|▎         | 1/33 [00:09<05:13,  9.80s/it]\n",
      "Collecting links from result pages...: 100%|██████████| 3/3 [00:00<00:00, 406.56it/s]\n",
      "Crawling hotels data...: 100%|██████████| 66/66 [06:01<00:00,  5.48s/it]\n"
     ]
    },
    {
     "name": "stdout",
     "output_type": "stream",
     "text": [
      "\n",
      "Cycle 17\n"
     ]
    },
    {
     "name": "stderr",
     "output_type": "stream",
     "text": [
      "Collecting next-links...:   9%|▉         | 3/33 [00:17<02:58,  5.95s/it]\n",
      "Collecting links from result pages...: 100%|██████████| 5/5 [00:00<00:00, 425.46it/s]\n",
      "Crawling hotels data...: 100%|██████████| 147/147 [13:03<00:00,  5.33s/it]\n"
     ]
    },
    {
     "name": "stdout",
     "output_type": "stream",
     "text": [
      "\n",
      "Cycle 18\n"
     ]
    },
    {
     "name": "stderr",
     "output_type": "stream",
     "text": [
      "Collecting next-links...:  55%|█████▍    | 18/33 [01:25<01:11,  4.77s/it]\n",
      "Collecting links from result pages...: 100%|██████████| 20/20 [00:00<00:00, 384.76it/s]\n",
      "Crawling hotels data...: 100%|██████████| 586/586 [51:59<00:00,  5.32s/it] "
     ]
    },
    {
     "name": "stdout",
     "output_type": "stream",
     "text": [
      "\n"
     ]
    },
    {
     "name": "stderr",
     "output_type": "stream",
     "text": [
      "\n"
     ]
    }
   ],
   "source": [
    "for index, url in enumerate(searches):\n",
    "    print(\"Cycle\",index+1)\n",
    "    fullData.extend(getAllHotels(url))\n",
    "    print(\"\")"
   ]
  },
  {
   "cell_type": "code",
   "execution_count": 9,
   "metadata": {},
   "outputs": [
    {
     "data": {
      "text/html": [
       "<div>\n",
       "<style scoped>\n",
       "    .dataframe tbody tr th:only-of-type {\n",
       "        vertical-align: middle;\n",
       "    }\n",
       "\n",
       "    .dataframe tbody tr th {\n",
       "        vertical-align: top;\n",
       "    }\n",
       "\n",
       "    .dataframe thead th {\n",
       "        text-align: right;\n",
       "    }\n",
       "</style>\n",
       "<table border=\"1\" class=\"dataframe\">\n",
       "  <thead>\n",
       "    <tr style=\"text-align: right;\">\n",
       "      <th></th>\n",
       "      <th>hotelName</th>\n",
       "      <th>hotelAddress</th>\n",
       "      <th>hotelDescription</th>\n",
       "      <th>pricePerNight</th>\n",
       "      <th>scoreGeneral</th>\n",
       "      <th>scoreValueForMoney</th>\n",
       "      <th>scoreLocation</th>\n",
       "      <th>scoreClean</th>\n",
       "    </tr>\n",
       "  </thead>\n",
       "  <tbody>\n",
       "    <tr>\n",
       "      <th>0</th>\n",
       "      <td>Melio Hotel Eilat</td>\n",
       "      <td>\\nSderot Hativat HaNegev 20, Eilat\\n</td>\n",
       "      <td>\\nSet in Eilat, within 1.2 km of Kisuski Beach...</td>\n",
       "      <td>\\n₪ 286\\n</td>\n",
       "      <td>7.9 Good · 1,075 reviews</td>\n",
       "      <td>8.4</td>\n",
       "      <td>7.8</td>\n",
       "      <td>8.4</td>\n",
       "    </tr>\n",
       "    <tr>\n",
       "      <th>1</th>\n",
       "      <td>Badolina Ein Gedi Glamping</td>\n",
       "      <td>\\nEin Gedi Street, Ein Gedi\\n</td>\n",
       "      <td>\\nDead Sea Camping is set in Ein Gedi, within ...</td>\n",
       "      <td>\\n₪ 130\\n</td>\n",
       "      <td>8.5 Very good · 814 reviews</td>\n",
       "      <td>7.7</td>\n",
       "      <td>9.2</td>\n",
       "      <td>8.3</td>\n",
       "    </tr>\n",
       "    <tr>\n",
       "      <th>2</th>\n",
       "      <td>Daniel Herzliya Hotel</td>\n",
       "      <td>\\n60 Ramat Yam Street, Herzelia \\n</td>\n",
       "      <td>\\nSet right on the beach, in the heart of Herz...</td>\n",
       "      <td>\\n₪ 777\\n</td>\n",
       "      <td>7.9 Good · 162 reviews</td>\n",
       "      <td>7.5</td>\n",
       "      <td>9.0</td>\n",
       "      <td>8.0</td>\n",
       "    </tr>\n",
       "    <tr>\n",
       "      <th>3</th>\n",
       "      <td>Merom Golan Resort</td>\n",
       "      <td>\\nKibbutz Merom Golan, Merom Golan\\n</td>\n",
       "      <td>\\nMerom Golan Resort offers quiet mountain acc...</td>\n",
       "      <td>\\n₪ 983\\n</td>\n",
       "      <td>8.7 Fabulous · 1,400 reviews</td>\n",
       "      <td>7.9</td>\n",
       "      <td>9.4</td>\n",
       "      <td>8.9</td>\n",
       "    </tr>\n",
       "    <tr>\n",
       "      <th>4</th>\n",
       "      <td>Leonardo Club Hotel Dead Sea - All Inclusive</td>\n",
       "      <td>\\nEin Bokek (Dead sea), Ein Bokek\\n</td>\n",
       "      <td>\\nThis all-inclusive deluxe hotel is set a pri...</td>\n",
       "      <td>\\n₪ 1,308\\n</td>\n",
       "      <td>7.7 Good · 6,414 reviews</td>\n",
       "      <td>7.4</td>\n",
       "      <td>8.7</td>\n",
       "      <td>7.5</td>\n",
       "    </tr>\n",
       "    <tr>\n",
       "      <th>...</th>\n",
       "      <td>...</td>\n",
       "      <td>...</td>\n",
       "      <td>...</td>\n",
       "      <td>...</td>\n",
       "      <td>...</td>\n",
       "      <td>...</td>\n",
       "      <td>...</td>\n",
       "      <td>...</td>\n",
       "    </tr>\n",
       "    <tr>\n",
       "      <th>6076</th>\n",
       "      <td>צימר נוף העמק</td>\n",
       "      <td>\\n28 נוף העמק, Nof Kinneret\\n</td>\n",
       "      <td>\\nSituated in Nof Kinneret, 4.7 km from Israel...</td>\n",
       "      <td>\\n₪ 1,454\\n</td>\n",
       "      <td>8.0 Very good · 1 review</td>\n",
       "      <td>10</td>\n",
       "      <td>10</td>\n",
       "      <td>10</td>\n",
       "    </tr>\n",
       "    <tr>\n",
       "      <th>6077</th>\n",
       "      <td>Supreme 4BR Villa With Garden and Sea View</td>\n",
       "      <td>\\n55 Jabotinski Street, Nahariyya\\n</td>\n",
       "      <td>\\nSituated in Nahariyya and only 400 m from Ha...</td>\n",
       "      <td>\\n₪ 4,087\\n</td>\n",
       "      <td>NaN</td>\n",
       "      <td>NaN</td>\n",
       "      <td>NaN</td>\n",
       "      <td>NaN</td>\n",
       "    </tr>\n",
       "    <tr>\n",
       "      <th>6078</th>\n",
       "      <td>Blue lake luxury villa for families</td>\n",
       "      <td>\\nעין אל אסד, ‘Ein el Asad\\n</td>\n",
       "      <td>\\nLocated in ‘Ein el Asad and only 37 km from ...</td>\n",
       "      <td>\\n₪ 4,160\\n</td>\n",
       "      <td>6.0 Pleasant · 1 review</td>\n",
       "      <td>NaN</td>\n",
       "      <td>NaN</td>\n",
       "      <td>NaN</td>\n",
       "    </tr>\n",
       "    <tr>\n",
       "      <th>6079</th>\n",
       "      <td>Paradise by the sea</td>\n",
       "      <td>\\nדוגית, Nahariyya\\n</td>\n",
       "      <td>\\nParadise by the sea is located in Nahariyya,...</td>\n",
       "      <td>\\n₪ 2,880\\n</td>\n",
       "      <td>NaN</td>\n",
       "      <td>NaN</td>\n",
       "      <td>NaN</td>\n",
       "      <td>NaN</td>\n",
       "    </tr>\n",
       "    <tr>\n",
       "      <th>6080</th>\n",
       "      <td>Selina Kinneret</td>\n",
       "      <td>\\nמגדל RGJ8+GM Migdal, Migdal\\n</td>\n",
       "      <td>\\nSelina Kinneret features a seasonal outdoor ...</td>\n",
       "      <td>\\n₪ 96\\n</td>\n",
       "      <td>8.2 Very good · 745 reviews</td>\n",
       "      <td>7.9</td>\n",
       "      <td>9.3</td>\n",
       "      <td>8.1</td>\n",
       "    </tr>\n",
       "  </tbody>\n",
       "</table>\n",
       "<p>6081 rows × 8 columns</p>\n",
       "</div>"
      ],
      "text/plain": [
       "                                         hotelName  \\\n",
       "0                                Melio Hotel Eilat   \n",
       "1                       Badolina Ein Gedi Glamping   \n",
       "2                            Daniel Herzliya Hotel   \n",
       "3                               Merom Golan Resort   \n",
       "4     Leonardo Club Hotel Dead Sea - All Inclusive   \n",
       "...                                            ...   \n",
       "6076                                 צימר נוף העמק   \n",
       "6077    Supreme 4BR Villa With Garden and Sea View   \n",
       "6078           Blue lake luxury villa for families   \n",
       "6079                           Paradise by the sea   \n",
       "6080                               Selina Kinneret   \n",
       "\n",
       "                              hotelAddress  \\\n",
       "0     \\nSderot Hativat HaNegev 20, Eilat\\n   \n",
       "1            \\nEin Gedi Street, Ein Gedi\\n   \n",
       "2       \\n60 Ramat Yam Street, Herzelia \\n   \n",
       "3     \\nKibbutz Merom Golan, Merom Golan\\n   \n",
       "4      \\nEin Bokek (Dead sea), Ein Bokek\\n   \n",
       "...                                    ...   \n",
       "6076         \\n28 נוף העמק, Nof Kinneret\\n   \n",
       "6077   \\n55 Jabotinski Street, Nahariyya\\n   \n",
       "6078          \\nעין אל אסד, ‘Ein el Asad\\n   \n",
       "6079                  \\nדוגית, Nahariyya\\n   \n",
       "6080       \\nמגדל RGJ8+GM Migdal, Migdal\\n   \n",
       "\n",
       "                                       hotelDescription pricePerNight  \\\n",
       "0     \\nSet in Eilat, within 1.2 km of Kisuski Beach...     \\n₪ 286\\n   \n",
       "1     \\nDead Sea Camping is set in Ein Gedi, within ...     \\n₪ 130\\n   \n",
       "2     \\nSet right on the beach, in the heart of Herz...     \\n₪ 777\\n   \n",
       "3     \\nMerom Golan Resort offers quiet mountain acc...     \\n₪ 983\\n   \n",
       "4     \\nThis all-inclusive deluxe hotel is set a pri...   \\n₪ 1,308\\n   \n",
       "...                                                 ...           ...   \n",
       "6076  \\nSituated in Nof Kinneret, 4.7 km from Israel...   \\n₪ 1,454\\n   \n",
       "6077  \\nSituated in Nahariyya and only 400 m from Ha...   \\n₪ 4,087\\n   \n",
       "6078  \\nLocated in ‘Ein el Asad and only 37 km from ...   \\n₪ 4,160\\n   \n",
       "6079  \\nParadise by the sea is located in Nahariyya,...   \\n₪ 2,880\\n   \n",
       "6080  \\nSelina Kinneret features a seasonal outdoor ...      \\n₪ 96\\n   \n",
       "\n",
       "                      scoreGeneral scoreValueForMoney scoreLocation scoreClean  \n",
       "0         7.9 Good · 1,075 reviews                8.4           7.8        8.4  \n",
       "1      8.5 Very good · 814 reviews                7.7           9.2        8.3  \n",
       "2           7.9 Good · 162 reviews                7.5           9.0        8.0  \n",
       "3     8.7 Fabulous · 1,400 reviews                7.9           9.4        8.9  \n",
       "4         7.7 Good · 6,414 reviews                7.4           8.7        7.5  \n",
       "...                            ...                ...           ...        ...  \n",
       "6076      8.0 Very good · 1 review                 10            10         10  \n",
       "6077                           NaN                NaN           NaN        NaN  \n",
       "6078       6.0 Pleasant · 1 review                NaN           NaN        NaN  \n",
       "6079                           NaN                NaN           NaN        NaN  \n",
       "6080   8.2 Very good · 745 reviews                7.9           9.3        8.1  \n",
       "\n",
       "[6081 rows x 8 columns]"
      ]
     },
     "execution_count": 9,
     "metadata": {},
     "output_type": "execute_result"
    }
   ],
   "source": [
    "# Creating a data set:\n",
    "\n",
    "headers = [\"hotelName\", \"hotelAddress\", \"hotelDescription\", \"pricePerNight\",\"scoreGeneral\",\"scoreValueForMoney\",\"scoreLocation\",\"scoreClean\"]\n",
    "\n",
    "df = pd.DataFrame(fullData, columns=headers)\n",
    "df"
   ]
  },
  {
   "cell_type": "code",
   "execution_count": null,
   "metadata": {},
   "outputs": [],
   "source": [
    "# Export data set to csv:\n",
    "df.to_csv(\"Data/data.csv\", index=False)"
   ]
  },
  {
   "cell_type": "code",
   "execution_count": 3,
   "metadata": {},
   "outputs": [],
   "source": [
    "# Load data set from csv (for personal use):\n",
    "df = pd.read_csv(\"Data/data.csv\")"
   ]
  },
  {
   "cell_type": "code",
   "execution_count": 4,
   "metadata": {},
   "outputs": [
    {
     "data": {
      "text/html": [
       "<div>\n",
       "<style scoped>\n",
       "    .dataframe tbody tr th:only-of-type {\n",
       "        vertical-align: middle;\n",
       "    }\n",
       "\n",
       "    .dataframe tbody tr th {\n",
       "        vertical-align: top;\n",
       "    }\n",
       "\n",
       "    .dataframe thead th {\n",
       "        text-align: right;\n",
       "    }\n",
       "</style>\n",
       "<table border=\"1\" class=\"dataframe\">\n",
       "  <thead>\n",
       "    <tr style=\"text-align: right;\">\n",
       "      <th></th>\n",
       "      <th>hotelName</th>\n",
       "      <th>hotelAddress</th>\n",
       "      <th>hotelDescription</th>\n",
       "      <th>pricePerNight</th>\n",
       "      <th>scoreGeneral</th>\n",
       "      <th>scoreValueForMoney</th>\n",
       "      <th>scoreLocation</th>\n",
       "      <th>scoreClean</th>\n",
       "    </tr>\n",
       "  </thead>\n",
       "  <tbody>\n",
       "    <tr>\n",
       "      <th>0</th>\n",
       "      <td>Melio Hotel Eilat</td>\n",
       "      <td>\\nSderot Hativat HaNegev 20, Eilat\\n</td>\n",
       "      <td>\\nSet in Eilat, within 1.2 km of Kisuski Beach...</td>\n",
       "      <td>\\n₪ 286\\n</td>\n",
       "      <td>7.9 Good · 1,075 reviews</td>\n",
       "      <td>8.4</td>\n",
       "      <td>7.8</td>\n",
       "      <td>8.4</td>\n",
       "    </tr>\n",
       "    <tr>\n",
       "      <th>1</th>\n",
       "      <td>Badolina Ein Gedi Glamping</td>\n",
       "      <td>\\nEin Gedi Street, Ein Gedi\\n</td>\n",
       "      <td>\\nDead Sea Camping is set in Ein Gedi, within ...</td>\n",
       "      <td>\\n₪ 130\\n</td>\n",
       "      <td>8.5 Very good · 814 reviews</td>\n",
       "      <td>7.7</td>\n",
       "      <td>9.2</td>\n",
       "      <td>8.3</td>\n",
       "    </tr>\n",
       "    <tr>\n",
       "      <th>2</th>\n",
       "      <td>Daniel Herzliya Hotel</td>\n",
       "      <td>\\n60 Ramat Yam Street, Herzelia \\n</td>\n",
       "      <td>\\nSet right on the beach, in the heart of Herz...</td>\n",
       "      <td>\\n₪ 777\\n</td>\n",
       "      <td>7.9 Good · 162 reviews</td>\n",
       "      <td>7.5</td>\n",
       "      <td>9.0</td>\n",
       "      <td>8.0</td>\n",
       "    </tr>\n",
       "    <tr>\n",
       "      <th>3</th>\n",
       "      <td>Merom Golan Resort</td>\n",
       "      <td>\\nKibbutz Merom Golan, Merom Golan\\n</td>\n",
       "      <td>\\nMerom Golan Resort offers quiet mountain acc...</td>\n",
       "      <td>\\n₪ 983\\n</td>\n",
       "      <td>8.7 Fabulous · 1,400 reviews</td>\n",
       "      <td>7.9</td>\n",
       "      <td>9.4</td>\n",
       "      <td>8.9</td>\n",
       "    </tr>\n",
       "    <tr>\n",
       "      <th>4</th>\n",
       "      <td>Leonardo Club Hotel Dead Sea - All Inclusive</td>\n",
       "      <td>\\nEin Bokek (Dead sea), Ein Bokek\\n</td>\n",
       "      <td>\\nThis all-inclusive deluxe hotel is set a pri...</td>\n",
       "      <td>\\n₪ 1,308\\n</td>\n",
       "      <td>7.7 Good · 6,414 reviews</td>\n",
       "      <td>7.4</td>\n",
       "      <td>8.7</td>\n",
       "      <td>7.5</td>\n",
       "    </tr>\n",
       "    <tr>\n",
       "      <th>...</th>\n",
       "      <td>...</td>\n",
       "      <td>...</td>\n",
       "      <td>...</td>\n",
       "      <td>...</td>\n",
       "      <td>...</td>\n",
       "      <td>...</td>\n",
       "      <td>...</td>\n",
       "      <td>...</td>\n",
       "    </tr>\n",
       "    <tr>\n",
       "      <th>6076</th>\n",
       "      <td>צימר נוף העמק</td>\n",
       "      <td>\\n28 נוף העמק, Nof Kinneret\\n</td>\n",
       "      <td>\\nSituated in Nof Kinneret, 4.7 km from Israel...</td>\n",
       "      <td>\\n₪ 1,454\\n</td>\n",
       "      <td>8.0 Very good · 1 review</td>\n",
       "      <td>10.0</td>\n",
       "      <td>10.0</td>\n",
       "      <td>10.0</td>\n",
       "    </tr>\n",
       "    <tr>\n",
       "      <th>6077</th>\n",
       "      <td>Supreme 4BR Villa With Garden and Sea View</td>\n",
       "      <td>\\n55 Jabotinski Street, Nahariyya\\n</td>\n",
       "      <td>\\nSituated in Nahariyya and only 400 m from Ha...</td>\n",
       "      <td>\\n₪ 4,087\\n</td>\n",
       "      <td>NaN</td>\n",
       "      <td>NaN</td>\n",
       "      <td>NaN</td>\n",
       "      <td>NaN</td>\n",
       "    </tr>\n",
       "    <tr>\n",
       "      <th>6078</th>\n",
       "      <td>Blue lake luxury villa for families</td>\n",
       "      <td>\\nעין אל אסד, ‘Ein el Asad\\n</td>\n",
       "      <td>\\nLocated in ‘Ein el Asad and only 37 km from ...</td>\n",
       "      <td>\\n₪ 4,160\\n</td>\n",
       "      <td>6.0 Pleasant · 1 review</td>\n",
       "      <td>NaN</td>\n",
       "      <td>NaN</td>\n",
       "      <td>NaN</td>\n",
       "    </tr>\n",
       "    <tr>\n",
       "      <th>6079</th>\n",
       "      <td>Paradise by the sea</td>\n",
       "      <td>\\nדוגית, Nahariyya\\n</td>\n",
       "      <td>\\nParadise by the sea is located in Nahariyya,...</td>\n",
       "      <td>\\n₪ 2,880\\n</td>\n",
       "      <td>NaN</td>\n",
       "      <td>NaN</td>\n",
       "      <td>NaN</td>\n",
       "      <td>NaN</td>\n",
       "    </tr>\n",
       "    <tr>\n",
       "      <th>6080</th>\n",
       "      <td>Selina Kinneret</td>\n",
       "      <td>\\nמגדל RGJ8+GM Migdal, Migdal\\n</td>\n",
       "      <td>\\nSelina Kinneret features a seasonal outdoor ...</td>\n",
       "      <td>\\n₪ 96\\n</td>\n",
       "      <td>8.2 Very good · 745 reviews</td>\n",
       "      <td>7.9</td>\n",
       "      <td>9.3</td>\n",
       "      <td>8.1</td>\n",
       "    </tr>\n",
       "  </tbody>\n",
       "</table>\n",
       "<p>6081 rows × 8 columns</p>\n",
       "</div>"
      ],
      "text/plain": [
       "                                         hotelName  \\\n",
       "0                                Melio Hotel Eilat   \n",
       "1                       Badolina Ein Gedi Glamping   \n",
       "2                            Daniel Herzliya Hotel   \n",
       "3                               Merom Golan Resort   \n",
       "4     Leonardo Club Hotel Dead Sea - All Inclusive   \n",
       "...                                            ...   \n",
       "6076                                 צימר נוף העמק   \n",
       "6077    Supreme 4BR Villa With Garden and Sea View   \n",
       "6078           Blue lake luxury villa for families   \n",
       "6079                           Paradise by the sea   \n",
       "6080                               Selina Kinneret   \n",
       "\n",
       "                              hotelAddress  \\\n",
       "0     \\nSderot Hativat HaNegev 20, Eilat\\n   \n",
       "1            \\nEin Gedi Street, Ein Gedi\\n   \n",
       "2       \\n60 Ramat Yam Street, Herzelia \\n   \n",
       "3     \\nKibbutz Merom Golan, Merom Golan\\n   \n",
       "4      \\nEin Bokek (Dead sea), Ein Bokek\\n   \n",
       "...                                    ...   \n",
       "6076         \\n28 נוף העמק, Nof Kinneret\\n   \n",
       "6077   \\n55 Jabotinski Street, Nahariyya\\n   \n",
       "6078          \\nעין אל אסד, ‘Ein el Asad\\n   \n",
       "6079                  \\nדוגית, Nahariyya\\n   \n",
       "6080       \\nמגדל RGJ8+GM Migdal, Migdal\\n   \n",
       "\n",
       "                                       hotelDescription pricePerNight  \\\n",
       "0     \\nSet in Eilat, within 1.2 km of Kisuski Beach...     \\n₪ 286\\n   \n",
       "1     \\nDead Sea Camping is set in Ein Gedi, within ...     \\n₪ 130\\n   \n",
       "2     \\nSet right on the beach, in the heart of Herz...     \\n₪ 777\\n   \n",
       "3     \\nMerom Golan Resort offers quiet mountain acc...     \\n₪ 983\\n   \n",
       "4     \\nThis all-inclusive deluxe hotel is set a pri...   \\n₪ 1,308\\n   \n",
       "...                                                 ...           ...   \n",
       "6076  \\nSituated in Nof Kinneret, 4.7 km from Israel...   \\n₪ 1,454\\n   \n",
       "6077  \\nSituated in Nahariyya and only 400 m from Ha...   \\n₪ 4,087\\n   \n",
       "6078  \\nLocated in ‘Ein el Asad and only 37 km from ...   \\n₪ 4,160\\n   \n",
       "6079  \\nParadise by the sea is located in Nahariyya,...   \\n₪ 2,880\\n   \n",
       "6080  \\nSelina Kinneret features a seasonal outdoor ...      \\n₪ 96\\n   \n",
       "\n",
       "                      scoreGeneral  scoreValueForMoney  scoreLocation  \\\n",
       "0         7.9 Good · 1,075 reviews                 8.4            7.8   \n",
       "1      8.5 Very good · 814 reviews                 7.7            9.2   \n",
       "2           7.9 Good · 162 reviews                 7.5            9.0   \n",
       "3     8.7 Fabulous · 1,400 reviews                 7.9            9.4   \n",
       "4         7.7 Good · 6,414 reviews                 7.4            8.7   \n",
       "...                            ...                 ...            ...   \n",
       "6076      8.0 Very good · 1 review                10.0           10.0   \n",
       "6077                           NaN                 NaN            NaN   \n",
       "6078       6.0 Pleasant · 1 review                 NaN            NaN   \n",
       "6079                           NaN                 NaN            NaN   \n",
       "6080   8.2 Very good · 745 reviews                 7.9            9.3   \n",
       "\n",
       "      scoreClean  \n",
       "0            8.4  \n",
       "1            8.3  \n",
       "2            8.0  \n",
       "3            8.9  \n",
       "4            7.5  \n",
       "...          ...  \n",
       "6076        10.0  \n",
       "6077         NaN  \n",
       "6078         NaN  \n",
       "6079         NaN  \n",
       "6080         8.1  \n",
       "\n",
       "[6081 rows x 8 columns]"
      ]
     },
     "execution_count": 4,
     "metadata": {},
     "output_type": "execute_result"
    }
   ],
   "source": [
    "df"
   ]
  },
  {
   "cell_type": "code",
   "execution_count": 5,
   "metadata": {},
   "outputs": [
    {
     "data": {
      "text/plain": [
       "(6081, 8)"
      ]
     },
     "execution_count": 5,
     "metadata": {},
     "output_type": "execute_result"
    }
   ],
   "source": [
    "df.shape"
   ]
  },
  {
   "attachments": {},
   "cell_type": "markdown",
   "metadata": {},
   "source": [
    "Currently the data size is 6081 * 8 = 48,648.\n",
    "\n",
    "We're not done getting all the data yet, and we'll have a few more columns, like distanceToTlv and address details. These columns will be added during and after the Data Handling step.\n",
    "\n",
    "Finally the data size will be XXXX."
   ]
  },
  {
   "attachments": {},
   "cell_type": "markdown",
   "metadata": {},
   "source": [
    "## Step 3: Data Handling"
   ]
  },
  {
   "attachments": {},
   "cell_type": "markdown",
   "metadata": {},
   "source": [
    "At this point, we will need to handle our data and organize it. For example, in the hotel data we crawled, some hotels do not have ratings on Booking.com. In addition, we will have to deal with duplicate hotels and outliers that do not reflect most of our data. Let's go for it!"
   ]
  },
  {
   "attachments": {},
   "cell_type": "markdown",
   "metadata": {},
   "source": [
    "### Auxiliary Functions"
   ]
  },
  {
   "attachments": {},
   "cell_type": "markdown",
   "metadata": {},
   "source": [
    "#### Cleaning Data"
   ]
  },
  {
   "cell_type": "code",
   "execution_count": 6,
   "metadata": {},
   "outputs": [],
   "source": [
    "#extract the adress to three new columns\n",
    "#as function\n",
    "def addTwoCol(df):\n",
    "\n",
    "    newDf = df.copy()\n",
    "\n",
    "    #create 3 new columns\n",
    "    #newDf['House Number'] = ''\n",
    "    newDf['Street'] = ''\n",
    "    newDf['City'] = ''\n",
    "\n",
    "    #extract the data\n",
    "    #newDf['House Number'] = newDf['hotelAddress'].str.split(' ').str[0]\n",
    "    newDf['Street'] = newDf['hotelAddress'].str.split(',').str[0]\n",
    "    #newDf['street'] = newDf['hotelAddress'].str.extract(r'\\s(.*?)\\,')\n",
    "    #newDf['Street'] = newDf['hotelAddress'].str.extract(r'^(.*?),')\n",
    "    newDf['City'] = newDf['hotelAddress'].str.split(',', 1).str[1].str.strip()\n",
    "\n",
    "    return newDf \n"
   ]
  },
  {
   "cell_type": "code",
   "execution_count": 7,
   "metadata": {},
   "outputs": [],
   "source": [
    "# # add a column with the distance from TLV\n",
    "#  #for check\n",
    "# df1['distance-TLV'] = ''\n",
    "\n",
    "# city_name = df1['City'].tolist()\n",
    "# print(city_name)\n",
    "# TLVDis= []\n",
    "# for city in city_name:\n",
    "#     time.sleep(2)\n",
    "#     city_id = getCityID(city)\n",
    "#     time.sleep(1)\n",
    "#     city_distance = getCityDistance(city_id)\n",
    "#     TLVDis.append(city_distance)\n",
    "\n",
    "\n",
    "# for j in range(len(TLVDis)):\n",
    "#     df1.at[j,'distance-TLV'] = TLVDis[j]\n",
    "\n",
    "\n",
    "# print(df1)"
   ]
  },
  {
   "cell_type": "code",
   "execution_count": 8,
   "metadata": {},
   "outputs": [],
   "source": [
    "# Handling \"/n\" signs and others\n",
    "\n",
    "def cleanSigns(df, cols):\n",
    "\n",
    "    newDf = df.copy()\n",
    "\n",
    "    for column in cols:\n",
    "        newDf[column] = newDf[column].str.replace(\"[\\n\\t\\r₪]\", \"\", regex=True)\n",
    "\n",
    "    return newDf"
   ]
  },
  {
   "cell_type": "code",
   "execution_count": 9,
   "metadata": {},
   "outputs": [],
   "source": [
    "# Extracting \"generalScore\" from a columm:\n",
    "\n",
    "def extractNumbers(df, column):\n",
    "\n",
    "    newDf = df.copy()\n",
    "    newDf[column] = newDf[column].str.split().str[0]\n",
    "\n",
    "    return newDf"
   ]
  },
  {
   "cell_type": "code",
   "execution_count": 10,
   "metadata": {},
   "outputs": [],
   "source": [
    "# Converting text columns to numbers:\n",
    "\n",
    "def convertToNum(df, cols):\n",
    "    \n",
    "    newDf = df.copy()\n",
    "\n",
    "    for column in cols:\n",
    "        newDf[column] = pd.to_numeric(df[column], errors=\"coerce\")\n",
    "    \n",
    "    return newDf"
   ]
  },
  {
   "cell_type": "code",
   "execution_count": 11,
   "metadata": {},
   "outputs": [],
   "source": [
    "# Removing space and comma from a column:\n",
    "\n",
    "def removeSpaceComma(df, column):\n",
    "    \n",
    "    newDf = df.copy()\n",
    "    newDf[column] = newDf[column].str.replace(\"[\\s,]\", \"\", regex=True)\n",
    "    \n",
    "    return newDf"
   ]
  },
  {
   "attachments": {},
   "cell_type": "markdown",
   "metadata": {},
   "source": [
    "#### Handling duplicates"
   ]
  },
  {
   "cell_type": "code",
   "execution_count": 12,
   "metadata": {},
   "outputs": [],
   "source": [
    "# Count duplications:\n",
    "\n",
    "def countDup(df):\n",
    "    sum = df.duplicated().sum()\n",
    "    return df[df.duplicated()].shape\n",
    "\n",
    "# AMIT I THINK THERE IS A MISTAKE HERE"
   ]
  },
  {
   "cell_type": "code",
   "execution_count": 13,
   "metadata": {},
   "outputs": [],
   "source": [
    "# Delete the duplicated rows:\n",
    "\n",
    "def deleteDup(df):\n",
    "    newDf = df.copy()\n",
    "    return newDf.drop_duplicates()"
   ]
  },
  {
   "attachments": {},
   "cell_type": "markdown",
   "metadata": {},
   "source": [
    "#### Handling missing data\n"
   ]
  },
  {
   "cell_type": "code",
   "execution_count": 14,
   "metadata": {},
   "outputs": [],
   "source": [
    "# Clean all the rows with more than x NaN:\n",
    "\n",
    "def cleanTreshRows(df, numMmaxMissingCols):\n",
    "    newdf = df.copy()\n",
    "    return newdf.dropna(thresh = df.shape[1] - numMmaxMissingCols).copy()"
   ]
  },
  {
   "cell_type": "code",
   "execution_count": 15,
   "metadata": {},
   "outputs": [],
   "source": [
    "# Replace missing strings with \"bla\" and missing nums with the median:\n",
    "\n",
    "def replaceMissingValues(df):\n",
    "\n",
    "    newDf = df.copy()\n",
    "\n",
    "    for col in newDf.columns: \n",
    "        if newDf[col].dtype in ['float64', 'int64']:\n",
    "            newDf[col].fillna(newDf[col].median(), inplace=True)\n",
    "\n",
    "        elif newDf[col].dtype == 'object':\n",
    "            newDf[col].fillna('bla', inplace=True)\n",
    "            \n",
    "    return newDf"
   ]
  },
  {
   "attachments": {},
   "cell_type": "markdown",
   "metadata": {},
   "source": [
    "#### Handling outliers:"
   ]
  },
  {
   "cell_type": "code",
   "execution_count": 49,
   "metadata": {},
   "outputs": [],
   "source": [
    "# Presenting boxplot of IQR and returns number of outliers:\n",
    "\n",
    "def showOutliers(df, column):\n",
    "\n",
    "    sns.boxplot(df[column])\n",
    "\n",
    "    Q1 = np.percentile(df[column], 25)\n",
    "    Q3 = np.percentile(df[column], 75)\n",
    "    IQR = Q3 - Q1\n",
    "\n",
    "    return len(df[(df[column] < Q1 - 1.5*IQR) | (df[column] > Q3 + 1.5*IQR)])"
   ]
  },
  {
   "cell_type": "code",
   "execution_count": null,
   "metadata": {},
   "outputs": [],
   "source": [
    "# Replace outliers:\n",
    "\n",
    "def (df):\n",
    "\n",
    "    newDf = df.copy()\n",
    "\n",
    "    Q1 = \n",
    "    Q2 = \n",
    "    IQR = \n",
    "\n",
    "    d"
   ]
  },
  {
   "attachments": {},
   "cell_type": "markdown",
   "metadata": {},
   "source": [
    "### Main Function"
   ]
  },
  {
   "cell_type": "code",
   "execution_count": 41,
   "metadata": {},
   "outputs": [],
   "source": [
    "df = pd.read_csv(\"Data/data.csv\")"
   ]
  },
  {
   "cell_type": "code",
   "execution_count": 42,
   "metadata": {},
   "outputs": [],
   "source": [
    "# Main:\n",
    "\n",
    "# Cleaning the data:\n",
    "df = cleanSigns(df,[\"hotelAddress\",\"hotelDescription\",\"pricePerNight\"])\n",
    "df = removeSpaceComma(df, \"pricePerNight\")\n",
    "df = extractNumbers(df,\"scoreGeneral\")\n",
    "df = convertToNum(df, [\"pricePerNight\",\"scoreGeneral\",\"scoreValueForMoney\",\"scoreLocation\",\"scoreClean\"])\n",
    "df = cleanTreshRows(df,5)\n",
    "df = addTwoCol(df)"
   ]
  },
  {
   "cell_type": "code",
   "execution_count": 43,
   "metadata": {},
   "outputs": [
    {
     "data": {
      "text/html": [
       "<div>\n",
       "<style scoped>\n",
       "    .dataframe tbody tr th:only-of-type {\n",
       "        vertical-align: middle;\n",
       "    }\n",
       "\n",
       "    .dataframe tbody tr th {\n",
       "        vertical-align: top;\n",
       "    }\n",
       "\n",
       "    .dataframe thead th {\n",
       "        text-align: right;\n",
       "    }\n",
       "</style>\n",
       "<table border=\"1\" class=\"dataframe\">\n",
       "  <thead>\n",
       "    <tr style=\"text-align: right;\">\n",
       "      <th></th>\n",
       "      <th>hotelName</th>\n",
       "      <th>hotelAddress</th>\n",
       "      <th>hotelDescription</th>\n",
       "      <th>pricePerNight</th>\n",
       "      <th>scoreGeneral</th>\n",
       "      <th>scoreValueForMoney</th>\n",
       "      <th>scoreLocation</th>\n",
       "      <th>scoreClean</th>\n",
       "      <th>Street</th>\n",
       "      <th>City</th>\n",
       "    </tr>\n",
       "  </thead>\n",
       "  <tbody>\n",
       "    <tr>\n",
       "      <th>0</th>\n",
       "      <td>Melio Hotel Eilat</td>\n",
       "      <td>Sderot Hativat HaNegev 20, Eilat</td>\n",
       "      <td>Set in Eilat, within 1.2 km of Kisuski Beach a...</td>\n",
       "      <td>286.0</td>\n",
       "      <td>7.9</td>\n",
       "      <td>8.4</td>\n",
       "      <td>7.8</td>\n",
       "      <td>8.4</td>\n",
       "      <td>Sderot Hativat HaNegev 20</td>\n",
       "      <td>Eilat</td>\n",
       "    </tr>\n",
       "    <tr>\n",
       "      <th>1</th>\n",
       "      <td>Badolina Ein Gedi Glamping</td>\n",
       "      <td>Ein Gedi Street, Ein Gedi</td>\n",
       "      <td>Dead Sea Camping is set in Ein Gedi, within 1 ...</td>\n",
       "      <td>130.0</td>\n",
       "      <td>8.5</td>\n",
       "      <td>7.7</td>\n",
       "      <td>9.2</td>\n",
       "      <td>8.3</td>\n",
       "      <td>Ein Gedi Street</td>\n",
       "      <td>Ein Gedi</td>\n",
       "    </tr>\n",
       "    <tr>\n",
       "      <th>2</th>\n",
       "      <td>Daniel Herzliya Hotel</td>\n",
       "      <td>60 Ramat Yam Street, Herzelia</td>\n",
       "      <td>Set right on the beach, in the heart of Herzli...</td>\n",
       "      <td>777.0</td>\n",
       "      <td>7.9</td>\n",
       "      <td>7.5</td>\n",
       "      <td>9.0</td>\n",
       "      <td>8.0</td>\n",
       "      <td>60 Ramat Yam Street</td>\n",
       "      <td>Herzelia</td>\n",
       "    </tr>\n",
       "    <tr>\n",
       "      <th>3</th>\n",
       "      <td>Merom Golan Resort</td>\n",
       "      <td>Kibbutz Merom Golan, Merom Golan</td>\n",
       "      <td>Merom Golan Resort offers quiet mountain accom...</td>\n",
       "      <td>983.0</td>\n",
       "      <td>8.7</td>\n",
       "      <td>7.9</td>\n",
       "      <td>9.4</td>\n",
       "      <td>8.9</td>\n",
       "      <td>Kibbutz Merom Golan</td>\n",
       "      <td>Merom Golan</td>\n",
       "    </tr>\n",
       "    <tr>\n",
       "      <th>4</th>\n",
       "      <td>Leonardo Club Hotel Dead Sea - All Inclusive</td>\n",
       "      <td>Ein Bokek (Dead sea), Ein Bokek</td>\n",
       "      <td>This all-inclusive deluxe hotel is set a priva...</td>\n",
       "      <td>1308.0</td>\n",
       "      <td>7.7</td>\n",
       "      <td>7.4</td>\n",
       "      <td>8.7</td>\n",
       "      <td>7.5</td>\n",
       "      <td>Ein Bokek (Dead sea)</td>\n",
       "      <td>Ein Bokek</td>\n",
       "    </tr>\n",
       "    <tr>\n",
       "      <th>...</th>\n",
       "      <td>...</td>\n",
       "      <td>...</td>\n",
       "      <td>...</td>\n",
       "      <td>...</td>\n",
       "      <td>...</td>\n",
       "      <td>...</td>\n",
       "      <td>...</td>\n",
       "      <td>...</td>\n",
       "      <td>...</td>\n",
       "      <td>...</td>\n",
       "    </tr>\n",
       "    <tr>\n",
       "      <th>6076</th>\n",
       "      <td>צימר נוף העמק</td>\n",
       "      <td>28 נוף העמק, Nof Kinneret</td>\n",
       "      <td>Situated in Nof Kinneret, 4.7 km from Israel B...</td>\n",
       "      <td>1454.0</td>\n",
       "      <td>8.0</td>\n",
       "      <td>10.0</td>\n",
       "      <td>10.0</td>\n",
       "      <td>10.0</td>\n",
       "      <td>28 נוף העמק</td>\n",
       "      <td>Nof Kinneret</td>\n",
       "    </tr>\n",
       "    <tr>\n",
       "      <th>6077</th>\n",
       "      <td>Supreme 4BR Villa With Garden and Sea View</td>\n",
       "      <td>55 Jabotinski Street, Nahariyya</td>\n",
       "      <td>Situated in Nahariyya and only 400 m from HaDe...</td>\n",
       "      <td>4087.0</td>\n",
       "      <td>NaN</td>\n",
       "      <td>NaN</td>\n",
       "      <td>NaN</td>\n",
       "      <td>NaN</td>\n",
       "      <td>55 Jabotinski Street</td>\n",
       "      <td>Nahariyya</td>\n",
       "    </tr>\n",
       "    <tr>\n",
       "      <th>6078</th>\n",
       "      <td>Blue lake luxury villa for families</td>\n",
       "      <td>עין אל אסד, ‘Ein el Asad</td>\n",
       "      <td>Located in ‘Ein el Asad and only 37 km from Th...</td>\n",
       "      <td>4160.0</td>\n",
       "      <td>6.0</td>\n",
       "      <td>NaN</td>\n",
       "      <td>NaN</td>\n",
       "      <td>NaN</td>\n",
       "      <td>עין אל אסד</td>\n",
       "      <td>‘Ein el Asad</td>\n",
       "    </tr>\n",
       "    <tr>\n",
       "      <th>6079</th>\n",
       "      <td>Paradise by the sea</td>\n",
       "      <td>דוגית, Nahariyya</td>\n",
       "      <td>Paradise by the sea is located in Nahariyya, 1...</td>\n",
       "      <td>2880.0</td>\n",
       "      <td>NaN</td>\n",
       "      <td>NaN</td>\n",
       "      <td>NaN</td>\n",
       "      <td>NaN</td>\n",
       "      <td>דוגית</td>\n",
       "      <td>Nahariyya</td>\n",
       "    </tr>\n",
       "    <tr>\n",
       "      <th>6080</th>\n",
       "      <td>Selina Kinneret</td>\n",
       "      <td>מגדל RGJ8+GM Migdal, Migdal</td>\n",
       "      <td>Selina Kinneret features a seasonal outdoor sw...</td>\n",
       "      <td>96.0</td>\n",
       "      <td>8.2</td>\n",
       "      <td>7.9</td>\n",
       "      <td>9.3</td>\n",
       "      <td>8.1</td>\n",
       "      <td>מגדל RGJ8+GM Migdal</td>\n",
       "      <td>Migdal</td>\n",
       "    </tr>\n",
       "  </tbody>\n",
       "</table>\n",
       "<p>6081 rows × 10 columns</p>\n",
       "</div>"
      ],
      "text/plain": [
       "                                         hotelName  \\\n",
       "0                                Melio Hotel Eilat   \n",
       "1                       Badolina Ein Gedi Glamping   \n",
       "2                            Daniel Herzliya Hotel   \n",
       "3                               Merom Golan Resort   \n",
       "4     Leonardo Club Hotel Dead Sea - All Inclusive   \n",
       "...                                            ...   \n",
       "6076                                 צימר נוף העמק   \n",
       "6077    Supreme 4BR Villa With Garden and Sea View   \n",
       "6078           Blue lake luxury villa for families   \n",
       "6079                           Paradise by the sea   \n",
       "6080                               Selina Kinneret   \n",
       "\n",
       "                          hotelAddress  \\\n",
       "0     Sderot Hativat HaNegev 20, Eilat   \n",
       "1            Ein Gedi Street, Ein Gedi   \n",
       "2       60 Ramat Yam Street, Herzelia    \n",
       "3     Kibbutz Merom Golan, Merom Golan   \n",
       "4      Ein Bokek (Dead sea), Ein Bokek   \n",
       "...                                ...   \n",
       "6076         28 נוף העמק, Nof Kinneret   \n",
       "6077   55 Jabotinski Street, Nahariyya   \n",
       "6078          עין אל אסד, ‘Ein el Asad   \n",
       "6079                  דוגית, Nahariyya   \n",
       "6080       מגדל RGJ8+GM Migdal, Migdal   \n",
       "\n",
       "                                       hotelDescription  pricePerNight  \\\n",
       "0     Set in Eilat, within 1.2 km of Kisuski Beach a...          286.0   \n",
       "1     Dead Sea Camping is set in Ein Gedi, within 1 ...          130.0   \n",
       "2     Set right on the beach, in the heart of Herzli...          777.0   \n",
       "3     Merom Golan Resort offers quiet mountain accom...          983.0   \n",
       "4     This all-inclusive deluxe hotel is set a priva...         1308.0   \n",
       "...                                                 ...            ...   \n",
       "6076  Situated in Nof Kinneret, 4.7 km from Israel B...         1454.0   \n",
       "6077  Situated in Nahariyya and only 400 m from HaDe...         4087.0   \n",
       "6078  Located in ‘Ein el Asad and only 37 km from Th...         4160.0   \n",
       "6079  Paradise by the sea is located in Nahariyya, 1...         2880.0   \n",
       "6080  Selina Kinneret features a seasonal outdoor sw...           96.0   \n",
       "\n",
       "      scoreGeneral  scoreValueForMoney  scoreLocation  scoreClean  \\\n",
       "0              7.9                 8.4            7.8         8.4   \n",
       "1              8.5                 7.7            9.2         8.3   \n",
       "2              7.9                 7.5            9.0         8.0   \n",
       "3              8.7                 7.9            9.4         8.9   \n",
       "4              7.7                 7.4            8.7         7.5   \n",
       "...            ...                 ...            ...         ...   \n",
       "6076           8.0                10.0           10.0        10.0   \n",
       "6077           NaN                 NaN            NaN         NaN   \n",
       "6078           6.0                 NaN            NaN         NaN   \n",
       "6079           NaN                 NaN            NaN         NaN   \n",
       "6080           8.2                 7.9            9.3         8.1   \n",
       "\n",
       "                         Street          City  \n",
       "0     Sderot Hativat HaNegev 20         Eilat  \n",
       "1               Ein Gedi Street      Ein Gedi  \n",
       "2           60 Ramat Yam Street      Herzelia  \n",
       "3           Kibbutz Merom Golan   Merom Golan  \n",
       "4          Ein Bokek (Dead sea)     Ein Bokek  \n",
       "...                         ...           ...  \n",
       "6076                28 נוף העמק  Nof Kinneret  \n",
       "6077       55 Jabotinski Street     Nahariyya  \n",
       "6078                 עין אל אסד  ‘Ein el Asad  \n",
       "6079                      דוגית     Nahariyya  \n",
       "6080        מגדל RGJ8+GM Migdal        Migdal  \n",
       "\n",
       "[6081 rows x 10 columns]"
      ]
     },
     "execution_count": 43,
     "metadata": {},
     "output_type": "execute_result"
    }
   ],
   "source": [
    "df"
   ]
  },
  {
   "cell_type": "code",
   "execution_count": 44,
   "metadata": {},
   "outputs": [
    {
     "data": {
      "text/plain": [
       "(3626, 10)"
      ]
     },
     "execution_count": 44,
     "metadata": {},
     "output_type": "execute_result"
    }
   ],
   "source": [
    "# Handling with duplications:\n",
    "\n",
    "df = deleteDup(df)\n",
    "df.shape"
   ]
  },
  {
   "cell_type": "code",
   "execution_count": 45,
   "metadata": {},
   "outputs": [
    {
     "data": {
      "text/html": [
       "<div>\n",
       "<style scoped>\n",
       "    .dataframe tbody tr th:only-of-type {\n",
       "        vertical-align: middle;\n",
       "    }\n",
       "\n",
       "    .dataframe tbody tr th {\n",
       "        vertical-align: top;\n",
       "    }\n",
       "\n",
       "    .dataframe thead th {\n",
       "        text-align: right;\n",
       "    }\n",
       "</style>\n",
       "<table border=\"1\" class=\"dataframe\">\n",
       "  <thead>\n",
       "    <tr style=\"text-align: right;\">\n",
       "      <th></th>\n",
       "      <th>hotelName</th>\n",
       "      <th>hotelAddress</th>\n",
       "      <th>hotelDescription</th>\n",
       "      <th>pricePerNight</th>\n",
       "      <th>scoreGeneral</th>\n",
       "      <th>scoreValueForMoney</th>\n",
       "      <th>scoreLocation</th>\n",
       "      <th>scoreClean</th>\n",
       "      <th>Street</th>\n",
       "      <th>City</th>\n",
       "    </tr>\n",
       "  </thead>\n",
       "  <tbody>\n",
       "    <tr>\n",
       "      <th>count</th>\n",
       "      <td>3626</td>\n",
       "      <td>3626</td>\n",
       "      <td>3626</td>\n",
       "      <td>3626.000000</td>\n",
       "      <td>3626.000000</td>\n",
       "      <td>3626.000000</td>\n",
       "      <td>3626.000000</td>\n",
       "      <td>3626.000000</td>\n",
       "      <td>3626</td>\n",
       "      <td>3626</td>\n",
       "    </tr>\n",
       "    <tr>\n",
       "      <th>unique</th>\n",
       "      <td>2737</td>\n",
       "      <td>2548</td>\n",
       "      <td>3429</td>\n",
       "      <td>NaN</td>\n",
       "      <td>NaN</td>\n",
       "      <td>NaN</td>\n",
       "      <td>NaN</td>\n",
       "      <td>NaN</td>\n",
       "      <td>2523</td>\n",
       "      <td>467</td>\n",
       "    </tr>\n",
       "    <tr>\n",
       "      <th>top</th>\n",
       "      <td>Beauty Apt in Central location</td>\n",
       "      <td>7 Mendele Mokher Sfarim Street, Tel Aviv</td>\n",
       "      <td>Attractively located in Tel Aviv, Selina Frish...</td>\n",
       "      <td>NaN</td>\n",
       "      <td>NaN</td>\n",
       "      <td>NaN</td>\n",
       "      <td>NaN</td>\n",
       "      <td>NaN</td>\n",
       "      <td>7 Mendele Mokher Sfarim Street</td>\n",
       "      <td>Tel Aviv</td>\n",
       "    </tr>\n",
       "    <tr>\n",
       "      <th>freq</th>\n",
       "      <td>6</td>\n",
       "      <td>11</td>\n",
       "      <td>3</td>\n",
       "      <td>NaN</td>\n",
       "      <td>NaN</td>\n",
       "      <td>NaN</td>\n",
       "      <td>NaN</td>\n",
       "      <td>NaN</td>\n",
       "      <td>11</td>\n",
       "      <td>580</td>\n",
       "    </tr>\n",
       "    <tr>\n",
       "      <th>mean</th>\n",
       "      <td>NaN</td>\n",
       "      <td>NaN</td>\n",
       "      <td>NaN</td>\n",
       "      <td>989.474076</td>\n",
       "      <td>8.430061</td>\n",
       "      <td>8.796663</td>\n",
       "      <td>9.224242</td>\n",
       "      <td>9.114231</td>\n",
       "      <td>NaN</td>\n",
       "      <td>NaN</td>\n",
       "    </tr>\n",
       "    <tr>\n",
       "      <th>std</th>\n",
       "      <td>NaN</td>\n",
       "      <td>NaN</td>\n",
       "      <td>NaN</td>\n",
       "      <td>1277.180745</td>\n",
       "      <td>1.404910</td>\n",
       "      <td>0.680967</td>\n",
       "      <td>0.544606</td>\n",
       "      <td>0.652720</td>\n",
       "      <td>NaN</td>\n",
       "      <td>NaN</td>\n",
       "    </tr>\n",
       "    <tr>\n",
       "      <th>min</th>\n",
       "      <td>NaN</td>\n",
       "      <td>NaN</td>\n",
       "      <td>NaN</td>\n",
       "      <td>60.000000</td>\n",
       "      <td>1.000000</td>\n",
       "      <td>5.000000</td>\n",
       "      <td>5.000000</td>\n",
       "      <td>5.000000</td>\n",
       "      <td>NaN</td>\n",
       "      <td>NaN</td>\n",
       "    </tr>\n",
       "    <tr>\n",
       "      <th>25%</th>\n",
       "      <td>NaN</td>\n",
       "      <td>NaN</td>\n",
       "      <td>NaN</td>\n",
       "      <td>486.000000</td>\n",
       "      <td>8.100000</td>\n",
       "      <td>8.500000</td>\n",
       "      <td>9.100000</td>\n",
       "      <td>8.800000</td>\n",
       "      <td>NaN</td>\n",
       "      <td>NaN</td>\n",
       "    </tr>\n",
       "    <tr>\n",
       "      <th>50%</th>\n",
       "      <td>NaN</td>\n",
       "      <td>NaN</td>\n",
       "      <td>NaN</td>\n",
       "      <td>673.000000</td>\n",
       "      <td>8.700000</td>\n",
       "      <td>8.800000</td>\n",
       "      <td>9.300000</td>\n",
       "      <td>9.200000</td>\n",
       "      <td>NaN</td>\n",
       "      <td>NaN</td>\n",
       "    </tr>\n",
       "    <tr>\n",
       "      <th>75%</th>\n",
       "      <td>NaN</td>\n",
       "      <td>NaN</td>\n",
       "      <td>NaN</td>\n",
       "      <td>1000.000000</td>\n",
       "      <td>9.200000</td>\n",
       "      <td>9.200000</td>\n",
       "      <td>9.500000</td>\n",
       "      <td>9.500000</td>\n",
       "      <td>NaN</td>\n",
       "      <td>NaN</td>\n",
       "    </tr>\n",
       "    <tr>\n",
       "      <th>max</th>\n",
       "      <td>NaN</td>\n",
       "      <td>NaN</td>\n",
       "      <td>NaN</td>\n",
       "      <td>25200.000000</td>\n",
       "      <td>10.000000</td>\n",
       "      <td>10.000000</td>\n",
       "      <td>10.000000</td>\n",
       "      <td>10.000000</td>\n",
       "      <td>NaN</td>\n",
       "      <td>NaN</td>\n",
       "    </tr>\n",
       "  </tbody>\n",
       "</table>\n",
       "</div>"
      ],
      "text/plain": [
       "                             hotelName  \\\n",
       "count                             3626   \n",
       "unique                            2737   \n",
       "top     Beauty Apt in Central location   \n",
       "freq                                 6   \n",
       "mean                               NaN   \n",
       "std                                NaN   \n",
       "min                                NaN   \n",
       "25%                                NaN   \n",
       "50%                                NaN   \n",
       "75%                                NaN   \n",
       "max                                NaN   \n",
       "\n",
       "                                    hotelAddress  \\\n",
       "count                                       3626   \n",
       "unique                                      2548   \n",
       "top     7 Mendele Mokher Sfarim Street, Tel Aviv   \n",
       "freq                                          11   \n",
       "mean                                         NaN   \n",
       "std                                          NaN   \n",
       "min                                          NaN   \n",
       "25%                                          NaN   \n",
       "50%                                          NaN   \n",
       "75%                                          NaN   \n",
       "max                                          NaN   \n",
       "\n",
       "                                         hotelDescription  pricePerNight  \\\n",
       "count                                                3626    3626.000000   \n",
       "unique                                               3429            NaN   \n",
       "top     Attractively located in Tel Aviv, Selina Frish...            NaN   \n",
       "freq                                                    3            NaN   \n",
       "mean                                                  NaN     989.474076   \n",
       "std                                                   NaN    1277.180745   \n",
       "min                                                   NaN      60.000000   \n",
       "25%                                                   NaN     486.000000   \n",
       "50%                                                   NaN     673.000000   \n",
       "75%                                                   NaN    1000.000000   \n",
       "max                                                   NaN   25200.000000   \n",
       "\n",
       "        scoreGeneral  scoreValueForMoney  scoreLocation   scoreClean  \\\n",
       "count    3626.000000         3626.000000    3626.000000  3626.000000   \n",
       "unique           NaN                 NaN            NaN          NaN   \n",
       "top              NaN                 NaN            NaN          NaN   \n",
       "freq             NaN                 NaN            NaN          NaN   \n",
       "mean        8.430061            8.796663       9.224242     9.114231   \n",
       "std         1.404910            0.680967       0.544606     0.652720   \n",
       "min         1.000000            5.000000       5.000000     5.000000   \n",
       "25%         8.100000            8.500000       9.100000     8.800000   \n",
       "50%         8.700000            8.800000       9.300000     9.200000   \n",
       "75%         9.200000            9.200000       9.500000     9.500000   \n",
       "max        10.000000           10.000000      10.000000    10.000000   \n",
       "\n",
       "                                Street      City  \n",
       "count                             3626      3626  \n",
       "unique                            2523       467  \n",
       "top     7 Mendele Mokher Sfarim Street  Tel Aviv  \n",
       "freq                                11       580  \n",
       "mean                               NaN       NaN  \n",
       "std                                NaN       NaN  \n",
       "min                                NaN       NaN  \n",
       "25%                                NaN       NaN  \n",
       "50%                                NaN       NaN  \n",
       "75%                                NaN       NaN  \n",
       "max                                NaN       NaN  "
      ]
     },
     "execution_count": 45,
     "metadata": {},
     "output_type": "execute_result"
    }
   ],
   "source": [
    "# Handling missing values:\n",
    "\n",
    "df = replaceMissingValues(df)\n",
    "df.describe(include=\"all\")"
   ]
  },
  {
   "cell_type": "code",
   "execution_count": 50,
   "metadata": {},
   "outputs": [
    {
     "name": "stderr",
     "output_type": "stream",
     "text": [
      "/opt/anaconda3/lib/python3.9/site-packages/seaborn/_decorators.py:36: FutureWarning: Pass the following variable as a keyword arg: x. From version 0.12, the only valid positional argument will be `data`, and passing other arguments without an explicit keyword will result in an error or misinterpretation.\n",
      "  warnings.warn(\n"
     ]
    },
    {
     "data": {
      "text/plain": [
       "360"
      ]
     },
     "execution_count": 50,
     "metadata": {},
     "output_type": "execute_result"
    },
    {
     "data": {
      "image/png": "[encoded data removed]",
      "text/plain": [
       "<Figure size 640x480 with 1 Axes>"
      ]
     },
     "metadata": {},
     "output_type": "display_data"
    }
   ],
   "source": [
    "# Handling with outliers:\n",
    "\n",
    "showOutliers(df, \"pricePerNight\")"
   ]
  },
  {
   "attachments": {},
   "cell_type": "markdown",
   "metadata": {},
   "source": [
    "It is clear to see here that the column \"pricePerNight\" has 360 outliers, according to the 1.5IQR method.\n",
    "\n",
    "Now, we need to understand whether the exceptions are really true or not. If so, we should leave them as they are. If not, the outliers must be handled and replaced by the median, the most frequent value or the next cell - depends on the column type.\n",
    "\n",
    "According to our data from Booking.com, there is a hotel that costs NIS 25,000 per night. There is no doubt that this is an outlier, as the average price is NIS 989 per night (25 times smaller!). However, we can see that this is a real price on Booking.com, so these cells should not be changed."
   ]
  },
  {
   "attachments": {},
   "cell_type": "markdown",
   "metadata": {},
   "source": [
    "## Back to Step 2: Data Acquisition"
   ]
  },
  {
   "attachments": {},
   "cell_type": "markdown",
   "metadata": {},
   "source": [
    "### Data Acquisition by API"
   ]
  },
  {
   "attachments": {},
   "cell_type": "markdown",
   "metadata": {},
   "source": [
    "Now, we need to go back to step 2 - data acquisition.\n",
    "\n",
    "At this point we will get the data about the distance of each city of a hotel to the TLV. This could not be done before step 3 of Data Handling, because at that stage we created a new column and extracted the city name from the entire address.\n",
    "\n",
    "The \"City\" column will now help us get the distance from the hotel city to TLV."
   ]
  },
  {
   "attachments": {},
   "cell_type": "markdown",
   "metadata": {},
   "source": [
    "#### Auxiliary Functions"
   ]
  },
  {
   "attachments": {},
   "cell_type": "markdown",
   "metadata": {},
   "source": [
    "In these two following function we calculate the distance between Tel-Aviv to another city.\n",
    "The calculation using an API which called GEODB in order to get the city ID and to find the distance."
   ]
  },
  {
   "cell_type": "code",
   "execution_count": null,
   "metadata": {},
   "outputs": [],
   "source": [
    "def getCityID(cityName):\n",
    "\n",
    "    # Set up the API endpoint URL\n",
    "    url = \"https://wft-geo-db.p.rapidapi.com/v1/geo/cities\"\n",
    "\n",
    "    # Set your API key and headers\n",
    "    api_key = \"b357d38c99mshac61197df8fd7c2p1d5cd7jsn2bfe93de690c\"\n",
    "    headers = {\n",
    "        \"X-RapidAPI-Key\": api_key,\n",
    "        \"X-RapidAPI-Host\": \"wft-geo-db.p.rapidapi.com\"\n",
    "    }\n",
    "\n",
    "    # Set the query parameters for the country code and name\n",
    "    params = {\n",
    "        \"countryIds\": \"IL\",\n",
    "        \"namePrefix\": cityName\n",
    "    }\n",
    "\n",
    "    # Send GET request to the API\n",
    "    response = requests.get(url, headers=headers, params=params)\n",
    "\n",
    "    # Check if the request was successful\n",
    "    if response.status_code == 200:\n",
    "        # Parse the response JSON\n",
    "        data = response.json()\n",
    "\n",
    "        # Check if any cities were found\n",
    "        if data[\"data\"]:\n",
    "            # Get the city ID from the first result\n",
    "            city_id = data[\"data\"][0][\"id\"]\n",
    "            print(\"City ID:\", city_id)\n",
    "            return city_id\n",
    "        else:\n",
    "            print(\"No matching cities found.\")\n",
    "            return np.nan\n",
    "    else:\n",
    "        print(\"Error:\", response.status_code)\n",
    "        return np.nan"
   ]
  },
  {
   "cell_type": "code",
   "execution_count": null,
   "metadata": {},
   "outputs": [],
   "source": [
    "def getCityDistance(cityID): \n",
    "    url = \"https://wft-geo-db.p.rapidapi.com/v1/geo/cities/54067/distance\"\n",
    "\n",
    "    querystring = {\"fromCityId\":\"54067\",\"distanceUnit\":\"km\",\"toCityId\":cityID}\n",
    "\n",
    "    headers = {\n",
    "        \"X-RapidAPI-Key\": \"b357d38c99mshac61197df8fd7c2p1d5cd7jsn2bfe93de690c\",\n",
    "        \"X-RapidAPI-Host\": \"wft-geo-db.p.rapidapi.com\"\n",
    "    }\n",
    "\n",
    "    response = requests.get(url, headers=headers, params=querystring)\n",
    "\n",
    "    print(response.json())\n",
    "    data = response.json()\n",
    "\n",
    "    if \"data\" in data:\n",
    "        return data[\"data\"]\n",
    "    else:\n",
    "        return None"
   ]
  },
  {
   "cell_type": "code",
   "execution_count": null,
   "metadata": {},
   "outputs": [],
   "source": [
    "# add a column with the distance from TLV\n",
    " # as real function\n",
    "def addDisTlvCol(df):\n",
    "\n",
    "    df['distance-TLV'] = ''\n",
    "\n",
    "    city_name = df['City'].tolist()\n",
    "    print(city_name)\n",
    "    TLVDis= []\n",
    "    \n",
    "    for city in city_name:\n",
    "        time.sleep(2)\n",
    "        city_id = getCityID(city)\n",
    "        time.sleep(1)\n",
    "        city_distance = getCityDistance(city_id)\n",
    "        TLVDis.append(city_distance)\n",
    "\n",
    "    for j in range(len(TLVDis)):\n",
    "        df.at[j,'distance-TLV'] = TLVDis[j]\n",
    "\n",
    "    return df"
   ]
  },
  {
   "attachments": {},
   "cell_type": "markdown",
   "metadata": {},
   "source": [
    "#### Main Function"
   ]
  },
  {
   "cell_type": "code",
   "execution_count": null,
   "metadata": {},
   "outputs": [],
   "source": [
    "###NOT important I have below the function which using the api to add new col with the distance to tlv\n",
    "# cityName = \"Haifa\"\n",
    "# city_id = getCityID(cityName)\n",
    "# time.sleep(1)\n",
    "# city_distance = getCityDistance(city_id)\n",
    "# if city_distance is not None:\n",
    "#     print(\"Distance:\", city_distance)\n",
    "# else:\n",
    "#     print(\"Distance information not available.\")\n"
   ]
  },
  {
   "attachments": {},
   "cell_type": "markdown",
   "metadata": {},
   "source": [
    "## Step 4: EDA"
   ]
  },
  {
   "attachments": {},
   "cell_type": "markdown",
   "metadata": {},
   "source": [
    "a little description and notes about this step..."
   ]
  },
  {
   "attachments": {},
   "cell_type": "markdown",
   "metadata": {},
   "source": [
    "#### Auxiliary Functions"
   ]
  },
  {
   "cell_type": "code",
   "execution_count": null,
   "metadata": {},
   "outputs": [],
   "source": [
    "# Code:\n",
    "\n"
   ]
  },
  {
   "attachments": {},
   "cell_type": "markdown",
   "metadata": {},
   "source": [
    "#### Main Function"
   ]
  },
  {
   "cell_type": "code",
   "execution_count": null,
   "metadata": {},
   "outputs": [],
   "source": [
    "# Main\n",
    "\n"
   ]
  },
  {
   "attachments": {},
   "cell_type": "markdown",
   "metadata": {},
   "source": [
    "write a bottom line about the corelation between distance and price..."
   ]
  },
  {
   "attachments": {},
   "cell_type": "markdown",
   "metadata": {},
   "source": [
    "## Step 5: Machine Learning"
   ]
  },
  {
   "attachments": {},
   "cell_type": "markdown",
   "metadata": {},
   "source": [
    "At this point we want to predict the price per night of a hotel, based on its city and its scores.\n",
    "\n",
    "Since we want to predict an exact number, we need to use the Linear Regression method."
   ]
  },
  {
   "attachments": {},
   "cell_type": "markdown",
   "metadata": {},
   "source": [
    "### Auxiliary Functions"
   ]
  },
  {
   "cell_type": "code",
   "execution_count": 53,
   "metadata": {},
   "outputs": [],
   "source": [
    "# Create a scatterplot easily:\n",
    "\n",
    "def showScatterPlot(df, xColumn, yCols, yCaption):\n",
    "\n",
    "    markers = [\".\",\"s\",\"P\", \"*\", \"D\"]\n",
    "    colors = [\"r\", \"b\", \"k\"]\n",
    "\n",
    "    for index, yCol in enumerate(yCols):\n",
    "        plt.scatter(x=df[xColumn],y=df[yCol],c=colors[index%3],marker=markers[index%5],label=yCol)\n",
    "\n",
    "    plt.legend(numpoints=1,loc=4)\n",
    "    plt.xlabel(xColumn)\n",
    "    plt.ylabel(yCaption)\n",
    "    plt.show()"
   ]
  },
  {
   "cell_type": "code",
   "execution_count": 52,
   "metadata": {},
   "outputs": [],
   "source": [
    "# Create a scatterplot with predict of model:\n",
    "\n",
    "def showScatterPlotPredict(df):\n",
    "    \n",
    "    plt.scatter(x=advert['Digital'],y=advert['Sales'],c='k',marker='*',label='Digital')\n",
    "    plt.plot(advert['Digital'],m.predict(advert.iloc[:,0:1]),'k',color='blue',linewidth=3)\n",
    "\n",
    "    plt.xlabel('Digital budget (Thousands of dollars)')\n",
    "    plt.ylabel('Sales (Thousand units of product)')\n",
    "    plt.show()"
   ]
  },
  {
   "cell_type": "code",
   "execution_count": null,
   "metadata": {},
   "outputs": [],
   "source": [
    "# "
   ]
  },
  {
   "attachments": {},
   "cell_type": "markdown",
   "metadata": {},
   "source": [
    "### Main Function"
   ]
  },
  {
   "cell_type": "code",
   "execution_count": 61,
   "metadata": {},
   "outputs": [
    {
     "data": {
      "image/png": "[encoded data removed]",
      "text/plain": [
       "<Figure size 1000x600 with 1 Axes>"
      ]
     },
     "metadata": {},
     "output_type": "display_data"
    }
   ],
   "source": [
    "# Basic data visualisation for hints on regression:\n",
    "showScatterPlot(df, \"scoreGeneral\", [\"scoreClean\"], \"scoreClean\")"
   ]
  },
  {
   "attachments": {},
   "cell_type": "markdown",
   "metadata": {},
   "source": [
    "According to the graph, it can be seen that there may be a linear regression relationship for these columns."
   ]
  },
  {
   "cell_type": "code",
   "execution_count": null,
   "metadata": {},
   "outputs": [],
   "source": [
    "m = linear_model.LinearRegression().fit(df.iloc[:,0:1],df.iloc[:,3:])\n",
    "showScatterPlotPredict(df)"
   ]
  },
  {
   "cell_type": "code",
   "execution_count": null,
   "metadata": {},
   "outputs": [],
   "source": [
    "# Evaluation of "
   ]
  },
  {
   "attachments": {},
   "cell_type": "markdown",
   "metadata": {},
   "source": [
    "## Summary"
   ]
  },
  {
   "attachments": {},
   "cell_type": "markdown",
   "metadata": {},
   "source": [
    "a little paragraph that sums up the job\n",
    "\n",
    "can't trust 100% third side - like the API, booking.com ...\n",
    "\n",
    "repeat the conclusion about the corlation between the price and the distance, explain it is possible to predict ...\n",
    "\n",
    "We enjoyed ... Recommend others to deal with Data Science..."
   ]
  }
 ],
 "metadata": {
  "kernelspec": {
   "display_name": "Python 3",
   "language": "python",
   "name": "python3"
  },
  "language_info": {
   "codemirror_mode": {
    "name": "ipython",
    "version": 3
   },
   "file_extension": ".py",
   "mimetype": "text/x-python",
   "name": "python",
   "nbconvert_exporter": "python",
   "pygments_lexer": "ipython3",
   "version": "3.9.13"
  },
  "orig_nbformat": 4
 },
 "nbformat": 4,
 "nbformat_minor": 2
}
